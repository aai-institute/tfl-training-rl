{
 "cells": [
  {
   "cell_type": "code",
   "execution_count": 1,
   "metadata": {},
   "outputs": [],
   "source": [
    "%%capture\n",
    "%load_ext autoreload\n",
    "%autoreload 2\n",
    "%matplotlib inline\n",
    "%load_ext training_rl\n",
    "%set_random_seed 12"
   ]
  },
  {
   "cell_type": "code",
   "execution_count": 2,
   "metadata": {},
   "outputs": [
    {
     "data": {
      "text/html": [
       "<style>/*\n",
       "This file is mainly copy-pasta from rise's examples\n",
       "https://github.com/damianavila/RISE/blob/master/examples/rise.css\n",
       "that was further customized for appliedAI purposes\n",
       "*/\n",
       "@import url('https://fonts.googleapis.com/css2?family=Work+Sans:wght@400&display=swap');\n",
       "\n",
       "\n",
       "/*\n",
       "body {\n",
       "    font-family: 'Work Sans', sans-serif !important;\n",
       "    text-transform: initial !important;\n",
       "    letter-spacing: initial !important;\n",
       "    font-weight: 400 !important;\n",
       "    line-height: 1.5 !important;\n",
       "    text-size-adjust: 100% !important;\n",
       "    ‑webkit‑text‑size‑adjust: 100% !important;\n",
       "}\n",
       "\n",
       "\n",
       ".reveal, div.text_cell_render, .md-slide, .sidebar-wrapper {\n",
       "    font-size: 1.5rem !important;\n",
       "}\n",
       "*/\n",
       "\n",
       ".navbar-default .navbar-nav > li > a {\n",
       "    color: #00747b !important;\n",
       "}\n",
       "\n",
       ".filename {\n",
       "    font-size: 2.4rem !important;\n",
       "    color: #212529 !important;\n",
       "    font-weight: 600 !important;\n",
       "}\n",
       "\n",
       ".reveal, .md-slide {\n",
       "    color: white !important;\n",
       "}\n",
       "\n",
       "h1, h2 {\n",
       "    color: #00747b !important;\n",
       "}\n",
       "\n",
       "h3, h4, h5, h6 {\n",
       "    color: #808080 !important;\n",
       "}\n",
       "\n",
       ".reveal p, .reveal ol, .reveal dl, .reveal ul,\n",
       "div.text_cell_render {\n",
       "    color: #212529 !important;\n",
       "}\n",
       "\n",
       "/*copied from stackoverflow, better spacing between list items*/\n",
       "li + li {\n",
       "  margin-top: 0.2em;\n",
       "}\n",
       "\n",
       "body.rise-enabled .reveal ol, body.rise-enabled .reveal dl, body.rise-enabled .reveal ul {\n",
       "    margin-left: 0.1em;\n",
       "    margin-top: 0.2em;\n",
       "}\n",
       "\n",
       ".reveal .rendered_html h1:first-child,\n",
       ".reveal .rendered_html h2:first-child,\n",
       ".reveal .rendered_html h3:first-child,\n",
       ".reveal .rendered_html h4:first-child,\n",
       ".reveal .rendered_html h5:first-child {\n",
       "    margin-top: 0.2em;\n",
       "}\n",
       "\n",
       "/*\n",
       ".CodeMirror-lines, .output_text {\n",
       "    font-size: 1.5rem !important;\n",
       "}\n",
       "*/\n",
       "\n",
       "h1.plan, h2.plan, h3.plan {\n",
       "    text-align: center;\n",
       "    padding-bottom: 30px;\n",
       "}\n",
       "\n",
       "ul.plan>li>span.plan-bold {\n",
       "    font-size: 110%;\n",
       "    padding: 4px;\n",
       "    font-weight: bold;\n",
       "    background-color: #eee;\n",
       "}\n",
       "\n",
       "ul.plan>li>ul.subplan>li>span.plan-bold {\n",
       "    font-weight: bold;\n",
       "}\n",
       "\n",
       ".plan-strike {\n",
       "    opacity: 0.4;\n",
       "/*    text-decoration: line-through; */\n",
       "}\n",
       "\n",
       "div.plan-container {\n",
       "    display: grid;\n",
       "    grid-template-columns: 50% 50%;\n",
       "}\n",
       "\n",
       "/*\n",
       " * this is to void xarray's html output to show the fallback textual representation\n",
       " * see also\n",
       "   * xarray.md and\n",
       "   * https://github.com/damianavila/RISE/issues/594\n",
       " */\n",
       ".reveal pre.xr-text-repr-fallback {\n",
       "    display: none;\n",
       "}\n",
       "\n",
       "#toc-header, .toc-item li {\n",
       "    margin: auto !important;\n",
       "    color: #808080 !important;\n",
       "}\n",
       "\n",
       "#toc, #toc-wrapper, .toc-item-num, #toc a, .toc {\n",
       "    margin: auto !important;\n",
       "    color: #00747b !important;\n",
       "}\n",
       "\n",
       "#toc-wrapper {\n",
       "    top: auto !important;\n",
       "    bottom: auto !important;\n",
       "    margin-top: 2rem !important;\n",
       "    color: #00747b !important;\n",
       "}\n",
       "\n",
       "\n",
       "#rise-header {\n",
       "    margin: 10px;\n",
       "    left: 5%;\n",
       "}\n",
       "\n",
       "#rise-footer {\n",
       "    margin: 10px;\n",
       "    right: 5%;\n",
       "}\n",
       "\n",
       "#rise-backimage {\n",
       "    opacity: 0.70;\n",
       "}\n",
       "\n",
       ".reveal img {\n",
       "    max-width: 100%;\n",
       "}\n",
       "\n",
       "\n",
       ".md-slide.title {\n",
       "    position: relative;\n",
       "    top: -50%;\n",
       "    margin-left: 5%;\n",
       "    font-size: 4em !important;\n",
       "    line-height: 1.6;\n",
       "}\n",
       "</style>"
      ],
      "text/plain": [
       "<IPython.core.display.HTML object>"
      ]
     },
     "execution_count": 2,
     "metadata": {},
     "output_type": "execute_result"
    }
   ],
   "source": [
    "%presentation_style"
   ]
  },
  {
   "cell_type": "code",
   "execution_count": 3,
   "metadata": {},
   "outputs": [
    {
     "data": {
      "text/markdown": [
       "\n",
       "$\\newcommand{\\vect}[1]{{\\mathbf{\\boldsymbol{#1}} }}$\n",
       "$\\newcommand{\\amax}{{\\text{argmax}}}$\n",
       "$\\newcommand{\\P}{{\\mathbb{P}}}$\n",
       "$\\newcommand{\\E}{{\\mathbb{E}}}$\n",
       "$\\newcommand{\\R}{{\\mathbb{R}}}$\n",
       "$\\newcommand{\\Z}{{\\mathbb{Z}}}$\n",
       "$\\newcommand{\\N}{{\\mathbb{N}}}$\n",
       "$\\newcommand{\\C}{{\\mathbb{C}}}$\n",
       "$\\newcommand{\\abs}[1]{{ \\left| #1 \\right| }}$\n",
       "$\\newcommand{\\simpl}[1]{{\\Delta^{#1} }}$\n"
      ],
      "text/plain": [
       "<IPython.core.display.Markdown object>"
      ]
     },
     "metadata": {},
     "output_type": "display_data"
    }
   ],
   "source": [
    "%load_latex_macros"
   ]
  },
  {
   "cell_type": "code",
   "execution_count": 4,
   "metadata": {},
   "outputs": [],
   "source": [
    "import os\n",
    "%autoreload\n",
    "import random\n",
    "import warnings\n",
    "\n",
    "import gymnasium as gym\n",
    "import minari\n",
    "import numpy as np\n",
    "from minari import DataCollectorV0, StepDataCallback\n",
    "\n",
    "from training_rl.offline_rl.custom_envs.custom_2d_grid_env.obstacles_2D_grid_register import \\\n",
    "    ObstacleTypes\n",
    "from training_rl.offline_rl.custom_envs.custom_2d_grid_env.simple_grid import \\\n",
    "    Custom2DGridEnv\n",
    "from training_rl.offline_rl.custom_envs.custom_envs_registration import (\n",
    "    CustomEnv, RenderMode, register_grid_envs)\n",
    "from training_rl.offline_rl.custom_envs.utils import (\n",
    "    Grid2DInitialConfig, InitialConfigCustom2DGridEnvWrapper)\n",
    "from training_rl.offline_rl.generate_custom_minari_datasets.utils import \\\n",
    "    generate_compatible_minari_dataset_name\n",
    "from training_rl.offline_rl.load_env_variables import load_env_variables\n",
    "from training_rl.offline_rl.offline_policies.offpolicy_rendering import \\\n",
    "    offpolicy_rendering\n",
    "from training_rl.offline_rl.utils import (delete_minari_data_if_exists,\n",
    "                                          load_buffer_minari,\n",
    "                                          one_hot_to_integer,\n",
    "                                          state_action_histogram)\n",
    "from training_rl.offline_rl.visualizations.utils import (\n",
    "    get_state_action_data_and_policy_grid_distributions, snapshot_env)\n",
    "\n",
    "load_env_variables()\n",
    "\n",
    "warnings.filterwarnings(\"ignore\")\n",
    "# To get access to the registered environments.\n",
    "register_grid_envs()\n",
    "\n",
    "render_mode = RenderMode.RGB_ARRAY_LIST if os.environ.get(\"DISPLAY\") else None"
   ]
  },
  {
   "cell_type": "markdown",
   "metadata": {},
   "source": [
    "<img src=\"_static/images/aai-institute-cover.svg\" alt=\"Snow\" style=\"width:100%;\">\n",
    "<div class=\"md-slide title\"> Minari Overview </div>"
   ]
  },
  {
   "cell_type": "markdown",
   "metadata": {},
   "source": [
    "# Minari overview"
   ]
  },
  {
   "cell_type": "markdown",
   "metadata": {},
   "source": [
    "## Introduction\n",
    "\n",
    "Unfortunately not supported in windows (maybe mainly because of Mujoco dependency)\n",
    "\n",
    "1 - **[Intro Minari](https://minari.farama.org/main/content/basic_usage/)**\n",
    "\n",
    "Can be used to collect data given a gymnasium environment:\n",
    "\n",
    "    from minari import DataCollectorV0\n",
    "    import gymnasium as gym\n",
    "\n",
    "    env = gym.make('LunarLander-v2')\n",
    "    env = DataCollectorV0(env, record_infos=True, max_buffer_steps=10000)\n",
    "\n",
    "\n",
    "Has different functionalities like to add useful metadata to the datasets, fuse data coming from different behavioral policies, custom preprocessing of the collected (observation, action, reward) data, add new data to existing datasets, restore the environments associated with your data, etc. We will use some of these functionalities in our exercises.\n",
    "\n",
    "However, is not a very robust library so in the possible it is better to have your own functions to restore your environment, load metadata, etc. And rely on Minari as little as possible. We will see that in the notebook exercises.\n",
    "\n",
    "\n",
    "Of course one of its main use is to Download the very useful datasets available online as well as to have access to the policies used to generate them: [datasets](https://minari.farama.org/main/datasets/pen/human/)\n",
    "\n",
    "\n",
    "Many interesting datasets uses the Mujoco C/C++ library.\n",
    "\n",
    "2 - **[Mujoco](https://github.com/google-deepmind/mujoco)**\n",
    "\n",
    "MuJoCo, short for Multi-Joint dynamics with Contact, is a versatile physics engine designed to support research and development across various fields, including robotics, bio-mechanics, graphics, animation, machine learning, and more. Originally created by Robotic LLC, it was later acquired by DeepMind and made freely accessible to the public in October 2021. Furthermore, it was open-sourced in May 2022."
   ]
  },
  {
   "cell_type": "markdown",
   "metadata": {},
   "source": [
    "### Exercise I"
   ]
  },
  {
   "cell_type": "markdown",
   "metadata": {},
   "source": [
    "**In this notebook, we will create our own suboptimal policy and generate a Minari dataset using the collected data. The primary goal is to become familiar with the Minari library and learn how to collect data in the form of (step, action, reward) using it.**"
   ]
  },
  {
   "cell_type": "markdown",
   "metadata": {},
   "source": [
    "**We will design a suboptimal behavioral policy, denoted as $\\pi_b$, to guide an agent through a 2-dimensional 8x8 grid world. The agent's starting position is at (0, 0), and the objective is to reach a target located at (0, 7). During this process, we will collect data from our policy.**\n",
    "\n",
    "**Notation:**\n",
    "\n",
    "In our grid world environment, the agent's position is represented as $(x_1, x_2)$, where $x_1$ corresponds to the vertical coordinate, and $x_2$ corresponds to the horizontal coordinate. Additionally, we've placed obstacles within the environment to increase the task's complexity.\n",
    "\n",
    "Observations are represented as a 64-dimensional vector since we are working with a 8x8 grid. All vector elements are set to zero, except for the position where the agent is located, which is set to one.\n",
    "\n",
    "The action is represented by an integer in the range of [0, 1, 2, 3], each indicating a direction:\n",
    "\n",
    "    0: (-1, 0) - UP\n",
    "    1: (1, 0) - DOWN\n",
    "    2: (0, -1) - LEFT\n",
    "    3: (0, 1) - RIGHT\n",
    "\n",
    "Now, let's proceed to create the environment and take a closer look at it."
   ]
  },
  {
   "cell_type": "code",
   "execution_count": 5,
   "metadata": {},
   "outputs": [
    {
     "data": {
      "image/png": "[encoded data removed]",
      "text/plain": [
       "<Figure size 640x480 with 1 Axes>"
      ]
     },
     "metadata": {},
     "output_type": "display_data"
    }
   ],
   "source": [
    "# We have different 2-d grid environments registered.\n",
    "ENV_NAME = CustomEnv.Grid_2D_8x8_discrete\n",
    "\n",
    "# Configure the environment initial conditions. We also have different obstacles registered\n",
    "# in ObstacleTypes. \n",
    "env_2d_grid_initial_config = Grid2DInitialConfig(\n",
    "    obstacles=ObstacleTypes.vertical_object_8x8,\n",
    "    initial_state=(0, 0),\n",
    "    target_state=(0, 7),\n",
    ")\n",
    "\n",
    "env = InitialConfigCustom2DGridEnvWrapper(\n",
    "    gym.make(ENV_NAME, render_mode=render_mode),\n",
    "    env_config=env_2d_grid_initial_config\n",
    ")\n",
    "\n",
    "snapshot_env(env)"
   ]
  },
  {
   "cell_type": "markdown",
   "metadata": {},
   "source": []
  },
  {
   "cell_type": "markdown",
   "metadata": {},
   "source": [
    "Create a suboptimal behavioral policy, $\\pi_b$:\n",
    "\n",
    "    def behavior_suboptimal_policy(state: np.ndarray, env: \n",
    "                                                     Custom2DGridEnv) -> int:\n",
    "\n",
    "        state_index = one_hot_to_integer(state)\n",
    "        state_xy = env.to_xy(state_index)\n",
    "\n",
    "        ...\n",
    "\n",
    "        return action\n",
    "        \n",
    "(Note: In practical scenarios, the environment would not be supplied to the policy. We include it here for simplicity.)\n",
    "\n",
    "This policy should meet the following criteria:\n",
    "\n",
    "1 - Guide the agent from its initial position at (0, 0) to a target located at (0, 7).\n",
    "\n",
    "2 - Incorporate stochastic movement with a restriction of not traversing more than 5 cells \n",
    "    vertically while introducing a bias towards the right direction to make it suboptimal.\n",
    "    \n",
    "Hint: To ensure that everything is working correctly, you can visualize the policy using the **offpolicy_rendering(...)** function:\n",
    "\n",
    "    offpolicy_rendering(\n",
    "        env_or_env_name=ENV_NAME,\n",
    "        render_mode=render_mode,\n",
    "        policy_model= behavior_suboptimal_policy,\n",
    "        env_2d_grid_initial_config=env_2d_grid_initial_config,\n",
    "        num_frames=100,\n",
    "    )"
   ]
  },
  {
   "cell_type": "markdown",
   "metadata": {},
   "source": [
    "**SOLUTION:**"
   ]
  },
  {
   "cell_type": "code",
   "execution_count": 6,
   "metadata": {},
   "outputs": [
    {
     "data": {
      "text/html": [
       "<table class=\"show_videos\" style=\"border-spacing:0px;\"><tr><td style=\"padding:1px;\"><div style=\"display:flex; align-items:left;\">\n",
       "      <div style=\"display:flex; flex-direction:column; align-items:center;\">\n",
       "      <div>2d-GridWorld</div><div><video controls width=\"256\" height=\"256\" style=\"object-fit:cover;\" loop autoplay muted>\n",
       "      <source src=\"data:video/mp4;base64,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\" type=\"video/mp4\"/>\n",
       "      This browser does not support the video tag.\n",
       "      </video></div></div></div></td></tr></table>"
      ],
      "text/plain": [
       "<IPython.core.display.HTML object>"
      ]
     },
     "metadata": {},
     "output_type": "display_data"
    }
   ],
   "source": [
    "def behavior_suboptimal_policy(state: np.ndarray, env: Custom2DGridEnv) -> int:\n",
    "\n",
    "    state_index = one_hot_to_integer(state)\n",
    "    state_xy = env.to_xy(state_index)\n",
    "\n",
    "    possible_directions = [0, 1, 2, 3]\n",
    "    weights = [1, 1, 1, 2]\n",
    "\n",
    "    if state_xy[0] == 4:\n",
    "        weights = [2, 1, 2]\n",
    "        possible_directions = [0, 2, 3]\n",
    "\n",
    "    random_directions = random.choices(possible_directions, weights=weights)[0]\n",
    "\n",
    "    return random_directions\n",
    "\n",
    "offpolicy_rendering(\n",
    "    env_or_env_name=ENV_NAME,\n",
    "    render_mode=render_mode,\n",
    "    policy_model= behavior_suboptimal_policy,\n",
    "    env_2d_grid_initial_config=env_2d_grid_initial_config,\n",
    "    num_frames=100,\n",
    ")"
   ]
  },
  {
   "cell_type": "markdown",
   "metadata": {},
   "source": [
    "Now, using our suboptimal policy, we will proceed to collect data and generate a custom Minari dataset.\n",
    "\n",
    "Give a look to [Minari documentation](https://minari.farama.org/main/content/basic_usage/) if needed."
   ]
  },
  {
   "cell_type": "markdown",
   "metadata": {},
   "source": [
    "### Exercise II"
   ]
  },
  {
   "cell_type": "markdown",
   "metadata": {},
   "source": [
    "Create your own Minari dataset using the behavior_suboptimal_policy.\n",
    "\n",
    "Hint: Remember to use the DataCollectorV0 wrapper provided in the Minari library."
   ]
  },
  {
   "cell_type": "markdown",
   "metadata": {},
   "source": [
    "**SOLUTION:**"
   ]
  },
  {
   "cell_type": "code",
   "execution_count": 7,
   "metadata": {},
   "outputs": [
    {
     "name": "stdout",
     "output_type": "stream",
     "text": [
      "Dataset Grid_2D_8x8_discrete-data_rl_workshop-v0 deleted!\n"
     ]
    }
   ],
   "source": [
    "DATA_SET_NAME = \"data\"\n",
    "DATA_SET_IDENTIFIER = \"_rl_workshop\"\n",
    "VERSION_DATA_SET = \"v0\"\n",
    "BUFFER_SIZE = 1000\n",
    "\n",
    "\n",
    "DATA_SET_NAME += DATA_SET_IDENTIFIER\n",
    "minari_dataset_name = generate_compatible_minari_dataset_name(ENV_NAME, DATA_SET_NAME, VERSION_DATA_SET)\n",
    "\n",
    "delete_minari_data_if_exists(minari_dataset_name)\n",
    "\n",
    "# Useful for data preprocessing\n",
    "class CustomSubsetStepDataCallback(StepDataCallback):\n",
    "    def __call__(self, env, **kwargs):\n",
    "        step_data = super().__call__(env, **kwargs)\n",
    "        #del step_data[\"observations\"][\"achieved_goal\"]\n",
    "        return step_data\n",
    "\n",
    "env = DataCollectorV0(\n",
    "    env,\n",
    "    step_data_callback=CustomSubsetStepDataCallback,\n",
    "    record_infos=False,\n",
    ")\n",
    "\n",
    "state, _ = env.reset()\n",
    "\n",
    "num_steps = 0\n",
    "for _ in range(BUFFER_SIZE):\n",
    "\n",
    "    action = behavior_suboptimal_policy(state, env)\n",
    "\n",
    "    next_state, reward, done, time_out, info = env.step(action)\n",
    "    num_steps += 1\n",
    "\n",
    "    if done or time_out:\n",
    "        state, _ = env.reset()\n",
    "        num_steps=0\n",
    "    else:\n",
    "        state = next_state\n",
    "\n",
    "\n",
    "dataset = minari.create_dataset_from_collector_env(dataset_id=minari_dataset_name, collector_env=env)"
   ]
  },
  {
   "cell_type": "markdown",
   "metadata": {},
   "source": [
    "Let's visualize the state-action distribution data.\n",
    "\n",
    "First, let's upload the Minari dataset in a Tianshou ReplyBuffer object."
   ]
  },
  {
   "cell_type": "code",
   "execution_count": 8,
   "metadata": {},
   "outputs": [
    {
     "name": "stdout",
     "output_type": "stream",
     "text": [
      "Dataset /home/ivan/Documents/GIT_PROJECTS/tfl-training-rl/src/training_rl/offline_rl/data/offline_data/Grid_2D_8x8_discrete-data_rl_workshop-v0 downloaded. number of episodes: 23\n"
     ]
    },
    {
     "data": {
      "image/png": "[encoded data removed]",
      "text/plain": [
       "<Figure size 1000x500 with 1 Axes>"
      ]
     },
     "metadata": {},
     "output_type": "display_data"
    },
    {
     "data": {
      "image/png": "[encoded data removed]",
      "text/plain": [
       "<Figure size 640x480 with 1 Axes>"
      ]
     },
     "metadata": {},
     "output_type": "display_data"
    }
   ],
   "source": [
    "NAME_EXPERT_DATA = \"Grid_2D_8x8_discrete-data_rl_workshop-v0\"\n",
    "data = load_buffer_minari(NAME_EXPERT_DATA)\n",
    "\n",
    "state_action_count_data, _ = \\\n",
    "    get_state_action_data_and_policy_grid_distributions(data, env)\n",
    "new_keys = [(env.to_xy(state_action[0]), state_action[1]) for state_action in list(state_action_count_data.keys())]\n",
    "state_action_histogram(state_action_count_data, title=\"State-Action data distribution\",new_keys_for_state_action_count_plot=new_keys)\n",
    "snapshot_env(env)"
   ]
  },
  {
   "cell_type": "markdown",
   "metadata": {},
   "source": [
    "The distribution makes sense. From states (5,0) to (7,7), our policy doesn't collect any data, neither around the obstacle."
   ]
  },
  {
   "cell_type": "markdown",
   "metadata": {},
   "source": [
    "## References\n",
    "\n",
    "[ \\[Fu.Justin et. al.\\] D4RL: Datasets for Deep Data-Driven Reinforcement Learning](https://arxiv.org/abs/2004.07219)\n",
    "\n",
    "[ MINARI: A dataset API for Offline Reinforcement Learning ](https://minari.farama.org/main/content/basic_usage/)"
   ]
  },
  {
   "cell_type": "code",
   "execution_count": null,
   "metadata": {},
   "outputs": [],
   "source": []
  }
 ],
 "metadata": {
  "kernelspec": {
   "display_name": "training_rl",
   "language": "python",
   "name": "training_rl"
  },
  "language_info": {
   "codemirror_mode": {
    "name": "ipython",
    "version": 3
   },
   "file_extension": ".py",
   "mimetype": "text/x-python",
   "name": "python",
   "nbconvert_exporter": "python",
   "pygments_lexer": "ipython3",
   "version": "3.11.8"
  },
  "toc": {
   "base_numbering": 1,
   "nav_menu": {},
   "number_sections": true,
   "sideBar": true,
   "skip_h1_title": false,
   "title_cell": "Table of Contents",
   "title_sidebar": "Contents",
   "toc_cell": false,
   "toc_position": {},
   "toc_section_display": true,
   "toc_window_display": true
  }
 },
 "nbformat": 4,
 "nbformat_minor": 1
}
