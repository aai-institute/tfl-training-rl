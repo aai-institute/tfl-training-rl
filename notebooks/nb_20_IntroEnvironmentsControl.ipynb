{
 "cells": [
  {
   "cell_type": "code",
   "execution_count": null,
   "metadata": {
    "init_cell": true,
    "slideshow": {
     "slide_type": "skip"
    }
   },
   "outputs": [],
   "source": [
    "%%capture\n",
    "%load_ext autoreload\n",
    "%autoreload 2\n",
    "%matplotlib inline\n",
    "%load_ext training_rl\n",
    "%set_random_seed 12"
   ]
  },
  {
   "cell_type": "code",
   "execution_count": null,
   "metadata": {
    "init_cell": true,
    "slideshow": {
     "slide_type": "skip"
    }
   },
   "outputs": [],
   "source": [
    "%presentation_style"
   ]
  },
  {
   "cell_type": "code",
   "execution_count": null,
   "metadata": {
    "init_cell": true,
    "slideshow": {
     "slide_type": "skip"
    }
   },
   "outputs": [],
   "source": [
    "%load_latex_macros"
   ]
  },
  {
   "cell_type": "code",
   "execution_count": null,
   "metadata": {
    "init_cell": true,
    "slideshow": {
     "slide_type": "skip"
    }
   },
   "outputs": [],
   "source": [
    "%autoreload\n",
    "import logging\n",
    "import math\n",
    "import os\n",
    "import tempfile\n",
    "import warnings\n",
    "from pathlib import Path\n",
    "from typing import Optional\n",
    "\n",
    "import control as ct\n",
    "import estimagic as em\n",
    "import gymnasium as gym\n",
    "import matplotlib.pyplot as plt\n",
    "import mediapy as media\n",
    "import numpy as np\n",
    "from ipywidgets import interact, Output, widgets\n",
    "from IPython.display import display, HTML\n",
    "from numpy.typing import NDArray\n",
    "from scipy.special import expit\n",
    "\n",
    "from training_rl.environment import create_inverted_pendulum_environment\n",
    "\n",
    "warnings.simplefilter(\"ignore\", UserWarning)"
   ]
  },
  {
   "cell_type": "markdown",
   "metadata": {
    "slideshow": {
     "slide_type": "slide"
    }
   },
   "source": [
    "<img src=\"_static/images/aai-institute-cover.svg\" alt=\"Snow\" style=\"width:100%;\">\n",
    "<div class=\"md-slide title\">Introduction to Control Theory</div>"
   ]
  },
  {
   "cell_type": "markdown",
   "metadata": {
    "slideshow": {
     "slide_type": "slide"
    }
   },
   "source": [
    "# Introduction\n",
    "\n",
    "Control theory is a field of control engineering and applied mathematics that deals with the control of dynamical systems in engineered processes and machines. The objective is to develop a model or algorithm governing the application of system inputs to drive the system to a desired state, while minimizing any delay, overshoot, or steady-state error and ensuring a level of control stability; often with the aim to achieve a degree of optimality. "
   ]
  },
  {
   "cell_type": "markdown",
   "metadata": {
    "slideshow": {
     "slide_type": "subslide"
    }
   },
   "source": [
    "## Control Theory and Reinforcement Learning\n",
    "\n",
    "- System <-> Environment\n",
    "- Controller (Regulator) <-> Agent (Policy)\n",
    "- Control <-> Action\n",
    "- Cost <-> Reward"
   ]
  },
  {
   "cell_type": "markdown",
   "metadata": {
    "slideshow": {
     "slide_type": "slide"
    }
   },
   "source": [
    "# Inverted Pendulum\n",
    "\n",
    "<div>\n",
    "<div style=\"float: left; width: 60%; margin-right: 5%;\">\n",
    "    \n",
    "An inverted pendulum is a pendulum that has its center of mass above its pivot point. It is unstable and without additional help will fall over.\n",
    "\n",
    "The inverted pendulum is a classic problem in dynamics and control theory and is used as a benchmark for testing control strategies. It is often implemented with the pivot point mounted on a cart that can move horizontally under control of an electronic servo system as shown in the photo.\n",
    "</div>\n",
    "<div style=\"float: left; width: 30%;\">\n",
    "    <figure>\n",
    "        <img src=\"_static/images/20_inverted_pendulum_photo.png\" width=\"50%\"/>\n",
    "        <figcaption>\n",
    "            Balancing cart, a simple robotics system circa 1976. <a href=\"#wiki_inverted_pendulum\"><b id=\"wiki_inverted_pendulum-back\">[Wiki Inverted Pendulum]</b></a>\n",
    "        </figcaption>\n",
    "    </figure>\n",
    "</div>\n",
    "</div>\n"
   ]
  },
  {
   "cell_type": "code",
   "execution_count": null,
   "metadata": {
    "slideshow": {
     "slide_type": "subslide"
    }
   },
   "outputs": [],
   "source": [
    "%%html\n",
    "<iframe width=\"800\" height=\"600\" src=\"https://www.youtube-nocookie.com/embed/AuAZ5zOP0yQ?si=1Lnyg2ghX6BJEEVX&amp;start=55\" title=\"YouTube video player\" frameborder=\"0\" allow=\"accelerometer; autoplay; clipboard-write; encrypted-media; gyroscope; picture-in-picture; web-share\" allowfullscreen></iframe>"
   ]
  },
  {
   "cell_type": "markdown",
   "metadata": {
    "slideshow": {
     "slide_type": "subslide"
    }
   },
   "source": [
    "For the simulation we will use the [Inverted Pendulum](https://gymnasium.farama.org/environments/mujoco/inverted_pendulum/) environment from [gymnasium](https://gymnasium.farama.org/).\n",
    "\n",
    "It has the following possible action and observations:\n",
    "\n",
    "<table class=\"docutils align-default\">\n",
    "<thead>\n",
    "<tr class=\"row-odd\"><th class=\"head\"><p>Num</p></th>\n",
    "<th class=\"head\"><p>Action</p></th>\n",
    "<th class=\"head\"><p>Control Min</p></th>\n",
    "<th class=\"head\"><p>Control Max</p></th>\n",
    "<th class=\"head\"><p>Name (in corresponding XML file)</p></th>\n",
    "<th class=\"head\"><p>Joint</p></th>\n",
    "<th class=\"head\"><p>Unit</p></th>\n",
    "</tr>\n",
    "</thead>\n",
    "<tbody>\n",
    "<tr class=\"row-even\"><td><p>0</p></td>\n",
    "<td><p>Force applied on the cart</p></td>\n",
    "<td><p>-3</p></td>\n",
    "<td><p>3</p></td>\n",
    "<td><p>slider</p></td>\n",
    "<td><p>slide</p></td>\n",
    "<td><p>Force (N)</p></td>\n",
    "</tr>\n",
    "</tbody>\n",
    "</table>\n",
    "\n",
    "<table class=\"docutils align-default\">\n",
    "<thead>\n",
    "<tr class=\"row-odd\"><th class=\"head\"><p>Num</p></th>\n",
    "<th class=\"head\"><p>Observation</p></th>\n",
    "<th class=\"head\"><p>Min</p></th>\n",
    "<th class=\"head\"><p>Max</p></th>\n",
    "<th class=\"head\"><p>Name (in corresponding XML file)</p></th>\n",
    "<th class=\"head\"><p>Joint</p></th>\n",
    "<th class=\"head\"><p>Unit</p></th>\n",
    "</tr>\n",
    "</thead>\n",
    "<tbody>\n",
    "<tr class=\"row-even\"><td><p>0</p></td>\n",
    "<td><p>position of the cart along the linear surface</p></td>\n",
    "<td><p>-Inf</p></td>\n",
    "<td><p>Inf</p></td>\n",
    "<td><p>slider</p></td>\n",
    "<td><p>slide</p></td>\n",
    "<td><p>position (m)</p></td>\n",
    "</tr>\n",
    "<tr class=\"row-odd\"><td><p>1</p></td>\n",
    "<td><p>vertical angle of the pole on the cart</p></td>\n",
    "<td><p>-Inf</p></td>\n",
    "<td><p>Inf</p></td>\n",
    "<td><p>hinge</p></td>\n",
    "<td><p>hinge</p></td>\n",
    "<td><p>angle (rad)</p></td>\n",
    "</tr>\n",
    "<tr class=\"row-even\"><td><p>2</p></td>\n",
    "<td><p>linear velocity of the cart</p></td>\n",
    "<td><p>-Inf</p></td>\n",
    "<td><p>Inf</p></td>\n",
    "<td><p>slider</p></td>\n",
    "<td><p>slide</p></td>\n",
    "<td><p>velocity (m/s)</p></td>\n",
    "</tr>\n",
    "<tr class=\"row-odd\"><td><p>3</p></td>\n",
    "<td><p>angular velocity of the pole on the cart</p></td>\n",
    "<td><p>-Inf</p></td>\n",
    "<td><p>Inf</p></td>\n",
    "<td><p>hinge</p></td>\n",
    "<td><p>hinge</p></td>\n",
    "<td><p>anglular velocity (rad/s)</p></td>\n",
    "</tr>\n",
    "</tbody>\n",
    "</table>"
   ]
  },
  {
   "cell_type": "code",
   "execution_count": null,
   "metadata": {
    "slideshow": {
     "slide_type": "subslide"
    }
   },
   "outputs": [],
   "source": [
    "env = create_inverted_pendulum_environment()\n",
    "env.reset()\n",
    "all_frames = []\n",
    "for i in range(2):\n",
    "    for _ in range(100):\n",
    "        if i == 1:\n",
    "            action = np.zeros_like(env.action_space.sample())\n",
    "        else:\n",
    "            action = env.action_space.sample()\n",
    "        observation, _, terminated, truncated, _ = env.step(action)\n",
    "        if terminated or truncated:\n",
    "            all_frames.append(env.render())\n",
    "            env.reset()\n",
    "            break\n",
    "env.close()"
   ]
  },
  {
   "cell_type": "code",
   "execution_count": null,
   "metadata": {
    "slideshow": {
     "slide_type": "subslide"
    }
   },
   "outputs": [],
   "source": [
    "media.show_videos(all_frames, fps=1/env.dt)"
   ]
  },
  {
   "cell_type": "markdown",
   "metadata": {
    "slideshow": {
     "slide_type": "subslide"
    }
   },
   "source": [
    "## Questions\n",
    "\n",
    "- What can we say about the system?\n",
    "- How we balance the pendulum?"
   ]
  },
  {
   "cell_type": "markdown",
   "metadata": {
    "slideshow": {
     "slide_type": "subslide"
    }
   },
   "source": [
    "## Naive Control\n",
    "\n",
    "If we try to balance an elongated object on our hand, we intuitively try to move our hand in the same direction in which the object is falling. We can use this intuition to make a very simple and straightforward controller.\n",
    "\n",
    "$$\n",
    "u(t) = K * \\theta(t)\n",
    "$$\n",
    "\n",
    "with $K \\gt 0$"
   ]
  },
  {
   "cell_type": "markdown",
   "metadata": {
    "slideshow": {
     "slide_type": "subslide"
    }
   },
   "source": [
    "## Exercise\n",
    "\n",
    "Implement the naive controller described above and visualize the result.\n",
    "\n",
    "What is the best value for the coefficient?\n",
    "\n",
    "> **Hint** the second value in the `observation` vector represents the angle of the pendulum.\n",
    "> You can use `theta = observation[[1]]` to get its value. "
   ]
  },
  {
   "cell_type": "markdown",
   "metadata": {
    "slideshow": {
     "slide_type": "subslide"
    }
   },
   "source": [
    "##  Solution"
   ]
  },
  {
   "cell_type": "code",
   "execution_count": null,
   "metadata": {
    "scrolled": false,
    "slideshow": {
     "slide_type": "subslide"
    }
   },
   "outputs": [],
   "source": [
    "def control_inverted_pendulum(K = widgets.FloatSlider(min=0.0, max=1000.0, step=10, value=10.0)):\n",
    "    env = create_inverted_pendulum_environment()\n",
    "    observation, _ = env.reset()\n",
    "    for _ in range(100):\n",
    "        theta = observation[[1]]\n",
    "        action = K * theta\n",
    "        observation, _, terminated, truncated, _ = env.step(action)\n",
    "        if terminated or truncated:\n",
    "            frames = env.render()\n",
    "            env.reset()\n",
    "            break\n",
    "    env.close()\n",
    "    media.show_video(frames, fps=1/env.dt)\n",
    "interact(control_inverted_pendulum);"
   ]
  },
  {
   "cell_type": "markdown",
   "metadata": {
    "slideshow": {
     "slide_type": "subslide"
    }
   },
   "source": [
    "Let's try different values of $K$ and plot the different trajectories."
   ]
  },
  {
   "cell_type": "code",
   "execution_count": null,
   "metadata": {
    "slideshow": {
     "slide_type": "subslide"
    }
   },
   "outputs": [],
   "source": [
    "env = create_inverted_pendulum_environment()\n",
    "initial_observation, _ = env.reset()\n",
    "K_values = [0.1, 1.0, 2.0, 10.0]\n",
    "\n",
    "all_observations = []\n",
    "\n",
    "for K in K_values:\n",
    "    env.set_state(initial_observation[:2], initial_observation[2:])\n",
    "    observation = initial_observation.copy()\n",
    "    observations = [observation]\n",
    "\n",
    "    for _ in range(100):\n",
    "        theta = observation[[1]]\n",
    "        action = K * theta\n",
    "        observation, _, terminated, truncated, _ = env.step(action)\n",
    "        observations.append(observation)\n",
    "        if terminated or truncated:\n",
    "            env.reset()\n",
    "            break\n",
    "            \n",
    "    observations = np.stack(observations)\n",
    "    all_observations.append(observations)"
   ]
  },
  {
   "cell_type": "code",
   "execution_count": null,
   "metadata": {
    "slideshow": {
     "slide_type": "subslide"
    }
   },
   "outputs": [],
   "source": [
    "for i, K in enumerate(K_values):\n",
    "    plt.plot(\n",
    "        np.arange(all_observations[i].shape[0]) * env.model.opt.timestep,\n",
    "        all_observations[i][:, 1],\n",
    "        label=f\"{K=}\"\n",
    "    )\n",
    "plt.legend()\n",
    "plt.xlabel(\"Time\")\n",
    "plt.ylabel(\"Angle (rad)\");"
   ]
  },
  {
   "cell_type": "markdown",
   "metadata": {
    "slideshow": {
     "slide_type": "slide"
    }
   },
   "source": [
    "# Control Systems\n",
    "\n",
    "There are two types of control loop:\n",
    "\n",
    "- **Open-loop control (feedforward)**\n",
    "\n",
    "  An open-loop control system operates without feedback, which means that the output is not measured or compared to the desired input. Thery are simple and inexpensive to implement. They are often used in systems where the output does not need to be precisely controlled. For example, a washing machine may use an open-loop control system to regulate the water level.\n",
    "\n",
    "- **Closed-loop control (feedback)**\n",
    "\n",
    "  A closed-loop control system, on the other hand, operates with feedback, meaning that the output is measured, and corrective action is taken to ensure it always matches the desired input. They are more complex and expensive to implement. However, they offer greater precision and accuracy in controlling the system's output. Closed-loop control systems are often used in critical applications, such as aerospace engineering or medical devices"
   ]
  },
  {
   "cell_type": "markdown",
   "metadata": {
    "slideshow": {
     "slide_type": "subslide"
    }
   },
   "source": [
    "## Types of Systems\n",
    "\n",
    "- Time-Invariant (TI) or Time-Variant (TV).\n",
    "- Linear or Non-Linear.\n",
    "- Continuous or Discrete.\n",
    "- Deterministic or Stochastic."
   ]
  },
  {
   "cell_type": "markdown",
   "metadata": {
    "slideshow": {
     "slide_type": "slide"
    }
   },
   "source": [
    "# Controller Design\n",
    "\n",
    "1. Define a mathematical model that represents the system.\n",
    "2. Determine properties of this system:\n",
    "\n",
    "   - Identifiability.\n",
    "   - Stability.\n",
    "   - Observability.\n",
    "   - Controllability.\n",
    "\n",
    "3. Determine model's parameters, if they're not known already.\n",
    "4. If it's a continous-time system, discretize it to obtain a discrete-time system.\n",
    "5. (Optional) Linearize model around operating point.\n",
    "6. Design a controller to stabilize the system.\n",
    "7. Simulate the closed-loop system in order to validate the controller design.\n",
    "8. Use controller with actual system."
   ]
  },
  {
   "cell_type": "markdown",
   "metadata": {
    "slideshow": {
     "slide_type": "subslide"
    }
   },
   "source": [
    "# Modeling\n",
    "\n",
    "To design a control system, it is first necessary to gain an understanding of how the system operates.\n",
    "This understanding is typically expressed in the form of a mathematical model which describes the\n",
    "steady state and dynamic behavior of the system.\n",
    "\n",
    "This aspect of Control Engineering is closer to model-based Reinforcement Learning."
   ]
  },
  {
   "cell_type": "markdown",
   "metadata": {
    "slideshow": {
     "slide_type": "subslide"
    }
   },
   "source": [
    "## Modeling Approaches\n",
    "\n",
    "<div>\n",
    "<div style=\"float: left; width: 50%; margin-right: 5%;\">\n",
    "    \n",
    "- **White box**:\n",
    "- **Black box**:\n",
    "- **Grey box**: Combines both approaches to relax the need to exactly model the underlying physics, while requiring considerably less data than a pure black box approach.\n",
    "\n",
    "</div>\n",
    "<div style=\"float: left; width: 40%;\">\n",
    "    <figure>\n",
    "        <img src=\"_static/images/20_modeling_approaches.svg\" width=\"100%\"/>\n",
    "        <figcaption>\n",
    "            White box models are based mainly on knowledge about the system.\n",
    "            Blackbox models are built on statistical information from the data.\n",
    "            Grey box modeling combines the two approaches. <a href=\"#duun_henriksen_2013\"><b id=\"duun_henriksen_2013-back\">[Duun-Henriksen et al., 2013]</b></a>\n",
    "        </figcaption>\n",
    "    </figure>\n",
    "</div>\n",
    "</div>"
   ]
  },
  {
   "cell_type": "markdown",
   "metadata": {
    "slideshow": {
     "slide_type": "slide"
    }
   },
   "source": [
    "## System Representation\n",
    "\n",
    "- Transfer Function\n",
    "- State-Space\n",
    "- Input-Output"
   ]
  },
  {
   "cell_type": "markdown",
   "metadata": {
    "slideshow": {
     "slide_type": "subslide"
    }
   },
   "source": [
    "### Transfer Function Representation\n",
    "\n",
    "A transfer function of a system, sub-system, or component is a mathematical function that models the system's output for each possible input.\n",
    "\n",
    "Transfer functions are commonly used in the analysis of systems such as single-input single-output filters in the fields of signal processing, communication theory, and control theory. The term is often used exclusively to refer to linear time-invariant (LTI) systems. Most real systems have non-linear input/output characteristics, but many systems, when operated within nominal parameters (not \"over-driven\") have behavior close enough to linear that LTI system theory is an acceptable representation of the input/output behavior."
   ]
  },
  {
   "cell_type": "markdown",
   "metadata": {
    "slideshow": {
     "slide_type": "subslide"
    }
   },
   "source": [
    "For continuous-time input signal $x(t)$ and output $y(t)$, dividing the Laplace transform of the output, $Y(s) = \\mathcal{L}\\left\\{y(t)\\right\\}$, by the Laplace transform of the input, $X(s) = \\mathcal{L}\\left\\{x(t)\\right\\}$, yields the system's transfer function $H(s)$:\n",
    "\n",
    "$$\n",
    "H(s) = \\frac{Y(s)}{X(s)} = \\frac{ \\mathcal{L}\\left\\{y(t)\\right\\} }{ \\mathcal{L}\\left\\{x(t)\\right\\}}\n",
    "$$\n",
    "\n",
    "which can be rearranged as:\n",
    "\n",
    "$$\n",
    "Y(s)=H(s)X(s)\n",
    "$$\n",
    "\n",
    "Where $s = \\sigma + j \\cdot \\omega$ is a complex variable. When we're only interested in the steady-state response of the system then it is sufficient to set $\\sigma = 0$ (thus $s = j \\cdot \\omega$), which reduces the Laplace transforms with complex arguments to Fourier transforms with real argument $\\omega$."
   ]
  },
  {
   "cell_type": "markdown",
   "metadata": {},
   "source": [
    "The transfer function was the primary tool used in classical control engineering. However, it has proven to be unwieldy for the analysis of multiple-input multiple-output (MIMO) systems, and has been largely supplanted by state space representations for such systems. In spite of this, a transfer matrix can always be obtained for any linear system, in order to analyze its dynamics and other properties: each element of a transfer matrix is a transfer function relating a particular input variable to an output variable."
   ]
  },
  {
   "cell_type": "markdown",
   "metadata": {
    "slideshow": {
     "slide_type": "subslide"
    }
   },
   "source": [
    "### State-Space Representation\n",
    "\n",
    "A state-space representation is a mathematical model of a physical system specified as a set of input, output and variables related by first-order (not involving second derivatives) differential equations or difference equations.\n",
    "\n",
    "Such variables, called state variables, evolve over time in a way that depends on the values they have at any given instant and on the externally imposed values of input variables. Output variables’ values depend on the values of the state variables.\n",
    "\n",
    "In the general case, for continuous-time systems:\n",
    "\n",
    "$$\n",
    "\\dot{\\mathbf{x}}(t) = f(x(t), u(t)) \\\\\n",
    "\\mathbf{y}(t) = g(x(t), u(t))\n",
    "$$\n",
    "\n",
    "for discrete-time systems:\n",
    "\n",
    "$$\n",
    "\\mathbf{x}(k+1) = f(x(k), u(k)) \\\\\n",
    "\\mathbf{y}(k+1) = g(x(k), u(k))\n",
    "$$"
   ]
  },
  {
   "cell_type": "markdown",
   "metadata": {
    "slideshow": {
     "slide_type": "subslide"
    }
   },
   "source": [
    "| <div style=\"width:290px\">System type</div> | State-space model |\n",
    "|:-------------|:-----------------:|\n",
    "| Continuous time-invariant  | $$\n",
    "\\dot{\\mathbf{x}}(t)=  A \\mathbf{x}(t) + B \\mathbf {u} (t)\\\\\n",
    "\\mathbf{y}(t) = C \\mathbf{x}(t) + D \\mathbf{u}(t)\n",
    "$$ |\n",
    "| Continuous time-variant | $$\n",
    "\\dot{\\mathbf{x}}(t) = A(t) \\mathbf{x}(t) + B(t) \\mathbf{u}(t) \\\\\n",
    "\\mathbf{y}(t) = C(t) \\mathbf{x}(t) + D(t) \\mathbf{u}(t)\n",
    "$$ |\n",
    "| Discrete time-invariant | $$\n",
    "\\mathbf{x}(k+1) = A \\mathbf{x}(k) + B \\mathbf{u}(k) \\\\\n",
    "\\mathbf{y}(k+1) = C \\mathbf{x}(k) + D \\mathbf{u}(k)\n",
    "$$ |\n",
    "| Discrete time-variant | $$\n",
    "\\mathbf{x}(k+1) = A(k) \\mathbf{x}(k) + B(k) \\mathbf{u}(k) \\\\\n",
    "\\mathbf{y}(k+1) = C(k) \\mathbf{x}(k) + D(k) \\mathbf{u}(k)\n",
    "$$ |\n",
    "| Laplace domain of continuous time-invariant| $$\n",
    "s\\mathbf{X}(s) - \\mathbf{x}(0) = A \\mathbf{X}(s) + B \\mathbf{U}(s) \\\\\n",
    "\\mathbf{Y}(s) = C \\mathbf{X}(s) + D \\mathbf{U}(s)\n",
    "$$ |\n",
    "| Z-domain of discrete time-invariant | $$\n",
    "z\\mathbf{X}(z) - z\\mathbf{x}(0) = A \\mathbf{X}(z) + B \\mathbf{U}(z) \\\\\n",
    "\\mathbf{Y}(z) = C \\mathbf{X}(z) + D \\mathbf{U}(z)\n",
    "$$\n",
    "\n",
    "[<b id=\"wiki_state_space-back\">[Wiki State-Space, 2023]</b>](#wiki_state_space)"
   ]
  },
  {
   "cell_type": "markdown",
   "metadata": {
    "slideshow": {
     "slide_type": "subslide"
    }
   },
   "source": [
    "### Input-Output Representation\n",
    "\n",
    "$$\n",
    "\\mathbf{y}(k) = \\mathbf{h}(\\mathbf{y}(k-1), \\mathbf{y}(k-2), \\dots, u\\mathbf{u}(k), \\mathbf{u}(k-1), \\dots)\n",
    "$$"
   ]
  },
  {
   "cell_type": "markdown",
   "metadata": {
    "hide_input": true,
    "slideshow": {
     "slide_type": "slide"
    }
   },
   "source": [
    "# Inverted Pendulum Model\n",
    "\n",
    "\n",
    "<div>\n",
    "<figure style=\"float: left; width: 40%;\">\n",
    "    <img src=\"_static/images/20_inverted_pendulum.svg\" width=\"50%\"/>\n",
    "    <figcaption>\n",
    "        Inverted pendulum model <a href=\"#goodwin_control_2000\"><b id=\"goodwin_control_2000-back\">[Goodwin et al., 2000]</b></a>\n",
    "    </figcaption>\n",
    "</figure>\n",
    "<div style=\"float: left;\">\n",
    "    \n",
    "- $y(t)$: distance along the horizontal axis from some reference point.\n",
    "- $\\theta(t)$: angle of the pendulum.\n",
    "- $M$: mass of the cart.\n",
    "- $m$: mass of the pendulum (assumed to be concentrated at the tip).\n",
    "- $l$: length of the pendulum.\n",
    "- $f(t)$: force applied on the cart.\n",
    "</div>\n",
    "</div>"
   ]
  },
  {
   "cell_type": "markdown",
   "metadata": {
    "slideshow": {
     "slide_type": "subslide"
    }
   },
   "source": [
    "Application of Newtonian physics to this system leads to the following model:\n",
    "\n",
    "$$\n",
    "\\ddot{y} = \\frac{1}{\\lambda_m + \\sin^2\\theta(t)} \\left[\n",
    "\\frac{f(t)}{m} + \\dot{\\theta}^2 l \\sin\\theta(t) - g \\cos\\theta(t) \\sin\\theta(t)\n",
    "\\right]\n",
    "\\\\\n",
    "\\ddot{\\theta} = \\frac{1}{l\\lambda_m + \\sin^2\\theta(t)} \\left[\n",
    "-\\frac{f(t)}{m}\\cos\\theta(t) + \\dot{\\theta}^2 l \\sin\\theta(t) \\cos\\theta(t) + (1 - \\lambda_m) \\sin\\theta(t)\n",
    "\\right]\n",
    "$$\n",
    "\n",
    "where $\\lambda_m = \\frac{M}{m}$\n",
    "\n",
    "We're only interested in controlling the pendulum's angle, so we can ignore the first equation.\n",
    "\n",
    "We can convert this to state space form with input $u(t) = f(t)$ and output\n",
    "$y(t)$; by introducing:\n",
    "\n",
    "$$\n",
    "X(t) = \\begin{bmatrix}\n",
    "x_1(t) \\\\ x_2(t)\n",
    "\\end{bmatrix}\n",
    "= \\begin{bmatrix}\n",
    "\\theta(t) \\\\ \\dot{\\theta}(t) \n",
    "\\end{bmatrix}\n",
    "$$"
   ]
  },
  {
   "cell_type": "markdown",
   "metadata": {
    "slideshow": {
     "slide_type": "fragment"
    }
   },
   "source": [
    "$$\n",
    "\\dot{X}(t) = \\begin{bmatrix}\n",
    "\\dot{x_1}(t) \\\\ \\dot{x_2}(t)\n",
    "\\end{bmatrix} =\n",
    "\\begin{bmatrix}\n",
    "x_2(t) \\\\\n",
    "\\frac{1}{l\\lambda_m + \\sin^2 x_1(t)} \\left[\n",
    "-\\frac{u(t)}{m}\\cos x_1(t) + x_2(t)^2 l \\sin x_1(t) \\cos x_1(t) + (1 - \\lambda_m) \\sin x_1(t)\n",
    "\\right] \\\\\n",
    "\\end{bmatrix}\n",
    "$$"
   ]
  },
  {
   "cell_type": "markdown",
   "metadata": {
    "slideshow": {
     "slide_type": "subslide"
    }
   },
   "source": [
    "These equations are nonlinear. However, for small departures of $x_1$ (i.e. $\\theta$) from the\n",
    "vertical position we can linearize about $x_1 = 0$, $x_2 = 0$:\n",
    "\n",
    "$$\n",
    "\\dot{X}(t) = \\begin{bmatrix}\n",
    "\\dot{x_1}(t) \\\\ \\dot{x_2}(t)\n",
    "\\end{bmatrix} =\n",
    "\\begin{bmatrix}\n",
    "x_2(t) \\\\\n",
    "\\frac{1}{l\\lambda_m} \\left[\n",
    "-\\frac{u(t)}{m} + (1 - \\lambda_m) x_1(t)\n",
    "\\right] \\\\\n",
    "\\end{bmatrix} =\n",
    "\\begin{bmatrix}\n",
    "0 & 1\\\\\n",
    "0 & \\frac{(M + m)g}{Ml}\\\\\n",
    "\\end{bmatrix}\n",
    "\\begin{bmatrix}\n",
    "x_1(t) \\\\ x_2(t)\n",
    "\\end{bmatrix}\n",
    "+\n",
    "\\begin{bmatrix}\n",
    "0 \\\\ -\\frac{1}{Ml}\n",
    "\\end{bmatrix}\n",
    "\\begin{bmatrix}\n",
    "u(t)\\\\\n",
    "\\end{bmatrix}\n",
    "$$"
   ]
  },
  {
   "cell_type": "markdown",
   "metadata": {
    "slideshow": {
     "slide_type": "subslide"
    }
   },
   "source": [
    "This leads to a linear state-space model with matrices:\n",
    "\n",
    "$$\n",
    "A = \\begin{bmatrix}\n",
    "0 & 0 & 1 & 0\\\\\n",
    "0 & 0 & 0 & 1\\\\\n",
    "0 & -\\frac{mg}{M} & 0 & 0 \\\\\n",
    "0 & \\frac{(M + m)g}{Ml} & 0 & 0\\\\\n",
    "\\end{bmatrix};\n",
    "B = \\begin{bmatrix}\n",
    "0 \\\\ 0 \\\\ \\frac{1}{M} \\\\ -\\frac{1}{Ml}\n",
    "\\end{bmatrix};\n",
    "C = \\begin{bmatrix}\n",
    "1 & 0 \\\\\n",
    "\\end{bmatrix};\n",
    "D = \\begin{bmatrix}\n",
    "0\n",
    "\\end{bmatrix}\n",
    "$$"
   ]
  },
  {
   "cell_type": "markdown",
   "metadata": {
    "slideshow": {
     "slide_type": "subslide"
    }
   },
   "source": [
    "## System Identification"
   ]
  },
  {
   "cell_type": "markdown",
   "metadata": {
    "slideshow": {
     "slide_type": "subslide"
    }
   },
   "source": [
    "## Structural Identifiability"
   ]
  },
  {
   "cell_type": "markdown",
   "metadata": {},
   "source": [
    "### Parameter Estimation"
   ]
  },
  {
   "cell_type": "markdown",
   "metadata": {
    "slideshow": {
     "slide_type": "subslide"
    }
   },
   "source": [
    "Luckily for us, the system parameters are easy to extract from the simulation environment"
   ]
  },
  {
   "cell_type": "code",
   "execution_count": null,
   "metadata": {
    "slideshow": {
     "slide_type": "fragment"
    }
   },
   "outputs": [],
   "source": [
    "g = 9.81\n",
    "l = env.model.geom_pos[2, 2]\n",
    "m = env.model.body_mass[2]\n",
    "M = env.model.body_mass[1]\n",
    "lambda_m = M / m\n",
    "print(f\"{l=}, {m=}, {M=}\")"
   ]
  },
  {
   "cell_type": "code",
   "execution_count": null,
   "metadata": {},
   "outputs": [],
   "source": [
    "# Dynamics matrix\n",
    "A = np.array([\n",
    "    [ 0, 1],\n",
    "    [(1+lambda_m)*g/(lambda_m*l), 0],\n",
    "])\n",
    "# Input matrix\n",
    "B = np.array([[\n",
    "    0,\n",
    "    -1/(M*l)\n",
    "]]).transpose()\n",
    "# Output matrices\n",
    "C = np.array([\n",
    "    [1, 0],\n",
    "])\n",
    "D = np.zeros(1)"
   ]
  },
  {
   "cell_type": "code",
   "execution_count": null,
   "metadata": {
    "slideshow": {
     "slide_type": "subslide"
    }
   },
   "outputs": [],
   "source": [
    "inverted_pendulum = ct.ss(A, B, C, D)\n",
    "inverted_pendulum"
   ]
  },
  {
   "cell_type": "code",
   "execution_count": null,
   "metadata": {
    "slideshow": {
     "slide_type": "subslide"
    }
   },
   "outputs": [],
   "source": [
    "tf = ct.ss2tf(inverted_pendulum)\n",
    "tf"
   ]
  },
  {
   "cell_type": "markdown",
   "metadata": {},
   "source": [
    "We now discretize the system using the simulation environment's timestep"
   ]
  },
  {
   "cell_type": "code",
   "execution_count": null,
   "metadata": {
    "slideshow": {
     "slide_type": "subslide"
    }
   },
   "outputs": [],
   "source": [
    "inverted_pendulum = inverted_pendulum.sample(env.dt)\n",
    "inverted_pendulum.name = \"inverted_pendulum\"\n",
    "inverted_pendulum"
   ]
  },
  {
   "cell_type": "code",
   "execution_count": null,
   "metadata": {
    "slideshow": {
     "slide_type": "subslide"
    }
   },
   "outputs": [],
   "source": [
    "tf = ct.ss2tf(inverted_pendulum)\n",
    "tf"
   ]
  },
  {
   "cell_type": "markdown",
   "metadata": {
    "slideshow": {
     "slide_type": "slide"
    }
   },
   "source": [
    "# Stability\n",
    "\n",
    "There are many notions of stability in Control Theory:\n",
    "\n",
    "- **BIBO Stability**\n",
    "\n",
    "  A system is bounded-input, bounded-output stable (**BIBO** stable) if, for every bounded input, the output is finite. Mathematically, if every input satisfying\n",
    "\n",
    "    $$\n",
    "    ||x(t)||_\\infty \\lt \\infty\n",
    "    $$\n",
    "\n",
    "    leads to an output satisfying \n",
    "\n",
    "    $$\n",
    "    ||y(t)||_\\infty \\lt \\infty\n",
    "    $$"
   ]
  },
  {
   "cell_type": "markdown",
   "metadata": {
    "slideshow": {
     "slide_type": "subslide"
    }
   },
   "source": [
    "A Linearly Time-Invariant (LTI) system is stable if and only if:\n",
    "\n",
    "- All the poles are in the left half of the complex plane.\n",
    "- All the eigenvalues of $A$ have negative real parts.\n",
    "- We can find two $p \\times p$ matrices $M$ and $N$ such that satisfy the Lyapunov Equation:\n",
    "\n",
    "  $$\n",
    "  MA + A^TM = -N\n",
    "  $$\n",
    "  \n",
    "  and $N$ is an arbitrary positive definite matrix, and $M$ is a unique positive definite matrix."
   ]
  },
  {
   "cell_type": "markdown",
   "metadata": {
    "slideshow": {
     "slide_type": "subslide"
    }
   },
   "source": [
    "## Exercise\n",
    "\n",
    "- Determine whether the linearized inverted pendulum system is stable.\n",
    "\n",
    "> **Hint** \n",
    ">\n",
    "> - Use the `poles()` method of the `inverted_pendulum` object to determine the system's poles.\n",
    "> - Use `np.linalg.eig` to determine the eigenvalues of the system matrix.\n",
    "> - Use `ct.lyap` to solve the lyapunov equation."
   ]
  },
  {
   "cell_type": "markdown",
   "metadata": {
    "slideshow": {
     "slide_type": "subslide"
    }
   },
   "source": [
    "## Solution"
   ]
  },
  {
   "cell_type": "code",
   "execution_count": null,
   "metadata": {
    "slideshow": {
     "slide_type": "fragment"
    }
   },
   "outputs": [],
   "source": [
    "poles = inverted_pendulum.poles()\n",
    "poles"
   ]
  },
  {
   "cell_type": "code",
   "execution_count": null,
   "metadata": {
    "slideshow": {
     "slide_type": "fragment"
    }
   },
   "outputs": [],
   "source": [
    "np.all(np.real(poles) <= 0.0)"
   ]
  },
  {
   "cell_type": "markdown",
   "metadata": {
    "slideshow": {
     "slide_type": "fragment"
    }
   },
   "source": [
    "This means that the system is unstable."
   ]
  },
  {
   "cell_type": "markdown",
   "metadata": {
    "slideshow": {
     "slide_type": "subslide"
    }
   },
   "source": [
    "For the sake of demonstration, let's also compute the system matrix' eigenvalues and compare them to the poles"
   ]
  },
  {
   "cell_type": "code",
   "execution_count": null,
   "metadata": {
    "slideshow": {
     "slide_type": "fragment"
    }
   },
   "outputs": [],
   "source": [
    "result = np.linalg.eig(inverted_pendulum.A)\n",
    "eigenvalues = result.eigenvalues\n",
    "eigenvalues"
   ]
  },
  {
   "cell_type": "code",
   "execution_count": null,
   "metadata": {
    "slideshow": {
     "slide_type": "fragment"
    }
   },
   "outputs": [],
   "source": [
    "np.all(np.real(eigenvalues) <= 0.0)"
   ]
  },
  {
   "cell_type": "code",
   "execution_count": null,
   "metadata": {
    "slideshow": {
     "slide_type": "fragment"
    }
   },
   "outputs": [],
   "source": [
    "np.all(poles == eigenvalues)"
   ]
  },
  {
   "cell_type": "markdown",
   "metadata": {
    "slideshow": {
     "slide_type": "subslide"
    }
   },
   "source": [
    "We can visualize the system's poles and zeros"
   ]
  },
  {
   "cell_type": "code",
   "execution_count": null,
   "metadata": {
    "slideshow": {
     "slide_type": "fragment"
    }
   },
   "outputs": [],
   "source": [
    "ct.pzmap(inverted_pendulum);"
   ]
  },
  {
   "cell_type": "markdown",
   "metadata": {
    "slideshow": {
     "slide_type": "slide"
    }
   },
   "source": [
    "# Observability\n",
    "\n",
    "Observability is a measure for how well internal states of a system can be inferred by knowledge of its external outputs..\n",
    "\n",
    "For a continuous linear time-invariant system, the $n \\times nr$ observability matrix is given by:\n",
    "\n",
    "$O=\\begin{bmatrix}C \\\\ CA \\\\ CA^{2} \\\\ \\dots \\\\ CA^{n-1}\\end{bmatrix}$\n",
    "\n",
    "The system is controllable if the observability matrix has full row rank (i.e. $\\operatorname{rank}(O)=n$)."
   ]
  },
  {
   "cell_type": "code",
   "execution_count": null,
   "metadata": {
    "slideshow": {
     "slide_type": "subslide"
    }
   },
   "outputs": [],
   "source": [
    "O = ct.obsv(inverted_pendulum.A, inverted_pendulum.C)\n",
    "print(O)"
   ]
  },
  {
   "cell_type": "code",
   "execution_count": null,
   "metadata": {
    "slideshow": {
     "slide_type": "fragment"
    }
   },
   "outputs": [],
   "source": [
    "np.linalg.matrix_rank(O)"
   ]
  },
  {
   "cell_type": "markdown",
   "metadata": {
    "slideshow": {
     "slide_type": "slide"
    }
   },
   "source": [
    "## Observer Design"
   ]
  },
  {
   "cell_type": "markdown",
   "metadata": {
    "slideshow": {
     "slide_type": "subslide"
    }
   },
   "source": [
    "### Kalman Filter\n",
    "\n",
    "$$\n",
    "\\mathbf{x}(k+1) = A(k)\\mathbf{x}(k) + B(k)\\mathbf{u}(k) + \\mathbf{w}(k)\\\\\n",
    "\\mathbf{y}(k+1) = C(k)\\mathbf{x}(k) + \\mathbf{v}(k)\n",
    "$$\n",
    "\n",
    "Where:\n",
    "\n",
    "- $w(k)$ is the process noise, which is assumed to be drawn from a zero-mean multivariate normal distribution,\n",
    "  $\\mathcal{N}$, with covariance, $\\mathbf{w}_{k} \\sim {\\mathcal {N}}\\left(0,\\mathbf {Q} _{k}\\right)$.\n",
    "- $v(k)$ is the observation noise, which is assumed to be zero-mean Gaussian white noise with covariance \n",
    "  $\\mathbf {v} _{k}\\sim {\\mathcal {N}}\\left(0,\\mathbf {R} _{k}\\right)$."
   ]
  },
  {
   "cell_type": "code",
   "execution_count": null,
   "metadata": {
    "slideshow": {
     "slide_type": "subslide"
    }
   },
   "outputs": [],
   "source": [
    "Q = np.diag([100])\n",
    "R = np.diag([10.0]) * inverted_pendulum.dt\n",
    "# Initial State Covariance\n",
    "P0 = np.diag([0.0, 10000])\n",
    "estimator = ct.create_estimator_iosystem(inverted_pendulum, Q, R, P0=P0)\n",
    "estimator.name = \"estimator\"\n",
    "print(estimator)"
   ]
  },
  {
   "cell_type": "markdown",
   "metadata": {
    "slideshow": {
     "slide_type": "subslide"
    }
   },
   "source": [
    "We collect some data from the environment"
   ]
  },
  {
   "cell_type": "code",
   "execution_count": null,
   "metadata": {
    "slideshow": {
     "slide_type": "subslide"
    }
   },
   "outputs": [],
   "source": [
    "env = create_inverted_pendulum_environment(max_steps=200)\n",
    "initial_observation, _ = env.reset()\n",
    "K = 200.0\n",
    "\n",
    "observation = initial_observation.copy()\n",
    "observations = [observation]\n",
    "actions = []\n",
    "\n",
    "for _ in range(200):\n",
    "    theta = observation[[1]]\n",
    "    action = K * theta\n",
    "    actions.append(action)\n",
    "    observation, _, terminated, truncated, _ = env.step(action)\n",
    "    observations.append(observation)\n",
    "    if terminated or truncated:\n",
    "        env.reset()\n",
    "        break\n",
    "\n",
    "observations = np.stack(observations)\n",
    "actions = np.stack(actions)"
   ]
  },
  {
   "cell_type": "markdown",
   "metadata": {
    "slideshow": {
     "slide_type": "subslide"
    }
   },
   "source": [
    "And run the estimator on the trajectory"
   ]
  },
  {
   "cell_type": "code",
   "execution_count": null,
   "metadata": {
    "slideshow": {
     "slide_type": "fragment"
    }
   },
   "outputs": [],
   "source": [
    "dt = inverted_pendulum.dt\n",
    "T = np.arange(0, len(observations)*dt - dt, dt)\n",
    "U = np.concatenate([observations[1:, [1]], actions], axis=1).transpose()\n",
    "X0 = np.zeros(2)\n",
    "estimator_response = ct.input_output_response(estimator, T, U, X0)"
   ]
  },
  {
   "cell_type": "code",
   "execution_count": null,
   "metadata": {
    "slideshow": {
     "slide_type": "subslide"
    }
   },
   "outputs": [],
   "source": [
    "fig, (ax1, ax2) = plt.subplots(1, 2, sharex=True)\n",
    "ax1.errorbar(\n",
    "    estimator_response.time,\n",
    "    estimator_response.outputs[0],\n",
    "    estimator_response.states[estimator.find_state(\"P[0,0]\")],\n",
    "    fmt=\"b-\",\n",
    "    label=\"Estimated\"\n",
    ")\n",
    "ax1.plot(estimator_response.time, observations[1:, 1], label=\"Ground Truth\")\n",
    "ax1.set_xlabel(\"Time\")\n",
    "ax1.set_ylabel(\"Angle (rad)\")\n",
    "ax1.legend()\n",
    "ax2.errorbar(\n",
    "    estimator_response.time,\n",
    "    estimator_response.outputs[1],\n",
    "    estimator_response.states[estimator.find_state(\"P[1,1]\")],\n",
    "    fmt=\"b-\",\n",
    "    label=\"Estimated\"\n",
    ")\n",
    "ax2.plot(estimator_response.time, observations[1:, 3], label=\"Ground Truth\")\n",
    "ax2.set_xlabel(\"Time\")\n",
    "ax2.set_ylabel(\"Angular Velocity (rad/s)\");\n",
    "ax2.legend()\n",
    "fig.tight_layout()"
   ]
  },
  {
   "cell_type": "markdown",
   "metadata": {
    "slideshow": {
     "slide_type": "subslide"
    }
   },
   "source": [
    "We also run predictions in the future to see what happens next"
   ]
  },
  {
   "cell_type": "code",
   "execution_count": null,
   "metadata": {
    "slideshow": {
     "slide_type": "fragment"
    }
   },
   "outputs": [],
   "source": [
    "T_predict = np.arange(T[-1], T[-1] + 0.2 + dt, dt)\n",
    "U_predict = np.outer(U[:, -1], np.ones_like(T_predict))\n",
    "predicted_response = ct.input_output_response(\n",
    "    estimator, T_predict, U_predict, estimator_response.states[:, -1],\n",
    "    params={'correct': False}\n",
    ")"
   ]
  },
  {
   "cell_type": "code",
   "execution_count": null,
   "metadata": {
    "slideshow": {
     "slide_type": "subslide"
    }
   },
   "outputs": [],
   "source": [
    "fig, (ax1, ax2) = plt.subplots(1, 2, sharex=True)\n",
    "ax1.errorbar(\n",
    "    estimator_response.time,\n",
    "    estimator_response.outputs[0],\n",
    "    estimator_response.states[estimator.find_state(\"P[0,0]\")],\n",
    "    fmt=\"b-\",\n",
    "    label=\"Estimated\"\n",
    ")\n",
    "ax1.plot(estimator_response.time, observations[1:, 1], label=\"Ground Truth\")\n",
    "ax1.errorbar(\n",
    "    predicted_response.time,\n",
    "    predicted_response.outputs[0],\n",
    "    predicted_response.states[estimator.find_state(\"P[0,0]\")],\n",
    "    fmt=\"r-\",\n",
    "    label=\"Predicted\",\n",
    ")\n",
    "ax1.legend()\n",
    "ax1.set_xlabel(\"Time\")\n",
    "ax1.set_ylabel(\"Angle (rad)\")\n",
    "ax2.errorbar(\n",
    "    estimator_response.time,\n",
    "    estimator_response.outputs[1],\n",
    "    estimator_response.states[estimator.find_state(\"P[1,1]\")],\n",
    "    fmt=\"b-\",\n",
    "    label=\"Estimated\"\n",
    ")\n",
    "ax2.plot(estimator_response.time, observations[1:, 3], label=\"Ground Truth\")\n",
    "ax2.errorbar(\n",
    "    predicted_response.time,\n",
    "    predicted_response.outputs[1],\n",
    "    predicted_response.states[estimator.find_state(\"P[1,1]\")],\n",
    "    fmt=\"r-\",\n",
    "    label=\"Predicted\",\n",
    ")\n",
    "ax2.legend()\n",
    "ax2.set_xlabel(\"Time\")\n",
    "ax2.set_ylabel(\"Angular Velocity (rad/s)\")\n",
    "fig.tight_layout()"
   ]
  },
  {
   "cell_type": "markdown",
   "metadata": {
    "slideshow": {
     "slide_type": "slide"
    }
   },
   "source": [
    "# Controllability\n",
    "\n",
    "The state controllability condition implies that it is possible - by admissible inputs - to steer the states from any initial value to any final value within some finite time window.\n",
    "\n",
    "For a continuous linear time-invariant system, the $n \\times nr$ controllability matrix is given by:\n",
    "\n",
    "$R=\\begin{bmatrix}B & AB & A^{2}B & \\dots & A^{n-1}B\\end{bmatrix}$\n",
    "\n",
    "The system is controllable if the controllability matrix has full row rank (i.e. $\\operatorname{rank}(R)=n$). "
   ]
  },
  {
   "cell_type": "code",
   "execution_count": null,
   "metadata": {
    "slideshow": {
     "slide_type": "subslide"
    }
   },
   "outputs": [],
   "source": [
    "R = ct.ctrb(inverted_pendulum.A, inverted_pendulum.B)\n",
    "print(R)"
   ]
  },
  {
   "cell_type": "code",
   "execution_count": null,
   "metadata": {
    "slideshow": {
     "slide_type": "fragment"
    }
   },
   "outputs": [],
   "source": [
    "np.linalg.matrix_rank(R)"
   ]
  },
  {
   "cell_type": "markdown",
   "metadata": {
    "slideshow": {
     "slide_type": "slide"
    }
   },
   "source": [
    "# Controller Design"
   ]
  },
  {
   "cell_type": "markdown",
   "metadata": {
    "slideshow": {
     "slide_type": "subslide"
    }
   },
   "source": [
    "## Full State Feedback\n",
    "\n",
    "Full state feedback (FSF), or pole placement, is a method employed in feedback control system theory to place the closed-loop poles of a system in pre-determined locations in the s-plane. Placing poles is desirable because the location of the poles corresponds directly to the eigenvalues of the system, which control the characteristics of the response of the system. The system must be considered controllable in order to implement this method. "
   ]
  },
  {
   "cell_type": "markdown",
   "metadata": {
    "slideshow": {
     "slide_type": "subslide"
    }
   },
   "source": [
    "We want to design a controller such that we can place the poles (eigenvalues) of our system at desired locations.\n",
    "\n",
    "We choose the following control law:\n",
    "\n",
    "$$\n",
    "\\mathbf{u}(t) = -K \\mathbf{x}(t)\n",
    "$$\n",
    "\n",
    "By replacing this into the system's state-space representation we obtain the closed-loop dynamics:\n",
    "\n",
    "$$\n",
    "\\dot{\\mathbf{x}}(t) =  (A - BK) \\mathbf{x}(t)\\\\\n",
    "\\mathbf{y}(t) = (C - DK) \\mathbf{x}(t)\n",
    "$$\n",
    "\n",
    "The poles of this new system are the eigenvalues of $A - BK$. "
   ]
  },
  {
   "cell_type": "code",
   "execution_count": null,
   "metadata": {
    "scrolled": false,
    "slideshow": {
     "slide_type": "subslide"
    }
   },
   "outputs": [],
   "source": [
    "ct.pzmap(inverted_pendulum);"
   ]
  },
  {
   "cell_type": "code",
   "execution_count": null,
   "metadata": {},
   "outputs": [],
   "source": [
    "K = ct.place(inverted_pendulum.A, inverted_pendulum.B, np.array([-0.2 + 0.5j, -0.2 - 0.5j]))\n",
    "K"
   ]
  },
  {
   "cell_type": "code",
   "execution_count": null,
   "metadata": {
    "slideshow": {
     "slide_type": "subslide"
    }
   },
   "outputs": [],
   "source": [
    "A_fsfbk = inverted_pendulum.A - inverted_pendulum.B * K\n",
    "B_fsfbk = np.zeros(2)\n",
    "C_fsfbk = inverted_pendulum.C - inverted_pendulum.D * K\n",
    "D_fsfbk = np.zeros(1)\n",
    "closed_loop = ct.ss(A_fsfbk, B_fsfbk, C_fsfbk, D_fsfbk, dt=inverted_pendulum.dt)\n",
    "closed_loop"
   ]
  },
  {
   "cell_type": "code",
   "execution_count": null,
   "metadata": {
    "slideshow": {
     "slide_type": "subslide"
    }
   },
   "outputs": [],
   "source": [
    "ct.pzmap(closed_loop);"
   ]
  },
  {
   "cell_type": "code",
   "execution_count": null,
   "metadata": {
    "slideshow": {
     "slide_type": "subslide"
    }
   },
   "outputs": [],
   "source": [
    "n_steps = 1000\n",
    "x0 = np.zeros(closed_loop.nstates)\n",
    "x0[0] = 0.01\n",
    "u0 = 0.0\n",
    "T = np.arange(0, n_steps) * closed_loop.dt\n",
    "response = ct.input_output_response(\n",
    "    closed_loop, T, u0, x0\n",
    ")"
   ]
  },
  {
   "cell_type": "code",
   "execution_count": null,
   "metadata": {
    "slideshow": {
     "slide_type": "subslide"
    }
   },
   "outputs": [],
   "source": [
    "fig, ax = plt.subplots(1, 1, sharex=True)\n",
    "ax.plot(response.time, response.outputs)\n",
    "ax.set_xlabel(\"Time\")\n",
    "ax.set_ylabel(\"Angle (rad)\")\n",
    "fig.tight_layout()"
   ]
  },
  {
   "cell_type": "markdown",
   "metadata": {
    "slideshow": {
     "slide_type": "subslide"
    }
   },
   "source": [
    "### Evaluation"
   ]
  },
  {
   "cell_type": "code",
   "execution_count": null,
   "metadata": {
    "slideshow": {
     "slide_type": "subslide"
    }
   },
   "outputs": [],
   "source": [
    "env = create_inverted_pendulum_environment(max_steps=1000)\n",
    "initial_observation, _ = env.reset()\n",
    "\n",
    "observation = initial_observation.copy()\n",
    "observations = [observation]\n",
    "actions = []\n",
    "\n",
    "for _ in range(1000):\n",
    "    # errors = estimator.updfcn(0.0, errors, observation[[1, 3]], params)\n",
    "    # action = pid_controller.outfcn(0.0, errors, action, params)\n",
    "    action = -K @ observation[[1, 3]]\n",
    "    actions.append(action)\n",
    "    observation, _, terminated, truncated, _ = env.step(action)\n",
    "    observations.append(observation)\n",
    "    if terminated or truncated:\n",
    "        frames = env.render()\n",
    "        break\n",
    "\n",
    "observations = np.stack(observations)\n",
    "env.close()"
   ]
  },
  {
   "cell_type": "code",
   "execution_count": null,
   "metadata": {
    "slideshow": {
     "slide_type": "subslide"
    }
   },
   "outputs": [],
   "source": [
    "media.show_video(frames, fps=1/env.dt)"
   ]
  },
  {
   "cell_type": "code",
   "execution_count": null,
   "metadata": {
    "slideshow": {
     "slide_type": "subslide"
    }
   },
   "outputs": [],
   "source": [
    "fig, (ax1, ax2, ax3) = plt.subplots(1, 3, sharex=True)\n",
    "T = np.arange(observations.shape[0]) * env.model.opt.timestep\n",
    "ax1.plot(T, observations[:, 0])\n",
    "ax1.set_xlabel(\"Time\")\n",
    "ax1.set_ylabel(\"Position (m)\")\n",
    "ax2.plot(T, observations[:, 1])\n",
    "ax2.set_xlabel(\"Time\")\n",
    "ax2.set_ylabel(\"Angle (rad)\")\n",
    "ax3.plot(T[1:], actions)\n",
    "ax3.set_xlabel(\"Time\")\n",
    "ax3.set_ylabel(\"Force\")\n",
    "fig.tight_layout()"
   ]
  },
  {
   "cell_type": "markdown",
   "metadata": {
    "slideshow": {
     "slide_type": "subslide"
    }
   },
   "source": [
    "## PID Controller\n",
    "\n",
    "Proportional–integral–derivative (PID) controller is a control loop mechanism employing feedback that is widely used in industrial control systems and a variety of other applications requiring continuously modulated control.\n",
    "\n",
    "The overall control function: \n",
    "\n",
    "$$\n",
    "u(t) = K_{\\text{p}}e(t) + K_{\\text{i}}\\int _{0}^{t}e(\\tau )\\,\\mathrm {d} \\tau +K_{\\text{d}}{\\frac {\\mathrm {d} e(t)}{\\mathrm {d} t}},\n",
    "$$\n",
    "\n",
    "where $e(t) = y(t) - r(t)$, $K_{\\text{p}}$, $K_{\\text{i}}$, and $K_{\\text{d}}$, all non-negative, denote the coefficients for the proportional, integral, and derivative terms respectively.\n",
    "\n",
    "The use of the PID algorithm does not guarantee optimal control of the system or its control stability but in practice it works really well for simple systems. It is broadly applicable since it relies only on the response of the measured process variable, not on knowledge or a model of the underlying process."
   ]
  },
  {
   "cell_type": "code",
   "execution_count": null,
   "metadata": {
    "slideshow": {
     "slide_type": "subslide"
    }
   },
   "outputs": [],
   "source": [
    "def pid_controler_update(t: float, x: NDArray, u: NDArray, params: dict):        \n",
    "    e = u[0]\n",
    "    e_i = x[1] + e * inverted_pendulum.dt\n",
    "    e_d = (e - x[0]) /  inverted_pendulum.dt\n",
    "    return np.array([e, e_i, e_d])\n",
    "\n",
    "def pid_controler_output(t: float, x: NDArray, u: NDArray, params: dict):\n",
    "    Kp = params.get('Kp', 1.0)\n",
    "    Ki = params.get('Ki', 0)\n",
    "    Kd = params.get('Kd', 0)\n",
    "    return np.array([Kp * x[0] + Ki * x[1] + Kd * x[2]])\n",
    "\n",
    "pid_controller = ct.NonlinearIOSystem(\n",
    "    pid_controler_update,\n",
    "    pid_controler_output,\n",
    "    name=\"pid\",\n",
    "    inputs=('y[0]'),\n",
    "    states=(\"e[0]\", \"e[1]\", \"e[2]\"),\n",
    "    outputs=('u[0]'),\n",
    "    dt=inverted_pendulum.dt,\n",
    ")\n",
    "print(pid_controller)"
   ]
  },
  {
   "cell_type": "code",
   "execution_count": null,
   "metadata": {
    "slideshow": {
     "slide_type": "subslide"
    }
   },
   "outputs": [],
   "source": [
    "closed_loop = inverted_pendulum.feedback(pid_controller, sign=1)\n",
    "print(closed_loop)"
   ]
  },
  {
   "cell_type": "code",
   "execution_count": null,
   "metadata": {
    "slideshow": {
     "slide_type": "subslide"
    }
   },
   "outputs": [],
   "source": [
    "n_steps = 500\n",
    "T = np.arange(0, n_steps) * dt\n",
    "x0 = np.array([0.01, 0.0])\n",
    "u0 = 0.0\n",
    "params = {\"Kp\": 300.0, \"Ki\": 50, \"Kd\": 30}\n",
    "response = ct.input_output_response(\n",
    "    closed_loop, T, u0, x0, params=params\n",
    ")"
   ]
  },
  {
   "cell_type": "code",
   "execution_count": null,
   "metadata": {
    "slideshow": {
     "slide_type": "subslide"
    }
   },
   "outputs": [],
   "source": [
    "fig, (ax1, ax2) = plt.subplots(1, 2, sharex=True)\n",
    "ax1.plot(response.time, response.outputs)\n",
    "ax1.set_xlabel(\"Time\")\n",
    "ax1.set_ylabel(\"Angle (rad)\")\n",
    "ax2.plot(response.time, response.inputs)\n",
    "ax2.set_xlabel(\"Time\")\n",
    "ax2.set_ylabel(\"Input\")\n",
    "fig.tight_layout()"
   ]
  },
  {
   "cell_type": "markdown",
   "metadata": {
    "slideshow": {
     "slide_type": "subslide"
    }
   },
   "source": [
    "### Evaluation"
   ]
  },
  {
   "cell_type": "code",
   "execution_count": null,
   "metadata": {
    "slideshow": {
     "slide_type": "subslide"
    }
   },
   "outputs": [],
   "source": [
    "env = create_inverted_pendulum_environment(max_steps=1000)\n",
    "initial_observation, _ = env.reset()\n",
    "\n",
    "observation = initial_observation.copy()\n",
    "observations = [observation]\n",
    "actions = []\n",
    "\n",
    "errors = np.zeros(3)\n",
    "action = np.zeros(1)\n",
    "\n",
    "for _ in range(1000):\n",
    "    errors = pid_controller.updfcn(0.0, errors, observation[[1, 3]], params)\n",
    "    action = pid_controller.outfcn(0.0, errors, action, params)\n",
    "    actions.append(action)\n",
    "    observation, _, terminated, truncated, _ = env.step(action)\n",
    "    observations.append(observation)\n",
    "    if terminated or truncated:\n",
    "        frames = env.render()\n",
    "        env.reset()\n",
    "        break\n",
    "\n",
    "observations = np.stack(observations)\n",
    "env.close()"
   ]
  },
  {
   "cell_type": "code",
   "execution_count": null,
   "metadata": {
    "slideshow": {
     "slide_type": "subslide"
    }
   },
   "outputs": [],
   "source": [
    "media.show_video(frames, fps=1/env.dt)"
   ]
  },
  {
   "cell_type": "code",
   "execution_count": null,
   "metadata": {
    "slideshow": {
     "slide_type": "subslide"
    }
   },
   "outputs": [],
   "source": [
    "fig, (ax1, ax2, ax3) = plt.subplots(1, 3, sharex=True)\n",
    "T = np.arange(observations.shape[0]) * env.model.opt.timestep\n",
    "ax1.plot(T, observations[:, 0])\n",
    "ax1.set_xlabel(\"Time\")\n",
    "ax1.set_ylabel(\"Position (m)\")\n",
    "ax2.plot(T, observations[:, 1])\n",
    "ax2.set_xlabel(\"Time\")\n",
    "ax2.set_ylabel(\"Angle (rad)\")\n",
    "ax3.plot(T[1:], actions)\n",
    "ax3.set_xlabel(\"Time\")\n",
    "ax3.set_ylabel(\"Force\")\n",
    "fig.tight_layout()"
   ]
  },
  {
   "cell_type": "markdown",
   "metadata": {
    "slideshow": {
     "slide_type": "slide"
    },
    "tags": [
     "remove-cell",
     "remove-cell-nbconv"
    ]
   },
   "source": [
    "<img src=\"_static/images/aai-institute-cover.svg\" alt=\"Snow\" style=\"width:100%;\">\n",
    "<div class=\"md-slide title\">Thank you for your attention!</div>"
   ]
  },
  {
   "cell_type": "markdown",
   "metadata": {
    "slideshow": {
     "slide_type": "slide"
    }
   },
   "source": [
    "## References\n",
    "\n",
    "- [<b id=\"duun_henriksen_2013\">[Duun-Henriksen et al., 2013]</b>](#duun_henriksen_2013-back) [Model identification using stochastic differential equation grey-box models in diabetes](https://journals.sagepub.com/doi/abs/10.1177/193229681300700220) - Duun-Henriksen, Anne Katrine, et al. Journal of diabetes science and technology 7, no. 2 (2013): 431-440.\n",
    "\n",
    "- [<b id=\"goodwin_control_2000\">[Goodwin et al., 2000]</b>](#goodwin_control_2000-back) [Control System Design](https://ds.amu.edu.et/xmlui/bitstream/handle/123456789/17461/Graham%20C.%20Goodwin%2C%20Stefan%20F.%20Graebe%2C%20Mario%20E.%20Salgado-Control%20System%20Design%20-Prentice%20Hall%20%282000%29.pdf?sequence=1&isAllowed=y) - Goodwin, Graham C., Stefan F. Graebe, and Mario E. Salgado. (2000)\n",
    "\n",
    "- [<b id=\"nijmeijer_nonlinear_1990\">[Nijmeijer et al. 1990]</b>](#nijmeijer_nonlinear_1990-back) [Nonlinear dynamical control systems.](https://link.springer.com/book/10.1007/978-1-4757-2101-0) Nijmeijer, Henk, and Arjan Van der Schaft. Vol. 464, no. 2. New York: Springer-verlag, 1990.\n",
    "\n",
    "- [<b id=\"wiki_state_space\">[Wiki State-Space, 2023]</b>](#wiki_state_space-back) [State-space representation](https://en.wikipedia.org/w/index.php?title=State-space_representation&oldid=1175410959) Wikipedia, The Free Encyclopedia, (accessed September 26, 2023). \n",
    "\n",
    "- [<b id=\"wiki_inverted_pendulum\">[Wiki Inverted Pendulum, 2023]</b>](#wiki_inverted_pendulum-back) [Inverted pendulum](https://en.wikipedia.org/w/index.php?title=Inverted_pendulum&oldid=1152479964), Wikipedia, The Free Encyclopedia, (accessed September 24, 2023)."
   ]
  }
 ],
 "metadata": {
  "celltoolbar": "Slideshow",
  "kernelspec": {
   "display_name": "Python 3 (ipykernel)",
   "language": "python",
   "name": "python3"
  },
  "language_info": {
   "codemirror_mode": {
    "name": "ipython",
    "version": 3
   },
   "file_extension": ".py",
   "mimetype": "text/x-python",
   "name": "python",
   "nbconvert_exporter": "python",
   "pygments_lexer": "ipython3",
   "version": "3.11.3"
  },
  "rise": {
   "footer": "<img src='_static/images/aai-logo.png' alt='logo' height='50em'>",
   "header": "<img src='_static/images/transferlab-logo.svg' alt='logo' height='20em' />",
   "theme": "white"
  },
  "toc": {
   "base_numbering": 1,
   "nav_menu": {
    "height": "148px",
    "width": "256px"
   },
   "number_sections": false,
   "sideBar": true,
   "skip_h1_title": false,
   "title_cell": "Table of Contents",
   "title_sidebar": "Contents",
   "toc_cell": false,
   "toc_position": {
    "height": "563.2px",
    "left": "125px",
    "top": "116.469px",
    "width": "315.6px"
   },
   "toc_section_display": true,
   "toc_window_display": false
  },
  "varInspector": {
   "cols": {
    "lenName": 16,
    "lenType": 16,
    "lenVar": 40
   },
   "kernels_config": {
    "python": {
     "delete_cmd_postfix": "",
     "delete_cmd_prefix": "del ",
     "library": "var_list.py",
     "varRefreshCmd": "print(var_dic_list())"
    },
    "r": {
     "delete_cmd_postfix": ") ",
     "delete_cmd_prefix": "rm(",
     "library": "var_list.r",
     "varRefreshCmd": "cat(var_dic_list()) "
    }
   },
   "types_to_exclude": [
    "module",
    "function",
    "builtin_function_or_method",
    "instance",
    "_Feature"
   ],
   "window_display": false
  }
 },
 "nbformat": 4,
 "nbformat_minor": 1
}
