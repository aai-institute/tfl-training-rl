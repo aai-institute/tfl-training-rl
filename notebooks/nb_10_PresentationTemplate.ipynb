{
 "cells": [
  {
   "cell_type": "code",
   "execution_count": null,
   "metadata": {
    "hide_input": true,
    "init_cell": true,
    "slideshow": {
     "slide_type": "skip"
    },
    "tags": [
     "remove-input",
     "remove-output",
     "remove-input-nbconv",
     "remove-output-nbconv"
    ]
   },
   "outputs": [],
   "source": [
    "%%capture\n",
    "\n",
    "%load_ext autoreload\n",
    "%autoreload 2\n",
    "%matplotlib inline\n",
    "%load_ext training_rl"
   ]
  },
  {
   "cell_type": "code",
   "execution_count": null,
   "metadata": {
    "hide_input": true,
    "init_cell": true,
    "slideshow": {
     "slide_type": "skip"
    },
    "tags": [
     "remove-input",
     "remove-input-nbconv"
    ]
   },
   "outputs": [
    {
     "data": {
      "text/html": [
       "<style>/*\n",
       "This file is mainly copy-pasta from rise's examples\n",
       "https://github.com/damianavila/RISE/blob/master/examples/rise.css\n",
       "that was further customized for appliedAI purposes\n",
       "*/\n",
       "@import url('https://fonts.googleapis.com/css2?family=Work+Sans:wght@400&display=swap');\n",
       "\n",
       "\n",
       "/*\n",
       "body {\n",
       "    font-family: 'Work Sans', sans-serif !important;\n",
       "    text-transform: initial !important;\n",
       "    letter-spacing: initial !important;\n",
       "    font-weight: 400 !important;\n",
       "    line-height: 1.5 !important;\n",
       "    text-size-adjust: 100% !important;\n",
       "    ‑webkit‑text‑size‑adjust: 100% !important;\n",
       "}\n",
       "\n",
       "\n",
       ".reveal, div.text_cell_render, .md-slide, .sidebar-wrapper {\n",
       "    font-size: 1.5rem !important;\n",
       "}\n",
       "*/\n",
       "\n",
       ".navbar-default .navbar-nav > li > a {\n",
       "    color: #00747b !important;\n",
       "}\n",
       "\n",
       ".filename {\n",
       "    font-size: 2.4rem !important;\n",
       "    color: #212529 !important;\n",
       "    font-weight: 600 !important;\n",
       "}\n",
       "\n",
       ".reveal, .md-slide {\n",
       "    color: white !important;\n",
       "}\n",
       "\n",
       "h1, h2 {\n",
       "    color: #00747b !important;\n",
       "}\n",
       "\n",
       "h3, h4, h5, h6 {\n",
       "    color: #808080 !important;\n",
       "}\n",
       "\n",
       ".reveal p, .reveal ol, .reveal dl, .reveal ul,\n",
       "div.text_cell_render {\n",
       "    color: #212529 !important;\n",
       "}\n",
       "\n",
       "/*copied from stackoverflow, better spacing between list items*/\n",
       "li + li {\n",
       "  margin-top: 0.2em;\n",
       "}\n",
       "\n",
       "body.rise-enabled .reveal ol, body.rise-enabled .reveal dl, body.rise-enabled .reveal ul {\n",
       "    margin-left: 0.1em;\n",
       "    margin-top: 0.2em;\n",
       "}\n",
       "\n",
       ".reveal .rendered_html h1:first-child,\n",
       ".reveal .rendered_html h2:first-child,\n",
       ".reveal .rendered_html h3:first-child,\n",
       ".reveal .rendered_html h4:first-child,\n",
       ".reveal .rendered_html h5:first-child {\n",
       "    margin-top: 0.2em;\n",
       "}\n",
       "\n",
       "/*\n",
       ".CodeMirror-lines, .output_text {\n",
       "    font-size: 1.5rem !important;\n",
       "}\n",
       "*/\n",
       "\n",
       "h1.plan, h2.plan, h3.plan {\n",
       "    text-align: center;\n",
       "    padding-bottom: 30px;\n",
       "}\n",
       "\n",
       "ul.plan>li>span.plan-bold {\n",
       "    font-size: 110%;\n",
       "    padding: 4px;\n",
       "    font-weight: bold;\n",
       "    background-color: #eee;\n",
       "}\n",
       "\n",
       "ul.plan>li>ul.subplan>li>span.plan-bold {\n",
       "    font-weight: bold;\n",
       "}\n",
       "\n",
       ".plan-strike {\n",
       "    opacity: 0.4;\n",
       "/*    text-decoration: line-through; */\n",
       "}\n",
       "\n",
       "div.plan-container {\n",
       "    display: grid;\n",
       "    grid-template-columns: 50% 50%;\n",
       "}\n",
       "\n",
       "/*\n",
       " * this is to void xarray's html output to show the fallback textual representation\n",
       " * see also\n",
       "   * xarray.md and\n",
       "   * https://github.com/damianavila/RISE/issues/594\n",
       " */\n",
       ".reveal pre.xr-text-repr-fallback {\n",
       "    display: none;\n",
       "}\n",
       "\n",
       "#toc-header, .toc-item li {\n",
       "    margin: auto !important;\n",
       "    color: #808080 !important;\n",
       "}\n",
       "\n",
       "#toc, #toc-wrapper, .toc-item-num, #toc a, .toc {\n",
       "    margin: auto !important;\n",
       "    color: #00747b !important;\n",
       "}\n",
       "\n",
       "#toc-wrapper {\n",
       "    top: auto !important;\n",
       "    bottom: auto !important;\n",
       "    margin-top: 2rem !important;\n",
       "    color: #00747b !important;\n",
       "}\n",
       "\n",
       "\n",
       "#rise-header {\n",
       "    margin: 10px;\n",
       "    left: 5%;\n",
       "}\n",
       "\n",
       "#rise-footer {\n",
       "    margin: 10px;\n",
       "    right: 5%;\n",
       "}\n",
       "\n",
       "#rise-backimage {\n",
       "    opacity: 0.70;\n",
       "}\n",
       "\n",
       ".reveal img {\n",
       "    max-width: 100%;\n",
       "}\n",
       "\n",
       "\n",
       ".md-slide.title {\n",
       "    position: relative;\n",
       "    top: -50%;\n",
       "    margin-left: 5%;\n",
       "    font-size: 4em !important;\n",
       "    line-height: 1.6;\n",
       "}\n",
       "</style>"
      ],
      "text/plain": [
       "<IPython.core.display.HTML object>"
      ]
     },
     "execution_count": null,
     "metadata": {},
     "output_type": "execute_result"
    }
   ],
   "source": [
    "%presentation_style"
   ]
  },
  {
   "cell_type": "code",
   "execution_count": null,
   "metadata": {
    "hide_input": true,
    "init_cell": true,
    "slideshow": {
     "slide_type": "skip"
    },
    "tags": [
     "remove-input",
     "remove-output",
     "remove-input-nbconv",
     "remove-output-nbconv"
    ]
   },
   "outputs": [],
   "source": [
    "%%capture\n",
    "\n",
    "%set_random_seed 12"
   ]
  },
  {
   "cell_type": "code",
   "execution_count": null,
   "metadata": {
    "hide_input": true,
    "init_cell": true,
    "slideshow": {
     "slide_type": "skip"
    },
    "tags": [
     "remove-input-nbconv",
     "remove-cell"
    ]
   },
   "outputs": [
    {
     "data": {
      "text/markdown": [
       "\n",
       "$\\newcommand{\\vect}[1]{{\\mathbf{\\boldsymbol{#1}} }}$\n",
       "$\\newcommand{\\amax}{{\\text{argmax}}}$\n",
       "$\\newcommand{\\P}{{\\mathbb{P}}}$\n",
       "$\\newcommand{\\E}{{\\mathbb{E}}}$\n",
       "$\\newcommand{\\R}{{\\mathbb{R}}}$\n",
       "$\\newcommand{\\Z}{{\\mathbb{Z}}}$\n",
       "$\\newcommand{\\N}{{\\mathbb{N}}}$\n",
       "$\\newcommand{\\C}{{\\mathbb{C}}}$\n",
       "$\\newcommand{\\abs}[1]{{ \\left| #1 \\right| }}$\n",
       "$\\newcommand{\\simpl}[1]{{\\Delta^{#1} }}$\n"
      ],
      "text/plain": [
       "<IPython.core.display.Markdown object>"
      ]
     },
     "metadata": {},
     "output_type": "display_data"
    }
   ],
   "source": [
    "%load_latex_macros"
   ]
  },
  {
   "cell_type": "code",
   "execution_count": null,
   "metadata": {
    "init_cell": true,
    "slideshow": {
     "slide_type": "skip"
    },
    "tags": [
     "hide-cell"
    ]
   },
   "outputs": [
    {
     "ename": "ModuleNotFoundError",
     "evalue": "No module named 'sklearn'",
     "output_type": "error",
     "traceback": [
      "\u001b[0;31m---------------------------------------------------------------------------\u001b[0m",
      "\u001b[0;31mModuleNotFoundError\u001b[0m                       Traceback (most recent call last)",
      "Cell \u001b[0;32mIn[7], line 7\u001b[0m\n\u001b[1;32m      3\u001b[0m \u001b[38;5;28;01mimport\u001b[39;00m \u001b[38;5;21;01mmatplotlib\u001b[39;00m\u001b[38;5;21;01m.\u001b[39;00m\u001b[38;5;21;01mpyplot\u001b[39;00m \u001b[38;5;28;01mas\u001b[39;00m \u001b[38;5;21;01mplt\u001b[39;00m\n\u001b[1;32m      5\u001b[0m \u001b[38;5;28;01mfrom\u001b[39;00m \u001b[38;5;21;01mtyping\u001b[39;00m \u001b[38;5;28;01mimport\u001b[39;00m Protocol\n\u001b[0;32m----> 7\u001b[0m \u001b[38;5;28;01mfrom\u001b[39;00m \u001b[38;5;21;01msklearn\u001b[39;00m\u001b[38;5;21;01m.\u001b[39;00m\u001b[38;5;21;01mbase\u001b[39;00m \u001b[38;5;28;01mimport\u001b[39;00m BaseEstimator\n\u001b[1;32m      8\u001b[0m \u001b[38;5;28;01mfrom\u001b[39;00m \u001b[38;5;21;01msklearn\u001b[39;00m\u001b[38;5;21;01m.\u001b[39;00m\u001b[38;5;21;01mlinear_model\u001b[39;00m \u001b[38;5;28;01mimport\u001b[39;00m LinearRegression\n\u001b[1;32m      9\u001b[0m \u001b[38;5;28;01mfrom\u001b[39;00m \u001b[38;5;21;01msklearn\u001b[39;00m\u001b[38;5;21;01m.\u001b[39;00m\u001b[38;5;21;01mmetrics\u001b[39;00m \u001b[38;5;28;01mimport\u001b[39;00m mean_squared_error, r2_score\n",
      "\u001b[0;31mModuleNotFoundError\u001b[0m: No module named 'sklearn'"
     ]
    }
   ],
   "source": [
    "import pandas as pd\n",
    "import numpy as np\n",
    "import matplotlib.pyplot as plt\n",
    "\n",
    "from typing import Protocol\n",
    "\n",
    "from sklearn.base import BaseEstimator\n",
    "from sklearn.linear_model import LinearRegression\n",
    "from sklearn.metrics import mean_squared_error, r2_score\n",
    "from sklearn.preprocessing import StandardScaler\n",
    "\n",
    "\n",
    "from training_rl.nb_utils import display_dataframes_side_by_side\n",
    "from training_rl.config import get_config"
   ]
  },
  {
   "cell_type": "code",
   "execution_count": null,
   "metadata": {
    "init_cell": true,
    "slideshow": {
     "slide_type": "skip"
    },
    "tags": [
     "hide-cell"
    ]
   },
   "outputs": [],
   "source": [
    "c = get_config(reload=True)"
   ]
  },
  {
   "cell_type": "markdown",
   "metadata": {
    "slideshow": {
     "slide_type": "slide"
    }
   },
   "source": [
    "<img src=\"_static/images/aai-institute-cover.svg\" alt=\"Snow\" style=\"width:100%;\">\n",
    "<div class=\"md-slide title\">TfL Training Template</div>\n",
    "<div class=\"md-slide title\">Include title and greeting with divs</div>"
   ]
  },
  {
   "cell_type": "markdown",
   "metadata": {
    "hide_input": false,
    "slideshow": {
     "slide_type": "slide"
    }
   },
   "source": [
    "# Template for TfL Notebooks\n",
    "\n",
    "This notebook is a template/readme for TfL trainings. \n",
    "Please make sure to **read all of it** before creating content\n",
    "for the trainings!\n",
    "\n",
    "We use rise for supporting a presentation mode inside jupyter.\n",
    "Try it out - enter the presentation mode by pressing `Alt + R`\n",
    "(and exit it with the same shortcut). \n",
    "\n",
    "For presenting, it is highly recommended to enter the browser's\n",
    "full-screen mode (`F11` on Windows with chrome-based browsers).\n",
    "\n",
    "For viewing cell metadata related to slides or other aspects, check \n",
    "out `View -> Cell Toolbar`. When you receive this template, this\n",
    "is set to `None` to demonstrate how a committed notebook should\n",
    "look.\n",
    "\n",
    "\n",
    "The slides are customized with header, footer and backimage as\n",
    "described [here](https://rise.readthedocs.io/en/stable/customize.html).\n",
    "\n",
    "Don't forget to customize the title-slide's and last slide's texts :).\n"
   ]
  },
  {
   "cell_type": "markdown",
   "metadata": {
    "slideshow": {
     "slide_type": "subslide"
    }
   },
   "source": [
    "## Extension goodies\n",
    "\n",
    "To make the notebook prettier and more functional, we use some \n",
    "[jupyter extensions](https://jupyter-contrib-nbextensions.readthedocs.io/en/latest/).\n",
    "\n",
    "1. *Equation numbering* for rendering numbers and links to equations. So this works:\n",
    "\\begin{equation}\n",
    "  \\mathcal{X}= \\{1, \\dots, N \\} \\label{x_def}.\n",
    "\\end{equation}\n",
    "Now we can refer to the equation as: $\\ref{x_def}$. Note however that:\n",
    "\n",
    "- You have to use `\\begin{equation} ... \\end{equation}`, just `$$` won't work.\n",
    "- Sometimes things will have to be refreshed, use the button `Reset equation numbering` in the toolbar.\n",
    "- Links to equations don't work in presentation mode.\n",
    "    \n",
    "2. *Hinterland* for immediate autocompletion (without `Tab`).\n",
    "\n",
    "3. *Spellchecker* (most extensions won't work in an IDE, so you will probably write quite a lot directly from the notebook interface). You should probably always keep it on.\n",
    "4. The *toc2* extension for a table of contents (in TfL style). This extension is a bit buggy on Windows (on linux or inside docker everything is fine), but still usable and of value. It also provides a `Navigation` button in the toolbar which works fine on any OS. **Important**: The ToC does not automatically disappear when going into presentation mode. Thus, before opening presentation mode, first close the ToC. For using the ToC on Windows:  \n",
    "\n",
    "    - When the ToC is first opened, drag the resize button a bit to make it actually turn into a sidebar.\n",
    "    - When it is closed, the remaining jupyter window doesn't resize automatically. Drag the browser and maximize it again to trigger resizing.\n",
    "    \n",
    "5. *Initialization cells*. Nice extension to define which cells should be executed automatically as the notebook is loaded or the kernel is restarted. We use it to automatically load styles and data. In order to mark cells as initialization cells, go to `View -> Cell Toolbar -> Initialization Cell`. Switch back to viewing `Slideshow` after.\n",
    "6. *Hide input*. Used in conjunction with initialization and with the `%%capture` magic command which also hides output for hiding style and data loading from the users. Note that the cells don't fully disappear, they are turned into a single white line. Select the white line and untoggle it with the `^` button in the toolbar to view and edit it. Only works on code cells.\n",
    "7. The *exercise2* extension for displaying hints and solutions"
   ]
  },
  {
   "cell_type": "markdown",
   "metadata": {
    "slideshow": {
     "slide_type": "subslide"
    }
   },
   "source": [
    "## A note on styles\n",
    "\n",
    "Styles are defined in the [rise.css](rise.css) file. They are used in presentation\n",
    "automatically, but must be loaded to be available in the notebook mode.\n",
    "This is reached by using the custom magic command `%presentation_style`\n",
    "in a hidden initialization cell, see above.\n",
    "\n",
    "The styles are intended to be in sync with the [TfL website](https://tfl.appliedai.de/). \n",
    "This means headings h3-h6 look like this:\n",
    "\n",
    "### Some text in h3 - in TfL grey.\n",
    "\n",
    "The styles in the notebook are similar to the presentation mode but not exactly the same.\n",
    "\n",
    "When fully done with preparing a notebook, set `View -> Cell Toolbar` to `None` before\n",
    "committing it. This will look much prettier :)\n"
   ]
  },
  {
   "cell_type": "markdown",
   "metadata": {
    "slideshow": {
     "slide_type": "subslide"
    }
   },
   "source": [
    "## Basics of rise\n",
    "\n",
    "Have a look at the [documentation of rise](https://rise.readthedocs.io/en/stable/). \n",
    "Be sure to declare the types of the cells such that the presentation looks nice.\n",
    "\n",
    "For example, it might be good idea to have the first cell in a section (with the title as h1)\n",
    "declared as slide, and all following slides therein as sub-slide or fragment."
   ]
  },
  {
   "cell_type": "markdown",
   "metadata": {
    "slideshow": {
     "slide_type": "subslide"
    }
   },
   "source": [
    "Here a sub-slide that contains some code as fragments."
   ]
  },
  {
   "cell_type": "code",
   "execution_count": null,
   "metadata": {
    "slideshow": {
     "slide_type": "fragment"
    }
   },
   "outputs": [],
   "source": [
    "df1 = pd.DataFrame({\"a1\": [1, 2], \"b1\": [4, 5]})\n",
    "\n",
    "df2 = pd.DataFrame({\"a2\": [1, 2], \"b2\": [4, 5]})"
   ]
  },
  {
   "cell_type": "code",
   "execution_count": null,
   "metadata": {
    "slideshow": {
     "slide_type": "fragment"
    }
   },
   "outputs": [],
   "source": [
    "display_dataframes_side_by_side([df1, df2])"
   ]
  },
  {
   "cell_type": "markdown",
   "metadata": {
    "slideshow": {
     "slide_type": "slide"
    }
   },
   "source": [
    "# Handling data\n",
    "\n",
    "We use [accsr](https://github.com/appliedAI-Initiative/accsr) \n",
    "for downloading and uploading data from/to a bucket. As recipient of the template.\n",
    "there is very little that you have to do to make everything work.\n",
    "\n",
    "1. Either set the env-var `TFL_STORAGE_ADMIN_SECRET` or overwrite the `secret` entry in (the gitignored) `config_local.yml`. Ask someone for the value, in case you don't have it.\n",
    "2. Structure your data as `data/first_nb`, `data/second_nb` etc. This will allow to download data selectively, and thus not force users to download all data if they just want to execute a single notebook after the workshop. You can also have a `data/common` directory.\n",
    "3. Once data is stored on your disc, call `python scripts/upload_data.py` to upload everything to the cloud. If you made changes to files and want to overwrite them, call `python scripts/upload_data.py -f`. Don't worry about doing this repeatedly, accsr takes care of never re-uploading or downloading everything.\n",
    "4. In notebooks, include magic commands a la `%download_data first_nb` in hidden initialization cells, like done here. This ensures that required data will be pulled when the user opens the notebook. Calling  `%download_data` without an argument will download everything.\n",
    "5. During the actual presentation, data will be downloaded on every spun-up server automatically in the background. Thus, users can get started right away. This is realized by calling the `download_data.py` script as part of the entrypoint. For everything to go smoothly, ask the workshop participants to spin up a server right away when the workshop begins. Then all downloads should finish during the introductory first presentation.\n"
   ]
  },
  {
   "cell_type": "markdown",
   "metadata": {
    "slideshow": {
     "slide_type": "slide"
    }
   },
   "source": [
    "# Writing content\n",
    "\n",
    "Below we give some guidelines on how to design content for a smooth and beautiful\n",
    "experience for everybody."
   ]
  },
  {
   "cell_type": "markdown",
   "metadata": {
    "slideshow": {
     "slide_type": "slide"
    }
   },
   "source": [
    "## Pretty Markdown\n",
    "\n",
    "The way markdown is rendered is, unfortunately, slightly dependent on the renderer.\n",
    "It behaves differently in the live notebook environment and in the html created\n",
    "by nbconvert or by jupyter-book. Especially lists, nested lists and equations\n",
    "within lists are treated differently.\n",
    "\n",
    "Have a look at the way the list in the [Extension goodies](#Extension-goodies) section is\n",
    "written. While difficult to decipher in the un-rendered form, it does render\n",
    "correctly in all environment.\n",
    "\n",
    "### Custom latex\n",
    "\n",
    "It is possible to define latex macros and use them in equations inside jupyter \n",
    "markdown. The template already comes with some predefined macros, they\n",
    "were loaded by the magic command `%load_latex_macros`. To extend the set\n",
    "of macros, simply extend the corresponding string in `constants.py` AND\n",
    "the mathjax configuration in `notebooks/_config.yaml`.\n",
    "\n",
    "Because the macros were loaded, this works: $\\E$ and $\\P$."
   ]
  },
  {
   "cell_type": "markdown",
   "metadata": {
    "slideshow": {
     "slide_type": "subslide"
    }
   },
   "source": [
    "### Rendering and Cells\n",
    "\n",
    "There are three renderings that are important for us:\n",
    "\n",
    "1. Notebook and presentation mode (live rendering)\n",
    "2. The html created by nbconvert (closest to the notebook)\n",
    "3. The html created by jupyter-book (final delivery)\n",
    "\n",
    "They are similar but unfortunately not exactly equal. For example,\n",
    "the configuration of mathjax (used for latex macros)has different\n",
    "mechanisms in the notebook and the jupyter-book.\n",
    "\n",
    "Also, we might want to remove certain cells depending on the renderer.\n",
    "E.g., it might not be needed to include the cells with the hints in the\n",
    "jupyter-book (since the solution is included anyway), but they should\n",
    "be included in the nbconvert-created html, that is used internally to\n",
    "review the training.\n",
    "\n",
    "How cells are processed by the renderer is defined by **tags** in\n",
    "cell metadata. For jupyter-book tags, see the [documentation](https://jupyterbook.org/en/stable/interactive/hiding.html).\n",
    "For nbconvert, the `build_docs.sh` script is configured to take into\n",
    "account tags that end in `nbconv`. So, a cell tagged with\n",
    "`[\"remove-cell\", \"hide-input-nbconv\"]` will be removed in the\n",
    " jupyter-book rendering and input-hidden in the nbconvert rendering.\n",
    " We cannot use the same tags for nbconvert as for jupyter-book, since\n",
    " we sometimes need to treat cells differently depending on the renderer.`\n"
   ]
  },
  {
   "cell_type": "markdown",
   "metadata": {
    "slideshow": {
     "slide_type": "slide"
    }
   },
   "source": [
    "## Code Guidelines\n",
    "\n",
    "\n",
    "The most evil thing inside a notebook is state. It is very typical to encounter code\n",
    "like\n",
    "\n",
    "```python\n",
    "df = pd.read_csv(\"some/path.csv\")\n",
    "df[\"my_col\"] = df[\"my_col\"] / 10\n",
    "\n",
    "# Exercise 1: do something to df\n",
    "\n",
    "# Exercise 2 (in a new cell): now do something else to df\n",
    "```\n",
    "\n",
    "This kind of approach, while maybe looking innocent, leads to confusion about\n",
    "what is actually behind the variable `df`. Every training participant will have\n",
    "a different value stored in it, and re-executing code from earlier cells after\n",
    "new cells have been executed might give junk results because `df` has been\n",
    "modified. It is very easy to completely lose track of what has happened to\n",
    "mutable objects in notebooks, due to jupyter's non-linear execution model.\n"
   ]
  },
  {
   "cell_type": "markdown",
   "metadata": {
    "slideshow": {
     "slide_type": "subslide"
    }
   },
   "source": [
    "The antidote to the above conundrum is to rely on state as little as possible.\n",
    "Thus, only expensive operations, like loading data, are stored in state, and\n",
    "everything else is done with pure functions.\n",
    "\n",
    "Note that participants will mostly base their solutions on copy-pasted code\n",
    "from the notebook or from hints! This means all hints, proposals, and \n",
    "exercise solutions should be written as functions and not as state-altering \n",
    "sequences of commands."
   ]
  },
  {
   "cell_type": "code",
   "execution_count": null,
   "metadata": {
    "slideshow": {
     "slide_type": "subslide"
    }
   },
   "outputs": [],
   "source": [
    "# Example: we want to normalize the housing data set.\n",
    "# We load the data into the notebooks state, but all processing is done by functions\n",
    "\n",
    "housing_df = pd.read_csv(c.housing_data)\n",
    "housing_df.head()"
   ]
  },
  {
   "cell_type": "markdown",
   "metadata": {
    "slideshow": {
     "slide_type": "subslide"
    }
   },
   "source": [
    "Now we write functions for all processing steps, as below:"
   ]
  },
  {
   "cell_type": "code",
   "execution_count": null,
   "metadata": {
    "slideshow": {
     "slide_type": "fragment"
    }
   },
   "outputs": [],
   "source": [
    "def get_numerical_columns(df: pd.DataFrame):\n",
    "    return df.select_dtypes(include=[np.number, \"float64\", \"int64\"]).columns\n",
    "\n",
    "\n",
    "def normalize_and_get_scaler(df: pd.DataFrame, columns: list[\"str\"] = None):\n",
    "    columns = columns or get_numerical_columns(df)\n",
    "    scaler = StandardScaler()\n",
    "    result = df.copy()\n",
    "    result[columns] = scaler.fit_transform(df[columns])\n",
    "    return result, scaler"
   ]
  },
  {
   "cell_type": "markdown",
   "metadata": {
    "slideshow": {
     "slide_type": "subslide"
    }
   },
   "source": [
    "To visualize this processing step, we create a new variable \n",
    "instead of overwriting `housing_df`.\n",
    "\n",
    "However, in further processing steps, one probably should not use\n",
    "this new variable and instead just call `normalize_and_get_scaler`\n",
    "again. Proceeding in this fashion guarantees that the state of\n",
    "the notebook is always transparent. \n",
    "\n",
    "*You will thank yourself later\n",
    "if you consistently avoid state and instead recompute things if \n",
    "necessary!*\n",
    "\n",
    "For expensive computations with simple inputs, consider using `@cache`"
   ]
  },
  {
   "cell_type": "code",
   "execution_count": null,
   "metadata": {
    "slideshow": {
     "slide_type": "fragment"
    }
   },
   "outputs": [],
   "source": [
    "normalized_housing_df, scaler = normalize_and_get_scaler(housing_df)\n",
    "normalized_housing_df.head()"
   ]
  },
  {
   "cell_type": "markdown",
   "metadata": {
    "slideshow": {
     "slide_type": "subslide"
    }
   },
   "source": [
    "### A note on software engineering\n",
    "\n",
    "Apart from keeping the structure functional to avoid state, we are also committed to \n",
    "writing the best possible code. This is not only good for us internally, and demonstrates\n",
    "our competence to training participants, but also means that the code received by participants\n",
    "later on is something they can build on.\n",
    "\n",
    "We should not back down from advanced programming concepts if they are appropriate. Of course,\n",
    "during the training you can tell participants that it is not very important to understand\n",
    "some parts of the code (especially if the participants don't have a solid software engineering\n",
    "background). But this does not mean that we have to compromise on code quality, just because\n",
    "some participants won't appreciate it.\n",
    "\n",
    "So, feel free to use things like `Generic` or `Protocol`, add precise types everywhere,\n",
    "write good tests and docstrings, and structure your code as if the training \n",
    "was a project delivered to a knowledgeable customer - which is exactly what a training is!."
   ]
  },
  {
   "cell_type": "markdown",
   "metadata": {
    "slideshow": {
     "slide_type": "slide"
    }
   },
   "source": [
    "## Exercises\n",
    "\n",
    "The exercises, apart from being interesting and illuminating, should work on three levels.\n",
    "\n",
    "- A motivated, **highly experienced** engineer should be able to **write the solution** from scratch, maybe after looking through the source code in some modules. Note that you can reference source code inside markdown as: [regression_housing_data.py](../../edit/scripts/regression_housing_data.py).\n",
    "- A less motivated, **somehow experienced** engineer can **open the hint**, which will explain how to write the solution and provide a proposal for signatures of the functions that constitute it. They should be able to solve the exercise with this support.\n",
    "- Finally, a non-motivated or **less experienced** engineer can directly **load the solution** and go through it. The code should be well documented and invite the user to read through it line by line, try out different parametrizations, or even to modify it and to see what happens."
   ]
  },
  {
   "cell_type": "markdown",
   "metadata": {
    "slideshow": {
     "slide_type": "subslide"
    }
   },
   "source": [
    "## Example exercise\n",
    "\n",
    "We will use the `%load` and the custom `%view_hint` magic commands for displaying\n",
    "solutions and hints. This means that the solutions and hints should be\n",
    "saved as code/markdown snippets. It makes things a bit hard to debug,\n",
    "because the snippets are not valid code on their own, but there is\n",
    "currently no better solution.\n",
    "\n",
    "Consider also writing a script in addition to the notebook where\n",
    "the logic of all exercises is done in a single, normal, linear execution\n",
    "environment. This will not only be a useful reference for participants\n",
    "but also make your own life easier, as you won't have to re-execute\n",
    "the notebook all the time or keep track of what is happening there.\n",
    "You will also have full IDE and Copilot support when writing a script,\n",
    "which can be very nice ;).\n",
    "\n",
    "Once such a script is finished, transferring the code to the notebook\n",
    "is rather quick."
   ]
  },
  {
   "cell_type": "markdown",
   "metadata": {
    "slideshow": {
     "slide_type": "subslide"
    }
   },
   "source": [
    "### Exercise 1: regression on housing data\n",
    "\n",
    "Use some regression model to predict the `median_house_value` from other attributes."
   ]
  },
  {
   "cell_type": "markdown",
   "metadata": {
    "slideshow": {
     "slide_type": "skip"
    },
    "solution2": "hidden",
    "solution2_first": true,
    "tags": [
     "remove-cell",
     "remove-cell-nbconv"
    ]
   },
   "source": [
    "## Hint for Exercise 1\n",
    "\n",
    "If you want, you can view a hint for the solution by pressing the button below"
   ]
  },
  {
   "cell_type": "markdown",
   "metadata": {
    "slideshow": {
     "slide_type": "skip"
    },
    "solution2": "hidden",
    "tags": [
     "remove-cell",
     "remove-cell-nbconv"
    ]
   },
   "source": [
    "You should encode the categorical values and remove nans.\n",
    "\n",
    "Then, create a train-test split, normalize the data frame and train\n",
    "some sklear model, for example a linear regression, on the target column.\n",
    "\n",
    "The results can be visualized with `plt.scatter`, you should also\n",
    "compute some metrics like the mean squared error and the r2 score.\n",
    "\n",
    "We found writing functions with the following signatures useful (you can\n",
    "ignore the `Protocol` part, it's just a way to define a type hint):\n",
    "\n",
    "```python\n",
    "\n",
    "class SKlearnModelProtocol(Protocol):\n",
    "    def fit(self, X: pd.DataFrame, y: pd.DataFrame):\n",
    "        ...\n",
    "\n",
    "    def predict(self, X: pd.DataFrame) -> np.ndarray:\n",
    "        ...\n",
    "\n",
    "\n",
    "def get_categorical_columns(df: pd.DataFrame) -> list[\"str\"]:\n",
    "    pass\n",
    "\n",
    "\n",
    "def one_hot_encode_categorical(\n",
    "    df: pd.DataFrame, columns: list[str] = None\n",
    ") -> pd.DataFrame:\n",
    "    pass\n",
    "\n",
    "\n",
    "def train_sklearn_regression_model(\n",
    "    model: SKlearnModelProtocol, df: pd.DataFrame, target_column: str\n",
    ") -> SKlearnModelProtocol:\n",
    "    pass\n",
    "\n",
    "\n",
    "def remove_nans(df: pd.DataFrame) -> pd.DataFrame:\n",
    "    pass\n",
    "\n",
    "\n",
    "def get_normalized_train_test_df(df: pd.DataFrame, test_size: float = 0.2) -> tuple[pd.DataFrame, pd.DataFrame]:\n",
    "    pass\n",
    "\n",
    "\n",
    "def evaluate_model(\n",
    "    model: SKlearnModelProtocol, X_test: pd.DataFrame, y_test: pd.DataFrame\n",
    ") -> np.ndarray:\n",
    "    pass\n",
    "```"
   ]
  },
  {
   "cell_type": "markdown",
   "metadata": {
    "solution2": "hidden",
    "solution2_first": true,
    "tags": [
     "remove-cell",
     "remove-cell-nbconv"
    ]
   },
   "source": [
    "You can also jump ahead to the full solution, either have a look at\n",
    "[regression_housing_data.py](../../edit/scripts/regression_housing_data.py) or\n",
    "click the button below"
   ]
  },
  {
   "cell_type": "markdown",
   "metadata": {
    "solution2": "hidden"
   },
   "source": [
    "## Solution Exercise 1"
   ]
  },
  {
   "cell_type": "code",
   "execution_count": null,
   "metadata": {
    "solution2": "hidden"
   },
   "outputs": [],
   "source": [
    "class SKlearnModelProtocol(Protocol):\n",
    "    def fit(self, X: pd.DataFrame, y: pd.DataFrame):\n",
    "        ...\n",
    "\n",
    "    def predict(self, X: pd.DataFrame) -> np.ndarray:\n",
    "        ...\n",
    "\n",
    "\n",
    "def get_categorical_columns(df: pd.DataFrame):\n",
    "    return df.select_dtypes(include=[\"object\", \"category\"]).columns\n",
    "\n",
    "\n",
    "def one_hot_encode_categorical(\n",
    "    df: pd.DataFrame, columns: list[str] = None\n",
    ") -> pd.DataFrame:\n",
    "    columns = columns or get_categorical_columns(df)\n",
    "    for column in columns:\n",
    "        df = pd.concat([df, pd.get_dummies(df[column], prefix=column)], axis=1)\n",
    "        df = df.drop(column, axis=1)\n",
    "    return df\n",
    "\n",
    "\n",
    "def train_sklearn_regression_model(\n",
    "    model: SKlearnModelProtocol, df: pd.DataFrame, target_column: str\n",
    "):\n",
    "    X = df.drop(target_column, axis=1)\n",
    "    y = df[target_column]\n",
    "    model.fit(X, y)\n",
    "    return model\n",
    "\n",
    "\n",
    "def remove_nans(df: pd.DataFrame):\n",
    "    # count rows with nans\n",
    "    nans_count = df.isna().sum().sum()\n",
    "    if nans_count > 0:\n",
    "        print(f\"Warning: {nans_count} NaNs were found and removed\")\n",
    "    return df.dropna()\n",
    "\n",
    "\n",
    "def get_normalized_train_test_df(df: pd.DataFrame, test_size: float = 0.2):\n",
    "    df = remove_nans(df)\n",
    "    df, _ = normalize_and_get_scaler(df)\n",
    "    df = one_hot_encode_categorical(df)\n",
    "    train_df = df.sample(frac=1 - test_size)\n",
    "    test_df = df.drop(train_df.index)\n",
    "    return train_df, test_df\n",
    "\n",
    "\n",
    "def evaluate_model(\n",
    "    model: SKlearnModelProtocol, X_test: pd.DataFrame, y_test: pd.DataFrame\n",
    "):\n",
    "    y_pred = model.predict(X_test)\n",
    "    print(f\"Mean squared error: {mean_squared_error(y_test, y_pred)}\")\n",
    "    print(f\"R2 score: {r2_score(y_test, y_pred)}\")\n",
    "    return y_pred\n",
    "\n",
    "\n",
    "# normalize and split data\n",
    "train_df, test_df = get_normalized_train_test_df(housing_df)\n",
    "\n",
    "# train\n",
    "trained_model = train_sklearn_regression_model(\n",
    "    LinearRegression(), train_df, \"median_house_value\"\n",
    ")\n",
    "\n",
    "# evaluate\n",
    "y_pred = evaluate_model(\n",
    "    trained_model,\n",
    "    test_df.drop(\"median_house_value\", axis=1),\n",
    "    test_df[\"median_house_value\"],\n",
    ")\n",
    "\n",
    "# visualize results\n",
    "plt.scatter(test_df[\"median_house_value\"], y_pred)\n",
    "plt.xlabel(\"True median house value\")\n",
    "plt.ylabel(\"Predicted median house value\")\n",
    "plt.show()\n"
   ]
  },
  {
   "cell_type": "markdown",
   "metadata": {
    "slideshow": {
     "slide_type": "slide"
    },
    "tags": [
     "remove-cell",
     "remove-cell-nbconv"
    ]
   },
   "source": [
    "<img src=\"_static/images/aai-institute-cover.svg\" alt=\"Snow\" style=\"width:100%;\">\n",
    "<div class=\"md-slide title\">Thank you for the attention!</div>\n",
    "\n",
    "<div class=\"md-slide title\">Say goodbye in your preferred way :) </div>"
   ]
  }
 ],
 "metadata": {
  "celltoolbar": "Edit Metadata",
  "kernelspec": {
   "display_name": "Python 3 (ipykernel)",
   "language": "python",
   "name": "python3"
  },
  "language_info": {
   "codemirror_mode": {
    "name": "ipython",
    "version": 3
   },
   "file_extension": ".py",
   "mimetype": "text/x-python",
   "name": "python",
   "nbconvert_exporter": "python",
   "pygments_lexer": "ipython3",
   "version": "3.11.5"
  },
  "rise": {
   "footer": "<img src='_static/images/aai-logo.png' alt='logo' height='50em'>",
   "header": "<img src='_static/images/transferlab-logo.svg' alt='logo' height='20em' />",
   "theme": "white"
  },
  "toc": {
   "base_numbering": 1,
   "nav_menu": {
    "height": "148px",
    "width": "256px"
   },
   "number_sections": false,
   "sideBar": true,
   "skip_h1_title": false,
   "title_cell": "Table of Contents",
   "title_sidebar": "Contents",
   "toc_cell": false,
   "toc_position": {
    "height": "563.2px",
    "left": "125px",
    "top": "116.469px",
    "width": "315.6px"
   },
   "toc_section_display": true,
   "toc_window_display": false
  },
  "varInspector": {
   "cols": {
    "lenName": 16,
    "lenType": 16,
    "lenVar": 40
   },
   "kernels_config": {
    "python": {
     "delete_cmd_postfix": "",
     "delete_cmd_prefix": "del ",
     "library": "var_list.py",
     "varRefreshCmd": "print(var_dic_list())"
    },
    "r": {
     "delete_cmd_postfix": ") ",
     "delete_cmd_prefix": "rm(",
     "library": "var_list.r",
     "varRefreshCmd": "cat(var_dic_list()) "
    }
   },
   "types_to_exclude": [
    "module",
    "function",
    "builtin_function_or_method",
    "instance",
    "_Feature"
   ],
   "window_display": false
  }
 },
 "nbformat": 4,
 "nbformat_minor": 1
}
