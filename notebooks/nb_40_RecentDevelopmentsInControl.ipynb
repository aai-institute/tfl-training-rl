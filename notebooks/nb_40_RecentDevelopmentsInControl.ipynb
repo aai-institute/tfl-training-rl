{
 "cells": [
  {
   "cell_type": "code",
   "execution_count": 1,
   "metadata": {
    "init_cell": true,
    "slideshow": {
     "slide_type": "skip"
    }
   },
   "outputs": [],
   "source": [
    "%%capture\n",
    "%load_ext autoreload\n",
    "%autoreload 2\n",
    "%matplotlib inline\n",
    "%load_ext training_rl\n",
    "%set_random_seed 12"
   ]
  },
  {
   "cell_type": "code",
   "execution_count": 2,
   "metadata": {
    "init_cell": true,
    "slideshow": {
     "slide_type": "skip"
    }
   },
   "outputs": [
    {
     "data": {
      "text/html": [
       "<style>/*\n",
       "This file is mainly copy-pasta from rise's examples\n",
       "https://github.com/damianavila/RISE/blob/master/examples/rise.css\n",
       "that was further customized for appliedAI purposes\n",
       "*/\n",
       "@import url('https://fonts.googleapis.com/css2?family=Work+Sans:wght@400&display=swap');\n",
       "\n",
       "\n",
       "/*\n",
       "body {\n",
       "    font-family: 'Work Sans', sans-serif !important;\n",
       "    text-transform: initial !important;\n",
       "    letter-spacing: initial !important;\n",
       "    font-weight: 400 !important;\n",
       "    line-height: 1.5 !important;\n",
       "    text-size-adjust: 100% !important;\n",
       "    ‑webkit‑text‑size‑adjust: 100% !important;\n",
       "}\n",
       "\n",
       "\n",
       ".reveal, div.text_cell_render, .md-slide, .sidebar-wrapper {\n",
       "    font-size: 1.5rem !important;\n",
       "}\n",
       "*/\n",
       "\n",
       ".navbar-default .navbar-nav > li > a {\n",
       "    color: #00747b !important;\n",
       "}\n",
       "\n",
       ".filename {\n",
       "    font-size: 2.4rem !important;\n",
       "    color: #212529 !important;\n",
       "    font-weight: 600 !important;\n",
       "}\n",
       "\n",
       ".reveal, .md-slide {\n",
       "    color: white !important;\n",
       "}\n",
       "\n",
       "h1, h2 {\n",
       "    color: #00747b !important;\n",
       "}\n",
       "\n",
       "h3, h4, h5, h6 {\n",
       "    color: #808080 !important;\n",
       "}\n",
       "\n",
       ".reveal p, .reveal ol, .reveal dl, .reveal ul,\n",
       "div.text_cell_render {\n",
       "    color: #212529 !important;\n",
       "}\n",
       "\n",
       "/*copied from stackoverflow, better spacing between list items*/\n",
       "li + li {\n",
       "  margin-top: 0.2em;\n",
       "}\n",
       "\n",
       "body.rise-enabled .reveal ol, body.rise-enabled .reveal dl, body.rise-enabled .reveal ul {\n",
       "    margin-left: 0.1em;\n",
       "    margin-top: 0.2em;\n",
       "}\n",
       "\n",
       ".reveal .rendered_html h1:first-child,\n",
       ".reveal .rendered_html h2:first-child,\n",
       ".reveal .rendered_html h3:first-child,\n",
       ".reveal .rendered_html h4:first-child,\n",
       ".reveal .rendered_html h5:first-child {\n",
       "    margin-top: 0.2em;\n",
       "}\n",
       "\n",
       "/*\n",
       ".CodeMirror-lines, .output_text {\n",
       "    font-size: 1.5rem !important;\n",
       "}\n",
       "*/\n",
       "\n",
       "h1.plan, h2.plan, h3.plan {\n",
       "    text-align: center;\n",
       "    padding-bottom: 30px;\n",
       "}\n",
       "\n",
       "ul.plan>li>span.plan-bold {\n",
       "    font-size: 110%;\n",
       "    padding: 4px;\n",
       "    font-weight: bold;\n",
       "    background-color: #eee;\n",
       "}\n",
       "\n",
       "ul.plan>li>ul.subplan>li>span.plan-bold {\n",
       "    font-weight: bold;\n",
       "}\n",
       "\n",
       ".plan-strike {\n",
       "    opacity: 0.4;\n",
       "/*    text-decoration: line-through; */\n",
       "}\n",
       "\n",
       "div.plan-container {\n",
       "    display: grid;\n",
       "    grid-template-columns: 50% 50%;\n",
       "}\n",
       "\n",
       "/*\n",
       " * this is to void xarray's html output to show the fallback textual representation\n",
       " * see also\n",
       "   * xarray.md and\n",
       "   * https://github.com/damianavila/RISE/issues/594\n",
       " */\n",
       ".reveal pre.xr-text-repr-fallback {\n",
       "    display: none;\n",
       "}\n",
       "\n",
       "#toc-header, .toc-item li {\n",
       "    margin: auto !important;\n",
       "    color: #808080 !important;\n",
       "}\n",
       "\n",
       "#toc, #toc-wrapper, .toc-item-num, #toc a, .toc {\n",
       "    margin: auto !important;\n",
       "    color: #00747b !important;\n",
       "}\n",
       "\n",
       "#toc-wrapper {\n",
       "    top: auto !important;\n",
       "    bottom: auto !important;\n",
       "    margin-top: 2rem !important;\n",
       "    color: #00747b !important;\n",
       "}\n",
       "\n",
       "\n",
       "#rise-header {\n",
       "    margin: 10px;\n",
       "    left: 5%;\n",
       "}\n",
       "\n",
       "#rise-footer {\n",
       "    margin: 10px;\n",
       "    right: 5%;\n",
       "}\n",
       "\n",
       "#rise-backimage {\n",
       "    opacity: 0.70;\n",
       "}\n",
       "\n",
       ".reveal img {\n",
       "    max-width: 100%;\n",
       "}\n",
       "\n",
       "\n",
       ".md-slide.title {\n",
       "    position: relative;\n",
       "    top: -50%;\n",
       "    margin-left: 5%;\n",
       "    font-size: 4em !important;\n",
       "    line-height: 1.6;\n",
       "}\n",
       "</style>"
      ],
      "text/plain": [
       "<IPython.core.display.HTML object>"
      ]
     },
     "execution_count": 2,
     "metadata": {},
     "output_type": "execute_result"
    }
   ],
   "source": [
    "%presentation_style"
   ]
  },
  {
   "cell_type": "code",
   "execution_count": 3,
   "metadata": {
    "init_cell": true,
    "slideshow": {
     "slide_type": "skip"
    }
   },
   "outputs": [
    {
     "data": {
      "text/markdown": [
       "\n",
       "$\\newcommand{\\vect}[1]{{\\mathbf{\\boldsymbol{#1}} }}$\n",
       "$\\newcommand{\\amax}{{\\text{argmax}}}$\n",
       "$\\newcommand{\\P}{{\\mathbb{P}}}$\n",
       "$\\newcommand{\\E}{{\\mathbb{E}}}$\n",
       "$\\newcommand{\\R}{{\\mathbb{R}}}$\n",
       "$\\newcommand{\\Z}{{\\mathbb{Z}}}$\n",
       "$\\newcommand{\\N}{{\\mathbb{N}}}$\n",
       "$\\newcommand{\\C}{{\\mathbb{C}}}$\n",
       "$\\newcommand{\\abs}[1]{{ \\left| #1 \\right| }}$\n",
       "$\\newcommand{\\simpl}[1]{{\\Delta^{#1} }}$\n"
      ],
      "text/plain": [
       "<IPython.core.display.Markdown object>"
      ]
     },
     "metadata": {},
     "output_type": "display_data"
    }
   ],
   "source": [
    "%load_latex_macros"
   ]
  },
  {
   "cell_type": "markdown",
   "metadata": {
    "slideshow": {
     "slide_type": "slide"
    }
   },
   "source": [
    "<img src=\"_static/images/aai-institute-cover.svg\" alt=\"Snow\" style=\"width:100%;\">\n",
    "<div class=\"md-slide title\">Recent Developments in Control Theory</div>"
   ]
  },
  {
   "cell_type": "markdown",
   "metadata": {
    "slideshow": {
     "slide_type": "slide"
    }
   },
   "source": [
    "# Introduction\n",
    "\n",
    "So far we have but we have only considered deterministic systems with no noise or disturbances.\n",
    "\n",
    "In this part of the training, we will focus on stochastic systems and how MPC can be used to handle such a class of systems.\n",
    "\n",
    "We will also see how MPC can be extended to incoporate learning based on data and how it can be combined with Reinforcement Learning to make systems safer."
   ]
  },
  {
   "cell_type": "markdown",
   "metadata": {
    "slideshow": {
     "slide_type": "slide"
    }
   },
   "source": [
    "# Stochastic Optimal Control Problem"
   ]
  },
  {
   "cell_type": "markdown",
   "metadata": {
    "slideshow": {
     "slide_type": "subslide"
    }
   },
   "source": [
    "The methods discussed in this part deal with the problem of controlling dynamical systems\n",
    "that are subject to system constraints under uncertainty, which can affect numerous parts of the\n",
    "problem formulation. The system dynamics in discrete-time is given by:\n",
    "\n",
    "$$\n",
    "x_{k+1} = f_t(x_k, u_k, k, w_k, \\theta_t)\n",
    "$$\n",
    "\n",
    "Where:\n",
    "- $x_k \\in \\mathbf{R}^n$ is the system state at time $k$.\n",
    "- $u_k \\in \\mathbf{R}^n$ is the applied input at time $k$.\n",
    "- $w_k$ describes a sequence of random variables corresponding to disturbances or process noise in the system, which are often assumed to be independent and identically distributed (i.i.d.).\n",
    "- $\\theta_t \\sim \\mathcal{Q}^{\\theta_t}$ is a random variable describing the parametric uncertainty of the system, which is therefore constant over time.\n",
    "- The subscript $t$ is used to emphasize that these quantities represent the true system dynamics or true optimal control problem. "
   ]
  },
  {
   "cell_type": "markdown",
   "metadata": {
    "slideshow": {
     "slide_type": "subslide"
    }
   },
   "source": [
    "The true problem therefore relates to the development of an optimal controller for a distribution of systems given by $\\mathcal{Q}^{\\theta_t}$ under random disturbances $w_k$.\n",
    "\n",
    "The optimality of the controller is defined with respect to a cost or objective function. In the\n",
    "presence of random model uncertainties, the cost is often defined as the expectation of a sum of\n",
    "potentially time-varying stage costs of the states and inputs over a possibly infinite horizon $N$:\n",
    "\n",
    "$$\n",
    "J_t = E\\left(\\sum \\limits_{k=0}^{T} g_t(x_k, u_k, k)\\right),\n",
    "$$\n",
    "\n",
    "where the expected value is taken with respect to all random variables."
   ]
  },
  {
   "cell_type": "markdown",
   "metadata": {
    "slideshow": {
     "slide_type": "subslide"
    }
   },
   "source": [
    "## Stochastic Predictive Control\n",
    "\n",
    "The constrained stochastic optimal control problem can be formulated as:\n",
    "\n",
    "$$\n",
    "\\begin{array}\\\\\n",
    "J_t^* = \\displaystyle\\min_{\\pi_{k}} & \n",
    "E\\left[\\sum\\limits_{k=0}^{T} g_t(x_k, u_k, k)\\right]\n",
    "\\\\\n",
    "\\text{subject to} & x_{k + 1}= f_t(x_k, u_k, k, w_k, \\theta_t)\n",
    "\\\\\n",
    "& u_k = \\pi_k(x_0, \\dots, x_k)\\\\\n",
    "& \\bar{W} = [w_0, \\dots, w_{N - 1}] \\sim \\mathcal{Q}^{\\bar{W}}, \\theta_t \\sim \\mathcal{Q}^{\\theta_t}\\\\\n",
    "& P[\\bar{X}] = [x_0, \\dots, x_{N}] \\in \\bar{X}_j ) \\ge p_j, \\forall j = 1, \\dots, n_{cx}\\\\\n",
    "& P[\\bar{U}] = [u_0, \\dots, u_{N - 1}] \\in \\bar{U}_j ) \\ge p_j, \\forall j = 1, \\dots , n_{cu}\\\\\n",
    "\\end{array},\n",
    "$$"
   ]
  },
  {
   "cell_type": "markdown",
   "metadata": {
    "slideshow": {
     "slide_type": "subslide"
    }
   },
   "source": [
    "Optimizing over a sequence of control laws $\\{\\pi_k\\}$, which can make use of all information in the\n",
    "form of state measurements $x_k$ up to time step $k$. Problems of this form are in\n",
    "general very hard to solve, and direct efforts typically rely on some form of discretization in space\n",
    "and approximate dynamic programming or reinforcement learning.\n",
    "\n",
    "A notable exception, similar to what we have seen previously, is linear systems under additive noise and quadratic stage costs in the unconstrained setting, for which an exact solution, such as the standard linear quadratic regulator (LQR)."
   ]
  },
  {
   "cell_type": "markdown",
   "metadata": {
    "slideshow": {
     "slide_type": "subslide"
    }
   },
   "source": [
    "MPC approximates the previous problem by repeatedly solving a simplified version of the\n",
    "problem initialized at the currently measured state $x_k$ over a shorter horizon $N$\n",
    "in a receding- horizon fashion.\n",
    "\n",
    "We introduce the prediction model:\n",
    "\n",
    "$$\n",
    "x_{i+1|k} = f(x_{i|k}, u_{i|k}, i + k, w_{i|k}, \\theta),\n",
    "$$\n",
    "\n",
    "where $f$ is the prediction dynamics. It typically aims at approximating the true dynamics but often differs, e.g.,\n",
    "for computational reasons or because a succinct description of the true dynamics is unavailable.\n",
    "\n",
    "We use the subscript $i|k$ to emphasize predictive quantities, where, e.g., $x_{i|k}$ is the i-step-ahead prediction of the state, initialized at $x_{0|k} = x_k$. "
   ]
  },
  {
   "cell_type": "markdown",
   "metadata": {
    "slideshow": {
     "slide_type": "subslide"
    }
   },
   "source": [
    "The most widespread MPC formulations of are nominal MPC schemes, which do not consider any uncertainties in the prediction model but instead rely exclusively on the compensation of uncertainties via feedback and by re-solving the problem at the next sampling instance.\n",
    "\n",
    "In nominal MPC, the optimization can be performed over control sequences $U = [u_{0|k}, \\dots , u_{N - 1|k}]$ rather than policies, resulting in the constrained optimal control problem\n",
    "\n",
    "$$\n",
    "\\begin{array}\\\\\n",
    "J^∗ &= \\displaystyle\\min_{U} g_f(x_{N|k}, u_{N|k}, k + N) + \\sum\\limits_{i=0}^{N-1} g(x_{i|k}, u_{i|k}, i + k)\\\\\n",
    "\\text{subject to} & x_{i+1|k} = f(x_{i|k}, u_{i|k}, i + k)\\\\\n",
    "& U = [u_{0|k}, \\dots, u_{N|k}] \\in U_j, \\forall j = 1, \\dots, n_{cu} \\\\\n",
    "& X = [x_{0|k}, \\dots, x_{N|k}] \\in X_j \\forall j = 1, \\dots, n_{cx} \\\\\n",
    "& x_{N|k} \\in X_f\\\\\n",
    "& x_{0|k} = x_k\\\\\n",
    "\\end{array}.\n",
    "$$"
   ]
  },
  {
   "cell_type": "markdown",
   "metadata": {
    "slideshow": {
     "slide_type": "subslide"
    }
   },
   "source": [
    "The control law is then implicitly defined through the optimization problem as:\n",
    "\n",
    "$$\n",
    "π^{\\text{MPC}}(x_k, k) = u_{0|k}^*,\n",
    "$$\n",
    "\n",
    "where $u_{0|k}^*$ is the first element of the computed optimal control sequence $U^∗$."
   ]
  },
  {
   "cell_type": "markdown",
   "metadata": {
    "slideshow": {
     "slide_type": "subslide"
    }
   },
   "source": [
    "## Control Design Challenges"
   ]
  },
  {
   "cell_type": "markdown",
   "metadata": {
    "slideshow": {
     "slide_type": "subslide"
    }
   },
   "source": [
    "### Feasibility and Optimality with Short Horizons\n",
    "\n",
    "The predictive controller plans the system's trajectory over a finite time window of length $N$, which is usually much smaller than the task duration $T$.\n",
    "\n",
    "For a short $N$ , the controller takes only shortsighted control actions, which may be unsafe or result in\n",
    "poor closed-loop performance.\n",
    "\n",
    "For instance, in autonomous racing, a predictive controller that plans the vehicle's trajectory over a short horizon without accounting for an upcoming curve accelerate to the point that safe turning becomes infeasible.\n",
    "\n",
    "To mitigate the effect of the shortened horizon, a particular cost $g_f(x{N|k}, u_{N|k}, k + N)$\n",
    "and constraint $X_f$ on the last predicted state are imposed to approximate the cost and the effect of the\n",
    "constraints over the remainder of the possibly infinite control horizon $T$."
   ]
  },
  {
   "cell_type": "markdown",
   "metadata": {
    "slideshow": {
     "slide_type": "subslide"
    }
   },
   "source": [
    "### Policy Approximation\n",
    "\n",
    "Satisfying input and state constraints in the presence of uncertainty."
   ]
  },
  {
   "cell_type": "markdown",
   "metadata": {},
   "source": [
    "### Chance-Constraint Approximation\n",
    "\n",
    "Ensuring computational tractability by properly reformulating constraints and costs and parameterizing control. policies\n",
    "\n",
    "There is no systematic and universal solution to the third challenge, and often the chosen approach is application dependent. Fortunately, the first and second challenges can be addressed by using data. "
   ]
  },
  {
   "cell_type": "markdown",
   "metadata": {
    "slideshow": {
     "slide_type": "slide"
    }
   },
   "source": [
    "# Data-Driven Predictive Control"
   ]
  },
  {
   "cell_type": "markdown",
   "metadata": {
    "slideshow": {
     "slide_type": "subslide"
    }
   },
   "source": [
    "Model predictive control (MPC) is an established control methodology that systematically uses forecasts to compute real-time optimal control decisions. In MPC, at each time step an optimization problem is solved over a moving horizon. The objective is to find a control policy that minimizes a predicted performance index while\n",
    "satisfying operating constraints.\n",
    "\n",
    "Uncertainty in MPC is handled by optimizing over multiple uncertain forecasts. In this case, performance index and\n",
    "operating constraints take the form of functions defined over a probability space, and the resulting technique is called stochastic MPC.\n",
    "\n",
    "In this case, we are longer searching for a deterministic control sequence but instead for a stochastic feedback control policy:\n",
    "\n",
    "$$\n",
    "u_t = \\pi_t(x_t)\n",
    "$$"
   ]
  },
  {
   "cell_type": "markdown",
   "metadata": {
    "slideshow": {
     "slide_type": "subslide"
    }
   },
   "source": [
    "##  Scenario MPC"
   ]
  },
  {
   "cell_type": "markdown",
   "metadata": {
    "slideshow": {
     "slide_type": "subslide"
    }
   },
   "source": []
  },
  {
   "cell_type": "markdown",
   "metadata": {
    "slideshow": {
     "slide_type": "slide"
    }
   },
   "source": [
    "# Learning-Based Model Predictive Control"
   ]
  },
  {
   "cell_type": "markdown",
   "metadata": {
    "slideshow": {
     "slide_type": "subslide"
    }
   },
   "source": [
    "Learning-based MPC addresses the automated and data-driven generation or adaptation of elements of the MPC formulation such that the control performance with respect to the desired closed-loop system behavior is improved.\n",
    "\n",
    "The setup in which this learning takes place can be diverse. For instance, offline learning\n",
    "considers the adaptation of the controller between different trials or episodes of a control task,\n",
    "during which data are collected.\n",
    "\n",
    "In methods that learn online, on the other hand, the controller is adjusted during closed-loop operation (e.g., while performing repetitive tasks) or using the data collected during one task execution.\n",
    "\n",
    "While much of the research in learning-based MPC has focused on automatically improving the model quality, which is the most obvious component affecting MPC performance, several research efforts are addressing the formulation of the MPC problem directly or utilizing the MPC concept to satisfy constraints during learning-based control."
   ]
  },
  {
   "cell_type": "markdown",
   "metadata": {
    "slideshow": {
     "slide_type": "subslide"
    }
   },
   "source": [
    "## Learning the system dynamics\n",
    "\n",
    "MPC relies heavily on suitable and sufficiently accurate\n",
    "model representations of the system dynamics. One path of learning-based MPC considers\n",
    "the automatic adjustment of the system model, either during operation or between different\n",
    "operational instances."
   ]
  },
  {
   "cell_type": "markdown",
   "metadata": {
    "slideshow": {
     "slide_type": "subslide"
    }
   },
   "source": [
    "Many learning-based MPC techniques make use of an explicit distinction between a nominal\n",
    "system model $f_n$ and an additive learned term $f_l$ accommodating uncertainty:\n",
    "\n",
    "$$\n",
    "f(x, u, k, w, \\theta) = f_n(x, u, k) + f_l(x, u, k, w, \\theta)\n",
    "$$"
   ]
  },
  {
   "cell_type": "markdown",
   "metadata": {
    "slideshow": {
     "slide_type": "subslide"
    }
   },
   "source": [
    "## Learning the controller design\n",
    "\n",
    "A second interesting research direction focuses less on the\n",
    "prediction model and more on the remaining problem formulation, such as the employed\n",
    "cost function l, the constraints X , or the terminal components l f and X f , such that the\n",
    "resulting closed-loop MPC controller behaves favorably with respect to the underlying task,\n",
    "i.e., the stochastic optimal control problem. We discuss these approaches in Section 4."
   ]
  },
  {
   "cell_type": "markdown",
   "metadata": {
    "slideshow": {
     "slide_type": "subslide"
    }
   },
   "source": [
    "## MPC for safe learning\n",
    "\n",
    "A third direction is the use of MPC techniques to derive safety\n",
    "guarantees for learning-based controllers. The main idea is to decouple the optimization of\n",
    "the objective function lt from the requirement of constraint satisfaction, which is addressed\n",
    "using MPC techniques. We discuss this research direction in Section 5."
   ]
  },
  {
   "cell_type": "markdown",
   "metadata": {
    "slideshow": {
     "slide_type": "slide"
    }
   },
   "source": [
    "# Safe Learning in Robotics"
   ]
  },
  {
   "cell_type": "markdown",
   "metadata": {
    "slideshow": {
     "slide_type": "subslide"
    }
   },
   "source": [
    "<figure>\n",
    "    <img src=\"_static/images/40_comparison_model_driven_data_driven.svg\" width=\"90%\"/>\n",
    "    <figcaption>\n",
    "        A comparison of model-driven, data-driven, and combined approaches.\n",
    "    </figcaption>\n",
    "</figure>"
   ]
  },
  {
   "cell_type": "markdown",
   "metadata": {
    "slideshow": {
     "slide_type": "subslide"
    }
   },
   "source": [
    "<figure>\n",
    "    <img src=\"_static/images/40_safe_control_block_diagram.svg\" width=\"80%\"/>\n",
    "    <figcaption>\n",
    "        Block diagram representing safe learning control approaches.\n",
    "    </figcaption>\n",
    "</figure>"
   ]
  },
  {
   "cell_type": "markdown",
   "metadata": {
    "slideshow": {
     "slide_type": "subslide"
    }
   },
   "source": [
    "## Safety Constraints"
   ]
  },
  {
   "cell_type": "markdown",
   "metadata": {
    "slideshow": {
     "slide_type": "subslide"
    }
   },
   "source": [
    "### Safety level III: constraint satisfaction guaranteed.\n",
    "\n",
    "The system satisfies hard constraints:\n",
    "\n",
    "$$\n",
    "c_k^j(x_k, u_k, w_k) \\le 0\n",
    "$$\n",
    "\n",
    "for all times $k \\in \\{0, \\dots , N\\}$ and constraint indexes $j \\in \\{1, \\dots, n_c\\}$."
   ]
  },
  {
   "cell_type": "markdown",
   "metadata": {
    "slideshow": {
     "slide_type": "subslide"
    }
   },
   "source": [
    "### Safety level II: constraint satisfaction with high probability.\n",
    "\n",
    "The system satisfies probabilistic constraints:\n",
    "\n",
    "$$\n",
    "P\\left[c_k^j(x_k, u_k, w_k ) \\le 0 \\right] \\ge p^j,\n",
    "$$\n",
    "\n",
    "where $P[\\cdot]$ denotes the probability and $p^j \\in (0, 1)$ defines the likelihood of the jth constraint\n",
    "being satisfied, for all times $k \\in \\{0, \\dots , N\\}$ and constraint indexes $j \\in \\{1, \\dots, n_c\\}$."
   ]
  },
  {
   "cell_type": "markdown",
   "metadata": {
    "slideshow": {
     "slide_type": "subslide"
    }
   },
   "source": [
    "### Safety level I: constraint satisfaction encouraged\n",
    "\n",
    "The system encourages constraint satisfaction. This can be achieved in different ways:\n",
    "\n",
    "- One way is to add a penalty term to the objective function that discourages\n",
    "  the violation of constraints with a high cost. A non-negative $\\epsilon_j$ is added\n",
    "  to the right-hand side of the inequality in Safety level III, for all times $k \\in \\{0, \\dots , N\\}$\n",
    "  and constraint indexes $j \\in \\{1, \\dots, n_c\\}$:\n",
    "  \n",
    "  $$\n",
    "  c_k^j(x_k, u_k, w_k) \\le \\epsilon_j,\n",
    "  $$\n",
    "\n",
    "  and an appropriate penalty term l\u0003 (\u0002) ≥ 0, with l\u0003 (\u0002) = 0 ⇐⇒ \u0002 = 0, is added to the objective\n",
    "  function. The vector \u0002 includes all elements ϵj and is an additional variable of the optimization problem."
   ]
  },
  {
   "cell_type": "markdown",
   "metadata": {
    "slideshow": {
     "slide_type": "subslide"
    }
   },
   "source": [
    "- Another way is to provide guarantees on the expected value of the constraint but only at a trajectory level:\n",
    "\n",
    "  $$\n",
    "  J_{c^j} = E\\left[ \\sum\\limits_{k=0}^{N-1} c_k^j(x_k, u_k, w_k) \\right] \\le d_j,\n",
    "  $$\n",
    "\n",
    "  where $J_{c^j}$ represents the expected total constraint cost, and $d_j$ defines the constraint threshold."
   ]
  },
  {
   "cell_type": "markdown",
   "metadata": {
    "slideshow": {
     "slide_type": "subslide"
    }
   },
   "source": [
    "<figure>\n",
    "    <img src=\"_static/images/40_safety_levels.svg\" width=\"100%\"/>\n",
    "    <figcaption>\n",
    "        Illustration of Safety Levels.\n",
    "    </figcaption>\n",
    "</figure>"
   ]
  },
  {
   "cell_type": "markdown",
   "metadata": {
    "slideshow": {
     "slide_type": "subslide"
    }
   },
   "source": [
    "<div>\n",
    "<figure style=\"float: left; width: 70%;\">\n",
    "    <img src=\"_static/images/40_safe_learning_approaches.svg\" width=\"100%\"/>\n",
    "</figure>\n",
    "<div style=\"float: left; width: 20%;\">\n",
    "<br><br><br>Summary of safe learning control approaches.\n",
    "</div>\n",
    "</div>"
   ]
  },
  {
   "cell_type": "markdown",
   "metadata": {
    "slideshow": {
     "slide_type": "slide"
    },
    "tags": [
     "remove-cell",
     "remove-cell-nbconv"
    ]
   },
   "source": [
    "<img src=\"_static/images/aai-institute-cover.svg\" alt=\"Snow\" style=\"width:100%;\">\n",
    "<div class=\"md-slide title\">Thank you for the attention!</div>"
   ]
  },
  {
   "cell_type": "markdown",
   "metadata": {
    "slideshow": {
     "slide_type": "slide"
    }
   },
   "source": [
    "# References\n",
    "\n",
    "- [<b id=\"rosolia_datadriven_2018\">[Rosolia, U., Zhang, X. and Borrelli, F., 2018]</b>](#rosolia_datadriven_2018-back) Rosolia, Ugo, Xiaojing Zhang, and Francesco Borrelli. [Data-driven predictive control for autonomous systems.](https://www.annualreviews.org/doi/full/10.1146/annurev-control-060117-105215) Annual Review of Control, Robotics, and Autonomous Systems 1 (2018): 259-286.\n",
    "\n",
    "- [<b id=\"hewing_learningbased_2020\">[Hewing, Lukas, et al. 2020]</b>](#hewing_learningbased_2020-back) Hewing, Lukas, Kim P. Wabersich, Marcel Menner, and Melanie N. Zeilinger. [Learning-based model predictive control: Toward safe learning in control.](https://www.annualreviews.org/doi/full/10.1146/annurev-control-090419-075625) Annual Review of Control, Robotics, and Autonomous Systems 3 (2020): 269-296.\n",
    "\n",
    "- [<b id=\"brunke_safe_2022\">[Brunke, Lukas, et al. 2022]</b>](#brunke_safe_2022-back) Brunke, Lukas, Melissa Greeff, Adam W. Hall, Zhaocong Yuan, Siqi Zhou, Jacopo Panerati, and Angela P. Schoellig. [Safe learning in robotics: From learning-based control to safe reinforcement learning.](https://www.annualreviews.org/doi/abs/10.1146/annurev-control-042920-020211) Annual Review of Control, Robotics, and Autonomous Systems 5 (2022): 411-444."
   ]
  }
 ],
 "metadata": {
  "celltoolbar": "Slideshow",
  "kernelspec": {
   "display_name": "Python 3 (ipykernel)",
   "language": "python",
   "name": "python3"
  },
  "language_info": {
   "codemirror_mode": {
    "name": "ipython",
    "version": 3
   },
   "file_extension": ".py",
   "mimetype": "text/x-python",
   "name": "python",
   "nbconvert_exporter": "python",
   "pygments_lexer": "ipython3",
   "version": "3.11.3"
  },
  "rise": {
   "footer": "<img src='_static/images/aai-logo.png' alt='logo' height='50em'>",
   "header": "<img src='_static/images/transferlab-logo.svg' alt='logo' height='20em' />",
   "theme": "white"
  },
  "toc": {
   "base_numbering": 1,
   "nav_menu": {
    "height": "148px",
    "width": "256px"
   },
   "number_sections": false,
   "sideBar": true,
   "skip_h1_title": false,
   "title_cell": "Table of Contents",
   "title_sidebar": "Contents",
   "toc_cell": false,
   "toc_position": {
    "height": "563.2px",
    "left": "125px",
    "top": "116.469px",
    "width": "315.6px"
   },
   "toc_section_display": true,
   "toc_window_display": true
  },
  "varInspector": {
   "cols": {
    "lenName": 16,
    "lenType": 16,
    "lenVar": 40
   },
   "kernels_config": {
    "python": {
     "delete_cmd_postfix": "",
     "delete_cmd_prefix": "del ",
     "library": "var_list.py",
     "varRefreshCmd": "print(var_dic_list())"
    },
    "r": {
     "delete_cmd_postfix": ") ",
     "delete_cmd_prefix": "rm(",
     "library": "var_list.r",
     "varRefreshCmd": "cat(var_dic_list()) "
    }
   },
   "types_to_exclude": [
    "module",
    "function",
    "builtin_function_or_method",
    "instance",
    "_Feature"
   ],
   "window_display": false
  }
 },
 "nbformat": 4,
 "nbformat_minor": 1
}
