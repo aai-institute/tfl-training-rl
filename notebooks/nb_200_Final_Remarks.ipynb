{
 "cells": [
  {
   "cell_type": "markdown",
   "id": "813ba6c9",
   "metadata": {},
   "source": [
    "Final remarks\n",
    "---"
   ]
  },
  {
   "cell_type": "markdown",
   "id": "e7d216cf",
   "metadata": {},
   "source": [
    "Offline RL proves valuable in various scenarios, especially when:\n",
    "\n",
    "a. Robots require intelligent behavior in complex open-world environments demanding extensive training data due to robust visual perception requirements. (complex environment modeling and extensive data collection)\n",
    "\n",
    "b. Robot grasping tasks, which involve expert data that cannot be be accurately simulated, providing an opportunity to assess our BCQ algorithm.\n",
    "\n",
    "c. Robotic navigation tasks, where offline RL aids in crafting effective navigation policies using real-world data.\n",
    "\n",
    "d. Autonomous driving, where ample expert data and an offline approach enhance safety.\n",
    "\n",
    "e. Healthcare applications, where safety is paramount due to the potential serious consequences of inaccurate forecasts.\n",
    "\n",
    "... and many more. \n",
    "\n",
    "However if you have access to en an environment so fat online RL is hard to beat as you have the chance of exploration and feedback. Nevertheless this could change soon as a data-oriented approach to RL is being adopted (X-Embodimient huge datasets) where it is clear that robots trained with a lot of data in different situations will perform better than the ones only focused on one particular task. Also you could use multitask trained agents as a transfer learning policy for your particular task at hand."
   ]
  },
  {
   "cell_type": "code",
   "execution_count": null,
   "id": "fd1ef60a",
   "metadata": {},
   "outputs": [],
   "source": []
  }
 ],
 "metadata": {
  "kernelspec": {
   "display_name": "tianshou_dev",
   "language": "python",
   "name": "tianshou_dev"
  },
  "language_info": {
   "codemirror_mode": {
    "name": "ipython",
    "version": 3
   },
   "file_extension": ".py",
   "mimetype": "text/x-python",
   "name": "python",
   "nbconvert_exporter": "python",
   "pygments_lexer": "ipython3",
   "version": "3.8.0"
  },
  "toc": {
   "base_numbering": 1,
   "nav_menu": {},
   "number_sections": true,
   "sideBar": true,
   "skip_h1_title": false,
   "title_cell": "Table of Contents",
   "title_sidebar": "Contents",
   "toc_cell": false,
   "toc_position": {},
   "toc_section_display": true,
   "toc_window_display": false
  }
 },
 "nbformat": 4,
 "nbformat_minor": 5
}
