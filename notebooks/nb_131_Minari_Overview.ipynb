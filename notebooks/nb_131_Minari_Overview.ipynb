{
 "cells": [
  {
   "cell_type": "markdown",
   "id": "ae619194",
   "metadata": {},
   "source": [
    "## Minari overview\n",
    "\n",
    "Unfortunately not supported in windows (maybe mainly because of Mujoco dependency)\n",
    "\n",
    "1 - **[Intro Minari](https://minari.farama.org/main/content/basic_usage/)**\n",
    "\n",
    "It is use to collect data given a gymnasium environment:\n",
    "\n",
    "    from minari import DataCollectorV0\n",
    "    import gymnasium as gym\n",
    "\n",
    "    env = gym.make('LunarLander-v2')\n",
    "    env = DataCollectorV0(env, record_infos=True, max_buffer_steps=100000)\n",
    "\n",
    "\n",
    "Has different functionalities like to add useful metadata to the datasets, fuse data coming from different behavioral policies, custom preprocessing of the collected (observation, action, reward) data, add new data to existing datasets, restore the environments associated with your data, etc. We will use some of these functionalities in our exercises.\n",
    "\n",
    "However, is not a very robust library so in the possible it is better to have your own functions to restore your environment, load metadata, etc. And rely on Minari a less as possible. We will see that in the notebook exercises.\n",
    "\n",
    "\n",
    "Of course one of the main use of it is to Download the very useful datasets available online as well as to have access to the policies used to generate them: [datasets](https://minari.farama.org/main/datasets/pen/human/)\n",
    "\n",
    "\n",
    "\n",
    "\n",
    "Many interesting datasets uses the Mujoco C/C++ library.\n",
    "\n",
    "2 - **Mujoco:**\n",
    "\n",
    "MuJoCo, short for Multi-Joint dynamics with Contact, is a versatile physics engine designed to support research and development across various fields, including robotics, biomechanics, graphics, animation, machine learning, and more. Originally created by Roboti LLC, it was later acquired by DeepMind and made freely accessible to the public in October 2021. Furthermore, it was open-sourced in May 2022. [Github](https://github.com/google-deepmind/mujoco)"
   ]
  },
  {
   "cell_type": "markdown",
   "id": "f6408068",
   "metadata": {},
   "source": [
    "## RL unplugged (Deepmind)\n",
    "\n",
    "[website](https://www.deepmind.com/blog/rl-unplugged-benchmarks-for-offline-reinforcement-learning) and\n",
    "[blog](https://www.deepmind.com/blog/rl-unplugged-benchmarks-for-offline-reinforcement-learning)"
   ]
  },
  {
   "cell_type": "markdown",
   "id": "252dec6b",
   "metadata": {},
   "source": [
    "## Open X-Embodiment\n",
    "\n",
    "[website](https://robotics-transformer-x.github.io/)"
   ]
  },
  {
   "cell_type": "markdown",
   "source": [],
   "metadata": {
    "collapsed": false
   }
  }
 ],
 "metadata": {
  "kernelspec": {
   "display_name": "tianshou_dev",
   "language": "python",
   "name": "tianshou_dev"
  },
  "language_info": {
   "codemirror_mode": {
    "name": "ipython",
    "version": 3
   },
   "file_extension": ".py",
   "mimetype": "text/x-python",
   "name": "python",
   "nbconvert_exporter": "python",
   "pygments_lexer": "ipython3",
   "version": "3.8.0"
  },
  "toc": {
   "base_numbering": 1,
   "nav_menu": {},
   "number_sections": true,
   "sideBar": true,
   "skip_h1_title": false,
   "title_cell": "Table of Contents",
   "title_sidebar": "Contents",
   "toc_cell": false,
   "toc_position": {},
   "toc_section_display": true,
   "toc_window_display": false
  }
 },
 "nbformat": 4,
 "nbformat_minor": 5
}
