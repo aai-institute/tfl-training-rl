{
 "cells": [
  {
   "cell_type": "code",
   "execution_count": 1,
   "metadata": {
    "ExecuteTime": {
     "end_time": "2024-05-06T16:44:55.530895Z",
     "start_time": "2024-05-06T16:44:54.548693Z"
    }
   },
   "outputs": [],
   "source": [
    "%%capture\n",
    "%load_ext autoreload\n",
    "%autoreload 2\n",
    "%matplotlib inline\n",
    "%load_ext training_rl\n",
    "%set_random_seed 12"
   ]
  },
  {
   "cell_type": "code",
   "execution_count": 2,
   "metadata": {
    "ExecuteTime": {
     "end_time": "2024-05-06T16:44:55.543363Z",
     "start_time": "2024-05-06T16:44:55.532433Z"
    }
   },
   "outputs": [
    {
     "data": {
      "text/html": [
       "<style>/*\n",
       "This file is mainly copy-pasta from rise's examples\n",
       "https://github.com/damianavila/RISE/blob/master/examples/rise.css\n",
       "that was further customized for appliedAI purposes\n",
       "*/\n",
       "@import url('https://fonts.googleapis.com/css2?family=Work+Sans:wght@400&display=swap');\n",
       "\n",
       "\n",
       "/*\n",
       "body {\n",
       "    font-family: 'Work Sans', sans-serif !important;\n",
       "    text-transform: initial !important;\n",
       "    letter-spacing: initial !important;\n",
       "    font-weight: 400 !important;\n",
       "    line-height: 1.5 !important;\n",
       "    text-size-adjust: 100% !important;\n",
       "    ‑webkit‑text‑size‑adjust: 100% !important;\n",
       "}\n",
       "\n",
       "\n",
       ".reveal, div.text_cell_render, .md-slide, .sidebar-wrapper {\n",
       "    font-size: 1.5rem !important;\n",
       "}\n",
       "*/\n",
       "\n",
       ".navbar-default .navbar-nav > li > a {\n",
       "    color: #00747b !important;\n",
       "}\n",
       "\n",
       ".filename {\n",
       "    font-size: 2.4rem !important;\n",
       "    color: #212529 !important;\n",
       "    font-weight: 600 !important;\n",
       "}\n",
       "\n",
       ".reveal, .md-slide {\n",
       "    color: white !important;\n",
       "}\n",
       "\n",
       "h1, h2 {\n",
       "    color: #00747b !important;\n",
       "}\n",
       "\n",
       "h3, h4, h5, h6 {\n",
       "    color: #808080 !important;\n",
       "}\n",
       "\n",
       ".reveal p, .reveal ol, .reveal dl, .reveal ul,\n",
       "div.text_cell_render {\n",
       "    color: #212529 !important;\n",
       "}\n",
       "\n",
       "/*copied from stackoverflow, better spacing between list items*/\n",
       "li + li {\n",
       "  margin-top: 0.2em;\n",
       "}\n",
       "\n",
       "body.rise-enabled .reveal ol, body.rise-enabled .reveal dl, body.rise-enabled .reveal ul {\n",
       "    margin-left: 0.1em;\n",
       "    margin-top: 0.2em;\n",
       "}\n",
       "\n",
       ".reveal .rendered_html h1:first-child,\n",
       ".reveal .rendered_html h2:first-child,\n",
       ".reveal .rendered_html h3:first-child,\n",
       ".reveal .rendered_html h4:first-child,\n",
       ".reveal .rendered_html h5:first-child {\n",
       "    margin-top: 0.2em;\n",
       "}\n",
       "\n",
       "/*\n",
       ".CodeMirror-lines, .output_text {\n",
       "    font-size: 1.5rem !important;\n",
       "}\n",
       "*/\n",
       "\n",
       "h1.plan, h2.plan, h3.plan {\n",
       "    text-align: center;\n",
       "    padding-bottom: 30px;\n",
       "}\n",
       "\n",
       "ul.plan>li>span.plan-bold {\n",
       "    font-size: 110%;\n",
       "    padding: 4px;\n",
       "    font-weight: bold;\n",
       "    background-color: #eee;\n",
       "}\n",
       "\n",
       "ul.plan>li>ul.subplan>li>span.plan-bold {\n",
       "    font-weight: bold;\n",
       "}\n",
       "\n",
       ".plan-strike {\n",
       "    opacity: 0.4;\n",
       "/*    text-decoration: line-through; */\n",
       "}\n",
       "\n",
       "div.plan-container {\n",
       "    display: grid;\n",
       "    grid-template-columns: 50% 50%;\n",
       "}\n",
       "\n",
       "/*\n",
       " * this is to void xarray's html output to show the fallback textual representation\n",
       " * see also\n",
       "   * xarray.md and\n",
       "   * https://github.com/damianavila/RISE/issues/594\n",
       " */\n",
       ".reveal pre.xr-text-repr-fallback {\n",
       "    display: none;\n",
       "}\n",
       "\n",
       "#toc-header, .toc-item li {\n",
       "    margin: auto !important;\n",
       "    color: #808080 !important;\n",
       "}\n",
       "\n",
       "#toc, #toc-wrapper, .toc-item-num, #toc a, .toc {\n",
       "    margin: auto !important;\n",
       "    color: #00747b !important;\n",
       "}\n",
       "\n",
       "#toc-wrapper {\n",
       "    top: auto !important;\n",
       "    bottom: auto !important;\n",
       "    margin-top: 2rem !important;\n",
       "    color: #00747b !important;\n",
       "}\n",
       "\n",
       "\n",
       "#rise-header {\n",
       "    margin: 10px;\n",
       "    left: 5%;\n",
       "}\n",
       "\n",
       "#rise-footer {\n",
       "    margin: 10px;\n",
       "    right: 5%;\n",
       "}\n",
       "\n",
       "#rise-backimage {\n",
       "    opacity: 0.70;\n",
       "}\n",
       "\n",
       ".reveal img {\n",
       "    max-width: 100%;\n",
       "}\n",
       "\n",
       "\n",
       ".md-slide.title {\n",
       "    position: relative;\n",
       "    top: -50%;\n",
       "    margin-left: 5%;\n",
       "    font-size: 4em !important;\n",
       "    line-height: 1.6;\n",
       "}\n",
       "</style>"
      ],
      "text/plain": [
       "<IPython.core.display.HTML object>"
      ]
     },
     "execution_count": 2,
     "metadata": {},
     "output_type": "execute_result"
    }
   ],
   "source": [
    "%presentation_style"
   ]
  },
  {
   "cell_type": "code",
   "execution_count": 3,
   "metadata": {
    "ExecuteTime": {
     "end_time": "2024-05-06T16:44:55.551636Z",
     "start_time": "2024-05-06T16:44:55.543959Z"
    }
   },
   "outputs": [
    {
     "data": {
      "text/markdown": [
       "\n",
       "$\\newcommand{\\vect}[1]{{\\mathbf{\\boldsymbol{#1}} }}$\n",
       "$\\newcommand{\\amax}{{\\text{argmax}}}$\n",
       "$\\newcommand{\\P}{{\\mathbb{P}}}$\n",
       "$\\newcommand{\\E}{{\\mathbb{E}}}$\n",
       "$\\newcommand{\\R}{{\\mathbb{R}}}$\n",
       "$\\newcommand{\\Z}{{\\mathbb{Z}}}$\n",
       "$\\newcommand{\\N}{{\\mathbb{N}}}$\n",
       "$\\newcommand{\\C}{{\\mathbb{C}}}$\n",
       "$\\newcommand{\\abs}[1]{{ \\left| #1 \\right| }}$\n",
       "$\\newcommand{\\simpl}[1]{{\\Delta^{#1} }}$\n"
      ],
      "text/plain": [
       "<IPython.core.display.Markdown object>"
      ]
     },
     "metadata": {},
     "output_type": "display_data"
    }
   ],
   "source": [
    "%load_latex_macros"
   ]
  },
  {
   "cell_type": "code",
   "execution_count": 9,
   "metadata": {
    "ExecuteTime": {
     "end_time": "2024-05-06T16:44:56.191797Z",
     "start_time": "2024-05-06T16:44:55.552397Z"
    }
   },
   "outputs": [],
   "source": [
    "%autoreload\n",
    "from training_rl.offline_rl.load_env_variables import load_env_variables\n",
    "load_env_variables()\n",
    "\n",
    "import os\n",
    "import warnings\n",
    "from copy import copy, deepcopy\n",
    "import numpy as np\n",
    "\n",
    "import gymnasium as gym\n",
    "import minari\n",
    "import torch\n",
    "\n",
    "from training_rl.offline_rl.behavior_policies.behavior_policy_registry import \\\n",
    "    BehaviorPolicyType\n",
    "from training_rl.offline_rl.custom_envs.custom_2d_grid_env.obstacles_2D_grid_register import \\\n",
    "    ObstacleTypes\n",
    "from training_rl.offline_rl.custom_envs.custom_envs_registration import (\n",
    "    CustomEnv, RenderMode, register_grid_envs, EnvFactory)\n",
    "from training_rl.offline_rl.custom_envs.utils import (\n",
    "    Grid2DInitialConfig, InitialConfigCustom2DGridEnvWrapper)\n",
    "from training_rl.offline_rl.generate_custom_minari_datasets.generate_minari_dataset_grid_envs import (\n",
    "    MinariDatasetConfig, create_minari_datasets)\n",
    "from training_rl.offline_rl.offline_policies.offpolicy_rendering import \\\n",
    "    offpolicy_rendering\n",
    "from training_rl.offline_rl.offline_policies.policy_registry import PolicyName\n",
    "from training_rl.offline_rl.offline_trainings.offline_training import \\\n",
    "    offline_training\n",
    "from training_rl.offline_rl.offline_trainings.policy_config_data_class import (\n",
    "    TrainedPolicyConfig, get_trained_policy_path)\n",
    "from training_rl.offline_rl.offline_trainings.restore_policy_model import \\\n",
    "    restore_trained_offline_policy\n",
    "from training_rl.offline_rl.utils import (compare_state_action_histograms,\n",
    "                                          load_buffer_minari,\n",
    "                                          state_action_histogram)\n",
    "from training_rl.offline_rl.visualizations.utils import (\n",
    "    get_state_action_data_and_policy_grid_distributions, snapshot_env, trajectory_cumulative_rewards_plot)\n",
    "from training_rl.offline_rl.utils import widget_list\n",
    "from training_rl.offline_rl.generate_custom_minari_datasets.generate_minari_dataset_grid_envs import \\\n",
    "    create_combined_minari_dataset\n",
    "from training_rl.offline_rl.utils import load_buffer_minari, widget_list\n",
    "from tianshou.data import Batch\n",
    "from training_rl.offline_rl.behavior_policies.behavior_policy_registry import \\\n",
    "    BehaviorPolicyRestorationConfigFactoryRegistry\n",
    "from training_rl.offline_rl.offline_policies.policy_registry import PolicyFactoryRegistry\n",
    "from training_rl.offline_rl.offline_policies.dagger_torcs_policy import model_dagger_fit\n",
    "from training_rl.offline_rl.offline_trainings.training_decision_transformer import evaluate_on_env\n",
    "from training_rl.offline_rl.offline_policies.decision_transformer_policy import get_decision_transformer_default_config, \\\n",
    "    create_decision_transformer_policy_from_dict\n",
    "from matplotlib import pyplot as plt\n",
    "import pickle\n",
    "from itertools import accumulate\n",
    "from training_rl.offline_rl.visualizations.utils import policy_rollout_torcs_env, \\\n",
    "    compare_policy_decisions_vs_expert_suggestions\n",
    "\n",
    "\n",
    "\n",
    "\n",
    "warnings.filterwarnings(\"ignore\")\n",
    "\n",
    "if not os.environ.get(\"DISPLAY\"):\n",
    "    os.environ['MUJOCO_GL'] = 'egl'\n",
    "    \n",
    "render_mode = RenderMode.RGB_ARRAY_LIST"
   ]
  },
  {
   "cell_type": "markdown",
   "metadata": {},
   "source": [
    "<img src=\"_static/images/aai-institute-cover.svg\" alt=\"Snow\" style=\"width:100%;\">\n",
    "<div class=\"md-slide title\"> Imitation Learning </div>"
   ]
  },
  {
   "cell_type": "markdown",
   "metadata": {
    "slideshow": {
     "slide_type": "slide"
    }
   },
   "source": [
    "# Imitation Learning Exercises\n",
    "\n",
    "**Imitation learning is a supervised learning approach that focuses on learning policies or behaviors by observing and imitating expert demonstrations**.\n",
    "\n",
    "This makes these algorithms appealing as, **you don't need to create a reward function for your task**.\n",
    "\n",
    "We will begin with Behavioral Cloning (BC), as introduced earlier. Later, we will cover the well-known improvement DAGGER, and if time permits, Decision Transformers (DT)."
   ]
  },
  {
   "cell_type": "markdown",
   "metadata": {
    "slideshow": {
     "slide_type": "slide"
    }
   },
   "source": [
    "Remember our pipeline for offline learning:\n",
    "\n",
    "<img src=\"_static/images/93_offline_RL_pipeline.png\" alt=\"Snow\" style=\"width:50%;\">\n",
    "\n",
    "In this exercise, we will work with the full pipeline, selecting some imitation learning algorithms in step 4. \n",
    "\n",
    "Note: For the offline RL part, we will use the exact same pipeline but plug in our offline RL algorithms in step 4."
   ]
  },
  {
   "cell_type": "markdown",
   "metadata": {
    "slideshow": {
     "slide_type": "slide"
    }
   },
   "source": [
    "## Behavioral Clonning (BC)\n",
    "\n",
    "It has been introduced previously, but let's remember the main ingredients:\n",
    "\n",
    "$$ D = \\{(s_0, a_0), (s_1, a_1), \\ldots, (s_T, a_T)\\} \\quad \\tag{Dataset} $$\n",
    "\n",
    "$$\\text{where} \\quad \\pi_{\\theta^*}(s_t) \\text{ s.t. } \\theta^* = argmin_\\theta  L_{BC}(\\theta) \\tag{learned policy}$$\n",
    "\n",
    "$$\\text{with} \\quad L_{BC}(\\theta) = \\sum_{t=0}^T \\left(\\pi_\\theta(s_t) - a_t\\right)^2 \\tag{Cost function}$$\n",
    "\n",
    "and, $\\pi_\\theta(s_t)$, typically a DNN. **Note that there is no trace of rewards here.**"
   ]
  },
  {
   "cell_type": "markdown",
   "metadata": {
    "slideshow": {
     "slide_type": "slide"
    }
   },
   "source": [
    "### Exercise I\n",
    "\n",
    "In this exercise, we will:\n",
    "\n",
    "1 - Study the out-of-distribution (o.o.d.) effect, as mentioned before, in a simple 2D grid-world environment.\n",
    "\n",
    "<img src=\"_static/images/93_imitation_learning.png\" alt=\"Snow\" style=\"width:80%;\">\n",
    "<div class=\"slide title\"> Fig.1 Once out-of-distribution BC agent is unlikely to recover </div>\n",
    "\n",
    "2 - Evaluate how well BC handles noisy data, which is a common issue when working with collected expert data."
   ]
  },
  {
   "cell_type": "markdown",
   "metadata": {
    "slideshow": {
     "slide_type": "slide"
    }
   },
   "source": [
    "#### STEP 1: Create the environment"
   ]
  },
  {
   "cell_type": "code",
   "execution_count": 10,
   "metadata": {
    "ExecuteTime": {
     "end_time": "2024-05-06T16:44:57.550597Z",
     "start_time": "2024-05-06T16:44:57.449195Z"
    },
    "slideshow": {
     "slide_type": "slide"
    }
   },
   "outputs": [
    {
     "data": {
      "image/png": "[encoded data removed]",
      "text/plain": [
       "<Figure size 640x480 with 1 Axes>"
      ]
     },
     "metadata": {},
     "output_type": "display_data"
    }
   ],
   "source": [
    "ENV_NAME = CustomEnv.Grid_2D_8x8_discrete.value\n",
    "\n",
    "OBSTACLE = ObstacleTypes.obst_big_8x8\n",
    "INITIAL_STATE = (0, 0)\n",
    "FINAL_STATE = (0, 7)\n",
    "\n",
    "env_2D_grid_initial_config = Grid2DInitialConfig(\n",
    "    obstacles=OBSTACLE,\n",
    "    initial_state=INITIAL_STATE,\n",
    "    target_state=FINAL_STATE,\n",
    ")\n",
    "\n",
    "env = EnvFactory[ENV_NAME].get_env(render_mode=RenderMode.RGB_ARRAY_LIST,grid_config=env_2D_grid_initial_config)\n",
    "\n",
    "snapshot_env(env)"
   ]
  },
  {
   "cell_type": "markdown",
   "metadata": {
    "slideshow": {
     "slide_type": "slide"
    }
   },
   "source": [
    "#### STEP 2: Create Minari datasets"
   ]
  },
  {
   "cell_type": "markdown",
   "metadata": {
    "slideshow": {
     "slide_type": "slide"
    }
   },
   "source": [
    "**Behavior policies and dataset configurations**\n",
    "\n",
    "Note that we have more noisy data than expert information, as it is common in realistic problems, where expert (or close-to-expert) data is challenging to collect."
   ]
  },
  {
   "cell_type": "code",
   "execution_count": 11,
   "metadata": {
    "ExecuteTime": {
     "end_time": "2024-05-06T16:44:59.060561Z",
     "start_time": "2024-05-06T16:44:59.046108Z"
    },
    "slideshow": {
     "slide_type": "slide"
    }
   },
   "outputs": [],
   "source": [
    "BEHAVIOR_POLICY_I = BehaviorPolicyType.behavior_8x8_suboptimal_initial_0_0_final_0_7\n",
    "DATA_SET_IDENTIFIER_I = \"_suboptimal_exercise_I_nb_93\"\n",
    "NUM_STEPS_I = 500\n",
    "\n",
    "BEHAVIOR_POLICY_II = BehaviorPolicyType.random\n",
    "DATA_SET_IDENTIFIER_II = \"_random_exercise_I_nb_93\"\n",
    "NUM_STEPS_II = 2000"
   ]
  },
  {
   "cell_type": "markdown",
   "metadata": {
    "slideshow": {
     "slide_type": "slide"
    }
   },
   "source": [
    "**Visualize behavior policies**"
   ]
  },
  {
   "cell_type": "code",
   "execution_count": 12,
   "metadata": {
    "ExecuteTime": {
     "end_time": "2024-05-06T16:44:59.773602Z",
     "start_time": "2024-05-06T16:44:59.760719Z"
    },
    "slideshow": {
     "slide_type": "slide"
    }
   },
   "outputs": [
    {
     "data": {
      "application/vnd.jupyter.widget-view+json": {
       "model_id": "9aaca82669fb494d84259de19882837d",
       "version_major": 2,
       "version_minor": 0
      },
      "text/plain": [
       "Dropdown(options=(<BehaviorPolicyType.behavior_8x8_suboptimal_initial_0_0_final_0_7: 'behavior_8x8_suboptimal_…"
      ]
     },
     "metadata": {},
     "output_type": "display_data"
    }
   ],
   "source": [
    "behavior_policy_selected = widget_list([BEHAVIOR_POLICY_I, BEHAVIOR_POLICY_II])"
   ]
  },
  {
   "cell_type": "code",
   "execution_count": 14,
   "metadata": {
    "ExecuteTime": {
     "end_time": "2024-05-06T16:45:50.361578Z",
     "start_time": "2024-05-06T16:45:03.336824Z"
    },
    "slideshow": {
     "slide_type": "slide"
    }
   },
   "outputs": [
    {
     "data": {
      "text/html": [
       "<table class=\"show_videos\" style=\"border-spacing:0px;\"><tr><td style=\"padding:1px;\"><div style=\"display:flex; align-items:left;\">\n",
       "      <div style=\"display:flex; flex-direction:column; align-items:center;\">\n",
       "      <div>2d-GridWorld</div><div><video controls width=\"256\" height=\"256\" style=\"object-fit:cover;\" loop autoplay muted>\n",
       "      <source src=\"data:video/mp4;base64,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\" type=\"video/mp4\"/>\n",
       "      This browser does not support the video tag.\n",
       "      </video></div></div></div></td></tr></table>"
      ],
      "text/plain": [
       "<IPython.core.display.HTML object>"
      ]
     },
     "metadata": {},
     "output_type": "display_data"
    }
   ],
   "source": [
    "offpolicy_rendering(\n",
    "    env_or_env_name=ENV_NAME,\n",
    "    render_mode=render_mode,\n",
    "    behavior_policy_name=behavior_policy_selected.value,\n",
    "    env_2d_grid_initial_config=env_2D_grid_initial_config,\n",
    "    num_frames=100,\n",
    "    fps=8.0,\n",
    "    inline=True\n",
    ")"
   ]
  },
  {
   "cell_type": "markdown",
   "metadata": {
    "slideshow": {
     "slide_type": "slide"
    }
   },
   "source": [
    "**Collect Minari dataset**\n",
    "\n",
    "We will use the 'create_combined_minari_dataset(...)' function, which utilizes Minari's 'combine_datasets(...)' method in the backend, to merge different datasets.Please, give a look to the code."
   ]
  },
  {
   "cell_type": "code",
   "execution_count": 15,
   "metadata": {
    "slideshow": {
     "slide_type": "slide"
    }
   },
   "outputs": [
    {
     "name": "stdout",
     "output_type": "stream",
     "text": [
      "Dataset Grid_2D_8x8_discrete-data_obst_big_8x8_start_0_0_target_0_7_suboptimal_exercise_I_nb_93-v0 deleted!\n",
      "Dataset Grid_2D_8x8_discrete-data_obst_big_8x8_start_0_0_target_0_7_random_exercise_I_nb_93-v0 deleted!\n",
      "Dataset Grid_2D_8x8_discrete-combined_dataset-v0 deleted!\n",
      "Number of episodes in dataset I:34, in dataset II:36 and  in the combined dataset: 70\n"
     ]
    }
   ],
   "source": [
    "# create the two collected datasets and merge them\n",
    "config_combined_data = create_combined_minari_dataset(\n",
    "        env_name=ENV_NAME,\n",
    "        dataset_identifiers = (DATA_SET_IDENTIFIER_I, DATA_SET_IDENTIFIER_II),\n",
    "        num_collected_points = (NUM_STEPS_I, NUM_STEPS_II),\n",
    "        behavior_policy_names = (BEHAVIOR_POLICY_I, BEHAVIOR_POLICY_II),\n",
    "        combined_dataset_identifier = \"combined_dataset\",\n",
    "        env_2d_grid_initial_config = env_2D_grid_initial_config,\n",
    ")"
   ]
  },
  {
   "cell_type": "markdown",
   "metadata": {
    "slideshow": {
     "slide_type": "slide"
    }
   },
   "source": [
    "#### STEP 3: Feed dataset to Tianshou ReplayBuffer"
   ]
  },
  {
   "cell_type": "code",
   "execution_count": 16,
   "metadata": {
    "slideshow": {
     "slide_type": "slide"
    }
   },
   "outputs": [
    {
     "data": {
      "application/vnd.jupyter.widget-view+json": {
       "model_id": "2c9c5f4f06524658bfff6dcea30069f5",
       "version_major": 2,
       "version_minor": 0
      },
      "text/plain": [
       "Dropdown(options=('Grid_2D_8x8_discrete-combined_dataset-v0', 'Grid_2D_8x8_discrete-data_obst_big_8x8_start_0_…"
      ]
     },
     "metadata": {},
     "output_type": "display_data"
    }
   ],
   "source": [
    "dataset_availables = [config_combined_data.data_set_name] + config_combined_data.children_dataset_names\n",
    "selected_data_set = widget_list(dataset_availables)"
   ]
  },
  {
   "cell_type": "code",
   "execution_count": 17,
   "metadata": {
    "slideshow": {
     "slide_type": "slide"
    }
   },
   "outputs": [
    {
     "name": "stdout",
     "output_type": "stream",
     "text": [
      "Dataset /home/ivan/Documents/GIT_PROJECTS/tfl-training-rl/src/training_rl/offline_rl/data/offline_data/Grid_2D_8x8_discrete-combined_dataset-v0 downloaded. number of episodes: 70\n"
     ]
    },
    {
     "data": {
      "image/png": "[encoded data removed]",
      "text/plain": [
       "<Figure size 1000x500 with 1 Axes>"
      ]
     },
     "metadata": {},
     "output_type": "display_data"
    },
    {
     "data": {
      "image/png": "[encoded data removed]",
      "text/plain": [
       "<Figure size 640x480 with 1 Axes>"
      ]
     },
     "metadata": {},
     "output_type": "display_data"
    }
   ],
   "source": [
    "# feed selected Minari dataset into ReplayBuffer\n",
    "buffer_data = load_buffer_minari(selected_data_set.value)\n",
    "len_buffer = len(buffer_data)\n",
    "\n",
    "# Compute state-action data distribution\n",
    "state_action_count_data, _ = get_state_action_data_and_policy_grid_distributions(buffer_data, env)\n",
    "state_action_histogram(state_action_count_data, title=\"State-Action data distribution\")\n",
    "snapshot_env(env)"
   ]
  },
  {
   "cell_type": "markdown",
   "metadata": {
    "slideshow": {
     "slide_type": "slide"
    }
   },
   "source": [
    "Check that the state-action distributions make sense."
   ]
  },
  {
   "cell_type": "markdown",
   "metadata": {
    "slideshow": {
     "slide_type": "slide"
    }
   },
   "source": [
    "#### STEP 4-5: Select offline policy and training\n",
    "\n",
    "Before we proceed, let's take a moment to become a little more familiar with the code. Let's spend some minutes reviewing:\n",
    "\n",
    "    a - il_policy.py\n",
    "    b - policy_registry.py\n",
    "    c - offline_training.py\n"
   ]
  },
  {
   "cell_type": "code",
   "execution_count": 18,
   "metadata": {
    "slideshow": {
     "slide_type": "slide"
    }
   },
   "outputs": [
    {
     "name": "stdout",
     "output_type": "stream",
     "text": [
      "Dataset /home/ivan/Documents/GIT_PROJECTS/tfl-training-rl/src/training_rl/offline_rl/data/offline_data/Grid_2D_8x8_discrete-combined_dataset-v0 downloaded. number of episodes: 70\n"
     ]
    },
    {
     "name": "stderr",
     "output_type": "stream",
     "text": [
      "Epoch #1: 2501it [00:04, 593.60it/s, gradient_step=2500, loss=1.283]                                                                                                                                        \n"
     ]
    },
    {
     "name": "stdout",
     "output_type": "stream",
     "text": [
      "Epoch #1: test_reward: -0.113899 ± 0.000000, best_reward: -0.032813 ± 0.000000 in #0\n"
     ]
    },
    {
     "name": "stderr",
     "output_type": "stream",
     "text": [
      "Epoch #2:  67%|################################################################################1                                       | 1670/2500 [00:02<00:01, 592.86it/s, gradient_step=4170, loss=1.282]\n"
     ]
    },
    {
     "ename": "KeyboardInterrupt",
     "evalue": "",
     "output_type": "error",
     "traceback": [
      "\u001b[0;31m---------------------------------------------------------------------------\u001b[0m",
      "\u001b[0;31mKeyboardInterrupt\u001b[0m                         Traceback (most recent call last)",
      "Cell \u001b[0;32mIn[18], line 22\u001b[0m\n\u001b[1;32m     14\u001b[0m offline_policy_config \u001b[38;5;241m=\u001b[39m TrainedPolicyConfig(\n\u001b[1;32m     15\u001b[0m     name_expert_data\u001b[38;5;241m=\u001b[39mselected_data_set\u001b[38;5;241m.\u001b[39mvalue,\n\u001b[1;32m     16\u001b[0m     policy_name\u001b[38;5;241m=\u001b[39mPOLICY_NAME,\n\u001b[1;32m     17\u001b[0m     render_mode\u001b[38;5;241m=\u001b[39mrender_mode,\n\u001b[1;32m     18\u001b[0m     device\u001b[38;5;241m=\u001b[39m\u001b[38;5;124m\"\u001b[39m\u001b[38;5;124mcpu\u001b[39m\u001b[38;5;124m\"\u001b[39m\n\u001b[1;32m     19\u001b[0m )\n\u001b[1;32m     21\u001b[0m \u001b[38;5;66;03m# Run the training\u001b[39;00m\n\u001b[0;32m---> 22\u001b[0m \u001b[43moffline_training\u001b[49m\u001b[43m(\u001b[49m\n\u001b[1;32m     23\u001b[0m \u001b[43m    \u001b[49m\u001b[43moffline_policy_config\u001b[49m\u001b[38;5;241;43m=\u001b[39;49m\u001b[43moffline_policy_config\u001b[49m\u001b[43m,\u001b[49m\n\u001b[1;32m     24\u001b[0m \u001b[43m    \u001b[49m\u001b[43mnum_epochs\u001b[49m\u001b[43m \u001b[49m\u001b[38;5;241;43m=\u001b[39;49m\u001b[43m \u001b[49m\u001b[43mNUM_EPOCHS\u001b[49m\u001b[43m,\u001b[49m\n\u001b[1;32m     25\u001b[0m \u001b[43m    \u001b[49m\u001b[43mnumber_test_envs\u001b[49m\u001b[38;5;241;43m=\u001b[39;49m\u001b[43mNUMBER_TEST_ENVS\u001b[49m\u001b[43m,\u001b[49m\n\u001b[1;32m     26\u001b[0m \u001b[43m    \u001b[49m\u001b[43mstep_per_epoch\u001b[49m\u001b[38;5;241;43m=\u001b[39;49m\u001b[43mSTEP_PER_EPOCH\u001b[49m\u001b[43m,\u001b[49m\n\u001b[1;32m     27\u001b[0m \u001b[43m    \u001b[49m\u001b[43mrestore_training\u001b[49m\u001b[38;5;241;43m=\u001b[39;49m\u001b[38;5;28;43;01mFalse\u001b[39;49;00m\u001b[43m,\u001b[49m\n\u001b[1;32m     28\u001b[0m \u001b[43m    \u001b[49m\u001b[43mbatch_size\u001b[49m\u001b[38;5;241;43m=\u001b[39;49m\u001b[43mBATCH_SIZE\u001b[49m\n\u001b[1;32m     29\u001b[0m \u001b[43m)\u001b[49m\n",
      "File \u001b[0;32m~/Documents/GIT_PROJECTS/tfl-training-rl/src/training_rl/offline_rl/offline_trainings/offline_training.py:170\u001b[0m, in \u001b[0;36moffline_training\u001b[0;34m(offline_policy_config, step_per_epoch, step_per_collect, num_epochs, batch_size, update_per_step, number_test_envs, exploration_noise, restore_training, seed, policy_name, test_in_train, episode_per_test)\u001b[0m\n\u001b[1;32m    153\u001b[0m logger \u001b[38;5;241m=\u001b[39m TensorboardLogger(custom_writer)\n\u001b[1;32m    155\u001b[0m \u001b[38;5;66;03m# Training\u001b[39;00m\n\u001b[1;32m    156\u001b[0m _ \u001b[38;5;241m=\u001b[39m \u001b[43mOfflineTrainer\u001b[49m\u001b[43m(\u001b[49m\n\u001b[1;32m    157\u001b[0m \u001b[43m    \u001b[49m\u001b[43mpolicy\u001b[49m\u001b[38;5;241;43m=\u001b[39;49m\u001b[43mpolicy\u001b[49m\u001b[43m,\u001b[49m\n\u001b[1;32m    158\u001b[0m \u001b[43m    \u001b[49m\u001b[43mbuffer\u001b[49m\u001b[38;5;241;43m=\u001b[39;49m\u001b[43mdata_buffer\u001b[49m\u001b[43m,\u001b[49m\n\u001b[1;32m    159\u001b[0m \u001b[43m    \u001b[49m\u001b[43mtest_collector\u001b[49m\u001b[38;5;241;43m=\u001b[39;49m\u001b[43mtest_collector\u001b[49m\u001b[43m,\u001b[49m\n\u001b[1;32m    160\u001b[0m \u001b[43m    \u001b[49m\u001b[43mmax_epoch\u001b[49m\u001b[38;5;241;43m=\u001b[39;49m\u001b[43mnum_epochs\u001b[49m\u001b[43m,\u001b[49m\n\u001b[1;32m    161\u001b[0m \u001b[43m    \u001b[49m\u001b[43mstep_per_epoch\u001b[49m\u001b[38;5;241;43m=\u001b[39;49m\u001b[43mstep_per_epoch\u001b[49m\u001b[43m,\u001b[49m\n\u001b[1;32m    162\u001b[0m \u001b[43m    \u001b[49m\u001b[43mstep_per_collect\u001b[49m\u001b[38;5;241;43m=\u001b[39;49m\u001b[43mstep_per_collect\u001b[49m\u001b[43m,\u001b[49m\n\u001b[1;32m    163\u001b[0m \u001b[43m    \u001b[49m\u001b[43mupdate_per_step\u001b[49m\u001b[38;5;241;43m=\u001b[39;49m\u001b[43mupdate_per_step\u001b[49m\u001b[43m,\u001b[49m\n\u001b[1;32m    164\u001b[0m \u001b[43m    \u001b[49m\u001b[43mepisode_per_test\u001b[49m\u001b[38;5;241;43m=\u001b[39;49m\u001b[43mepisode_per_test\u001b[49m\u001b[43m \u001b[49m\u001b[38;5;28;43;01mif\u001b[39;49;00m\u001b[43m \u001b[49m\u001b[43mnumber_test_envs\u001b[49m\u001b[43m \u001b[49m\u001b[38;5;129;43;01mis\u001b[39;49;00m\u001b[43m \u001b[49m\u001b[38;5;129;43;01mnot\u001b[39;49;00m\u001b[43m \u001b[49m\u001b[38;5;28;43;01mNone\u001b[39;49;00m\u001b[43m \u001b[49m\u001b[38;5;28;43;01melse\u001b[39;49;00m\u001b[43m \u001b[49m\u001b[38;5;28;43;01mNone\u001b[39;49;00m\u001b[43m,\u001b[49m\n\u001b[1;32m    165\u001b[0m \u001b[43m    \u001b[49m\u001b[43mbatch_size\u001b[49m\u001b[38;5;241;43m=\u001b[39;49m\u001b[43mbatch_size\u001b[49m\u001b[43m,\u001b[49m\n\u001b[1;32m    166\u001b[0m \u001b[43m    \u001b[49m\u001b[43mstop_fn\u001b[49m\u001b[38;5;241;43m=\u001b[39;49m\u001b[43mstop_fn\u001b[49m\u001b[43m,\u001b[49m\n\u001b[1;32m    167\u001b[0m \u001b[43m    \u001b[49m\u001b[43msave_best_fn\u001b[49m\u001b[38;5;241;43m=\u001b[39;49m\u001b[43msave_best_fn\u001b[49m\u001b[43m,\u001b[49m\n\u001b[1;32m    168\u001b[0m \u001b[43m    \u001b[49m\u001b[43mlogger\u001b[49m\u001b[38;5;241;43m=\u001b[39;49m\u001b[43mlogger\u001b[49m\u001b[43m,\u001b[49m\n\u001b[1;32m    169\u001b[0m \u001b[43m    \u001b[49m\u001b[43mtest_in_train\u001b[49m\u001b[38;5;241;43m=\u001b[39;49m\u001b[43mtest_in_train\u001b[49m\u001b[43m,\u001b[49m\n\u001b[0;32m--> 170\u001b[0m \u001b[43m\u001b[49m\u001b[43m)\u001b[49m\u001b[38;5;241;43m.\u001b[39;49m\u001b[43mrun\u001b[49m\u001b[43m(\u001b[49m\u001b[43m)\u001b[49m\n\u001b[1;32m    172\u001b[0m \u001b[38;5;66;03m# Save final policy\u001b[39;00m\n\u001b[1;32m    173\u001b[0m policy_name \u001b[38;5;241m=\u001b[39m POLICY_NAME \u001b[38;5;28;01mif\u001b[39;00m policy_name \u001b[38;5;129;01mis\u001b[39;00m \u001b[38;5;28;01mNone\u001b[39;00m \u001b[38;5;28;01melse\u001b[39;00m policy_name\n",
      "File \u001b[0;32m~/miniconda3/envs/training_rl/lib/python3.11/site-packages/tianshou/trainer/base.py:488\u001b[0m, in \u001b[0;36mBaseTrainer.run\u001b[0;34m(self)\u001b[0m\n\u001b[1;32m    486\u001b[0m \u001b[38;5;28;01mtry\u001b[39;00m:\n\u001b[1;32m    487\u001b[0m     \u001b[38;5;28mself\u001b[39m\u001b[38;5;241m.\u001b[39mis_run \u001b[38;5;241m=\u001b[39m \u001b[38;5;28;01mTrue\u001b[39;00m\n\u001b[0;32m--> 488\u001b[0m     \u001b[43mdeque\u001b[49m\u001b[43m(\u001b[49m\u001b[38;5;28;43mself\u001b[39;49m\u001b[43m,\u001b[49m\u001b[43m \u001b[49m\u001b[43mmaxlen\u001b[49m\u001b[38;5;241;43m=\u001b[39;49m\u001b[38;5;241;43m0\u001b[39;49m\u001b[43m)\u001b[49m  \u001b[38;5;66;03m# feed the entire iterator into a zero-length deque\u001b[39;00m\n\u001b[1;32m    489\u001b[0m     info \u001b[38;5;241m=\u001b[39m gather_info(\n\u001b[1;32m    490\u001b[0m         \u001b[38;5;28mself\u001b[39m\u001b[38;5;241m.\u001b[39mstart_time,\n\u001b[1;32m    491\u001b[0m         \u001b[38;5;28mself\u001b[39m\u001b[38;5;241m.\u001b[39mtrain_collector,\n\u001b[0;32m   (...)\u001b[0m\n\u001b[1;32m    494\u001b[0m         \u001b[38;5;28mself\u001b[39m\u001b[38;5;241m.\u001b[39mbest_reward_std,\n\u001b[1;32m    495\u001b[0m     )\n\u001b[1;32m    496\u001b[0m \u001b[38;5;28;01mfinally\u001b[39;00m:\n",
      "File \u001b[0;32m~/miniconda3/envs/training_rl/lib/python3.11/site-packages/tianshou/trainer/base.py:316\u001b[0m, in \u001b[0;36mBaseTrainer.__next__\u001b[0;34m(self)\u001b[0m\n\u001b[1;32m    313\u001b[0m         t\u001b[38;5;241m.\u001b[39mupdate()\n\u001b[1;32m    315\u001b[0m     \u001b[38;5;28mself\u001b[39m\u001b[38;5;241m.\u001b[39mpolicy_update_fn(data, result)\n\u001b[0;32m--> 316\u001b[0m     \u001b[43mt\u001b[49m\u001b[38;5;241;43m.\u001b[39;49m\u001b[43mset_postfix\u001b[49m\u001b[43m(\u001b[49m\u001b[38;5;241;43m*\u001b[39;49m\u001b[38;5;241;43m*\u001b[39;49m\u001b[43mdata\u001b[49m\u001b[43m)\u001b[49m\n\u001b[1;32m    318\u001b[0m \u001b[38;5;28;01mif\u001b[39;00m t\u001b[38;5;241m.\u001b[39mn \u001b[38;5;241m<\u001b[39m\u001b[38;5;241m=\u001b[39m t\u001b[38;5;241m.\u001b[39mtotal \u001b[38;5;129;01mand\u001b[39;00m \u001b[38;5;129;01mnot\u001b[39;00m \u001b[38;5;28mself\u001b[39m\u001b[38;5;241m.\u001b[39mstop_fn_flag:\n\u001b[1;32m    319\u001b[0m     t\u001b[38;5;241m.\u001b[39mupdate()\n",
      "File \u001b[0;32m~/miniconda3/envs/training_rl/lib/python3.11/site-packages/tqdm/std.py:1431\u001b[0m, in \u001b[0;36mtqdm.set_postfix\u001b[0;34m(self, ordered_dict, refresh, **kwargs)\u001b[0m\n\u001b[1;32m   1428\u001b[0m \u001b[38;5;28mself\u001b[39m\u001b[38;5;241m.\u001b[39mpostfix \u001b[38;5;241m=\u001b[39m \u001b[38;5;124m'\u001b[39m\u001b[38;5;124m, \u001b[39m\u001b[38;5;124m'\u001b[39m\u001b[38;5;241m.\u001b[39mjoin(key \u001b[38;5;241m+\u001b[39m \u001b[38;5;124m'\u001b[39m\u001b[38;5;124m=\u001b[39m\u001b[38;5;124m'\u001b[39m \u001b[38;5;241m+\u001b[39m postfix[key]\u001b[38;5;241m.\u001b[39mstrip()\n\u001b[1;32m   1429\u001b[0m                          \u001b[38;5;28;01mfor\u001b[39;00m key \u001b[38;5;129;01min\u001b[39;00m postfix\u001b[38;5;241m.\u001b[39mkeys())\n\u001b[1;32m   1430\u001b[0m \u001b[38;5;28;01mif\u001b[39;00m refresh:\n\u001b[0;32m-> 1431\u001b[0m     \u001b[38;5;28;43mself\u001b[39;49m\u001b[38;5;241;43m.\u001b[39;49m\u001b[43mrefresh\u001b[49m\u001b[43m(\u001b[49m\u001b[43m)\u001b[49m\n",
      "File \u001b[0;32m~/miniconda3/envs/training_rl/lib/python3.11/site-packages/tqdm/std.py:1347\u001b[0m, in \u001b[0;36mtqdm.refresh\u001b[0;34m(self, nolock, lock_args)\u001b[0m\n\u001b[1;32m   1345\u001b[0m     \u001b[38;5;28;01melse\u001b[39;00m:\n\u001b[1;32m   1346\u001b[0m         \u001b[38;5;28mself\u001b[39m\u001b[38;5;241m.\u001b[39m_lock\u001b[38;5;241m.\u001b[39macquire()\n\u001b[0;32m-> 1347\u001b[0m \u001b[38;5;28;43mself\u001b[39;49m\u001b[38;5;241;43m.\u001b[39;49m\u001b[43mdisplay\u001b[49m\u001b[43m(\u001b[49m\u001b[43m)\u001b[49m\n\u001b[1;32m   1348\u001b[0m \u001b[38;5;28;01mif\u001b[39;00m \u001b[38;5;129;01mnot\u001b[39;00m nolock:\n\u001b[1;32m   1349\u001b[0m     \u001b[38;5;28mself\u001b[39m\u001b[38;5;241m.\u001b[39m_lock\u001b[38;5;241m.\u001b[39mrelease()\n",
      "File \u001b[0;32m~/miniconda3/envs/training_rl/lib/python3.11/site-packages/tqdm/std.py:1495\u001b[0m, in \u001b[0;36mtqdm.display\u001b[0;34m(self, msg, pos)\u001b[0m\n\u001b[1;32m   1493\u001b[0m \u001b[38;5;28;01mif\u001b[39;00m pos:\n\u001b[1;32m   1494\u001b[0m     \u001b[38;5;28mself\u001b[39m\u001b[38;5;241m.\u001b[39mmoveto(pos)\n\u001b[0;32m-> 1495\u001b[0m \u001b[38;5;28;43mself\u001b[39;49m\u001b[38;5;241;43m.\u001b[39;49m\u001b[43msp\u001b[49m\u001b[43m(\u001b[49m\u001b[38;5;28;43mself\u001b[39;49m\u001b[38;5;241;43m.\u001b[39;49m\u001b[38;5;21;43m__str__\u001b[39;49m\u001b[43m(\u001b[49m\u001b[43m)\u001b[49m\u001b[43m \u001b[49m\u001b[38;5;28;43;01mif\u001b[39;49;00m\u001b[43m \u001b[49m\u001b[43mmsg\u001b[49m\u001b[43m \u001b[49m\u001b[38;5;129;43;01mis\u001b[39;49;00m\u001b[43m \u001b[49m\u001b[38;5;28;43;01mNone\u001b[39;49;00m\u001b[43m \u001b[49m\u001b[38;5;28;43;01melse\u001b[39;49;00m\u001b[43m \u001b[49m\u001b[43mmsg\u001b[49m\u001b[43m)\u001b[49m\n\u001b[1;32m   1496\u001b[0m \u001b[38;5;28;01mif\u001b[39;00m pos:\n\u001b[1;32m   1497\u001b[0m     \u001b[38;5;28mself\u001b[39m\u001b[38;5;241m.\u001b[39mmoveto(\u001b[38;5;241m-\u001b[39mpos)\n",
      "File \u001b[0;32m~/miniconda3/envs/training_rl/lib/python3.11/site-packages/tqdm/std.py:459\u001b[0m, in \u001b[0;36mtqdm.status_printer.<locals>.print_status\u001b[0;34m(s)\u001b[0m\n\u001b[1;32m    457\u001b[0m \u001b[38;5;28;01mdef\u001b[39;00m \u001b[38;5;21mprint_status\u001b[39m(s):\n\u001b[1;32m    458\u001b[0m     len_s \u001b[38;5;241m=\u001b[39m disp_len(s)\n\u001b[0;32m--> 459\u001b[0m     \u001b[43mfp_write\u001b[49m\u001b[43m(\u001b[49m\u001b[38;5;124;43m'\u001b[39;49m\u001b[38;5;130;43;01m\\r\u001b[39;49;00m\u001b[38;5;124;43m'\u001b[39;49m\u001b[43m \u001b[49m\u001b[38;5;241;43m+\u001b[39;49m\u001b[43m \u001b[49m\u001b[43ms\u001b[49m\u001b[43m \u001b[49m\u001b[38;5;241;43m+\u001b[39;49m\u001b[43m \u001b[49m\u001b[43m(\u001b[49m\u001b[38;5;124;43m'\u001b[39;49m\u001b[38;5;124;43m \u001b[39;49m\u001b[38;5;124;43m'\u001b[39;49m\u001b[43m \u001b[49m\u001b[38;5;241;43m*\u001b[39;49m\u001b[43m \u001b[49m\u001b[38;5;28;43mmax\u001b[39;49m\u001b[43m(\u001b[49m\u001b[43mlast_len\u001b[49m\u001b[43m[\u001b[49m\u001b[38;5;241;43m0\u001b[39;49m\u001b[43m]\u001b[49m\u001b[43m \u001b[49m\u001b[38;5;241;43m-\u001b[39;49m\u001b[43m \u001b[49m\u001b[43mlen_s\u001b[49m\u001b[43m,\u001b[49m\u001b[43m \u001b[49m\u001b[38;5;241;43m0\u001b[39;49m\u001b[43m)\u001b[49m\u001b[43m)\u001b[49m\u001b[43m)\u001b[49m\n\u001b[1;32m    460\u001b[0m     last_len[\u001b[38;5;241m0\u001b[39m] \u001b[38;5;241m=\u001b[39m len_s\n",
      "File \u001b[0;32m~/miniconda3/envs/training_rl/lib/python3.11/site-packages/tqdm/std.py:453\u001b[0m, in \u001b[0;36mtqdm.status_printer.<locals>.fp_write\u001b[0;34m(s)\u001b[0m\n\u001b[1;32m    451\u001b[0m \u001b[38;5;28;01mdef\u001b[39;00m \u001b[38;5;21mfp_write\u001b[39m(s):\n\u001b[1;32m    452\u001b[0m     fp\u001b[38;5;241m.\u001b[39mwrite(\u001b[38;5;28mstr\u001b[39m(s))\n\u001b[0;32m--> 453\u001b[0m     \u001b[43mfp_flush\u001b[49m\u001b[43m(\u001b[49m\u001b[43m)\u001b[49m\n",
      "File \u001b[0;32m~/miniconda3/envs/training_rl/lib/python3.11/site-packages/tqdm/utils.py:196\u001b[0m, in \u001b[0;36mDisableOnWriteError.disable_on_exception.<locals>.inner\u001b[0;34m(*args, **kwargs)\u001b[0m\n\u001b[1;32m    194\u001b[0m \u001b[38;5;28;01mdef\u001b[39;00m \u001b[38;5;21minner\u001b[39m(\u001b[38;5;241m*\u001b[39margs, \u001b[38;5;241m*\u001b[39m\u001b[38;5;241m*\u001b[39mkwargs):\n\u001b[1;32m    195\u001b[0m     \u001b[38;5;28;01mtry\u001b[39;00m:\n\u001b[0;32m--> 196\u001b[0m         \u001b[38;5;28;01mreturn\u001b[39;00m \u001b[43mfunc\u001b[49m\u001b[43m(\u001b[49m\u001b[38;5;241;43m*\u001b[39;49m\u001b[43margs\u001b[49m\u001b[43m,\u001b[49m\u001b[43m \u001b[49m\u001b[38;5;241;43m*\u001b[39;49m\u001b[38;5;241;43m*\u001b[39;49m\u001b[43mkwargs\u001b[49m\u001b[43m)\u001b[49m\n\u001b[1;32m    197\u001b[0m     \u001b[38;5;28;01mexcept\u001b[39;00m \u001b[38;5;167;01mOSError\u001b[39;00m \u001b[38;5;28;01mas\u001b[39;00m e:\n\u001b[1;32m    198\u001b[0m         \u001b[38;5;28;01mif\u001b[39;00m e\u001b[38;5;241m.\u001b[39merrno \u001b[38;5;241m!=\u001b[39m \u001b[38;5;241m5\u001b[39m:\n",
      "File \u001b[0;32m~/miniconda3/envs/training_rl/lib/python3.11/site-packages/ipykernel/iostream.py:609\u001b[0m, in \u001b[0;36mOutStream.flush\u001b[0;34m(self)\u001b[0m\n\u001b[1;32m    607\u001b[0m     \u001b[38;5;28mself\u001b[39m\u001b[38;5;241m.\u001b[39mpub_thread\u001b[38;5;241m.\u001b[39mschedule(evt\u001b[38;5;241m.\u001b[39mset)\n\u001b[1;32m    608\u001b[0m     \u001b[38;5;66;03m# and give a timeout to avoid\u001b[39;00m\n\u001b[0;32m--> 609\u001b[0m     \u001b[38;5;28;01mif\u001b[39;00m \u001b[38;5;129;01mnot\u001b[39;00m \u001b[43mevt\u001b[49m\u001b[38;5;241;43m.\u001b[39;49m\u001b[43mwait\u001b[49m\u001b[43m(\u001b[49m\u001b[38;5;28;43mself\u001b[39;49m\u001b[38;5;241;43m.\u001b[39;49m\u001b[43mflush_timeout\u001b[49m\u001b[43m)\u001b[49m:\n\u001b[1;32m    610\u001b[0m         \u001b[38;5;66;03m# write directly to __stderr__ instead of warning because\u001b[39;00m\n\u001b[1;32m    611\u001b[0m         \u001b[38;5;66;03m# if this is happening sys.stderr may be the problem.\u001b[39;00m\n\u001b[1;32m    612\u001b[0m         \u001b[38;5;28mprint\u001b[39m(\u001b[38;5;124m\"\u001b[39m\u001b[38;5;124mIOStream.flush timed out\u001b[39m\u001b[38;5;124m\"\u001b[39m, file\u001b[38;5;241m=\u001b[39msys\u001b[38;5;241m.\u001b[39m__stderr__)\n\u001b[1;32m    613\u001b[0m \u001b[38;5;28;01melse\u001b[39;00m:\n",
      "File \u001b[0;32m~/miniconda3/envs/training_rl/lib/python3.11/threading.py:629\u001b[0m, in \u001b[0;36mEvent.wait\u001b[0;34m(self, timeout)\u001b[0m\n\u001b[1;32m    627\u001b[0m signaled \u001b[38;5;241m=\u001b[39m \u001b[38;5;28mself\u001b[39m\u001b[38;5;241m.\u001b[39m_flag\n\u001b[1;32m    628\u001b[0m \u001b[38;5;28;01mif\u001b[39;00m \u001b[38;5;129;01mnot\u001b[39;00m signaled:\n\u001b[0;32m--> 629\u001b[0m     signaled \u001b[38;5;241m=\u001b[39m \u001b[38;5;28;43mself\u001b[39;49m\u001b[38;5;241;43m.\u001b[39;49m\u001b[43m_cond\u001b[49m\u001b[38;5;241;43m.\u001b[39;49m\u001b[43mwait\u001b[49m\u001b[43m(\u001b[49m\u001b[43mtimeout\u001b[49m\u001b[43m)\u001b[49m\n\u001b[1;32m    630\u001b[0m \u001b[38;5;28;01mreturn\u001b[39;00m signaled\n",
      "File \u001b[0;32m~/miniconda3/envs/training_rl/lib/python3.11/threading.py:331\u001b[0m, in \u001b[0;36mCondition.wait\u001b[0;34m(self, timeout)\u001b[0m\n\u001b[1;32m    329\u001b[0m \u001b[38;5;28;01melse\u001b[39;00m:\n\u001b[1;32m    330\u001b[0m     \u001b[38;5;28;01mif\u001b[39;00m timeout \u001b[38;5;241m>\u001b[39m \u001b[38;5;241m0\u001b[39m:\n\u001b[0;32m--> 331\u001b[0m         gotit \u001b[38;5;241m=\u001b[39m \u001b[43mwaiter\u001b[49m\u001b[38;5;241;43m.\u001b[39;49m\u001b[43macquire\u001b[49m\u001b[43m(\u001b[49m\u001b[38;5;28;43;01mTrue\u001b[39;49;00m\u001b[43m,\u001b[49m\u001b[43m \u001b[49m\u001b[43mtimeout\u001b[49m\u001b[43m)\u001b[49m\n\u001b[1;32m    332\u001b[0m     \u001b[38;5;28;01melse\u001b[39;00m:\n\u001b[1;32m    333\u001b[0m         gotit \u001b[38;5;241m=\u001b[39m waiter\u001b[38;5;241m.\u001b[39macquire(\u001b[38;5;28;01mFalse\u001b[39;00m)\n",
      "\u001b[0;31mKeyboardInterrupt\u001b[0m: "
     ]
    }
   ],
   "source": [
    "#The model policy to be trained.\n",
    "POLICY_NAME = PolicyName.imitation_learning\n",
    "\n",
    "NUM_EPOCHS = 5\n",
    "BATCH_SIZE = 128\n",
    "STEP_PER_EPOCH = len_buffer\n",
    "\n",
    "# After every epoch we will collect some test statistics from the policy from NUMBER_TEST_ENVS independent envs.\n",
    "NUMBER_TEST_ENVS = 1\n",
    "EXPLORATION_NOISE = True\n",
    "SEED = None #1626\n",
    "\n",
    "# TrainedPolicyConfig is a handy object that will help us to deal with the policy configuration data.\n",
    "offline_policy_config = TrainedPolicyConfig(\n",
    "    name_expert_data=selected_data_set.value,\n",
    "    policy_name=POLICY_NAME,\n",
    "    render_mode=render_mode,\n",
    "    device=\"cpu\"\n",
    ")\n",
    "\n",
    "# Run the training\n",
    "offline_training(\n",
    "    offline_policy_config=offline_policy_config,\n",
    "    num_epochs = NUM_EPOCHS,\n",
    "    number_test_envs=NUMBER_TEST_ENVS,\n",
    "    step_per_epoch=STEP_PER_EPOCH,\n",
    "    restore_training=False,\n",
    "    batch_size=BATCH_SIZE\n",
    ")"
   ]
  },
  {
   "cell_type": "markdown",
   "metadata": {
    "slideshow": {
     "slide_type": "slide"
    }
   },
   "source": [
    "**state-action BC policy distribution**"
   ]
  },
  {
   "cell_type": "code",
   "execution_count": 21,
   "metadata": {
    "scrolled": false,
    "slideshow": {
     "slide_type": "slide"
    }
   },
   "outputs": [
    {
     "name": "stderr",
     "output_type": "stream",
     "text": [
      "Processing: 100%|███████████████████████████████████████████████████| 40/40 [00:24<00:00,  1.65it/s]\n"
     ]
    },
    {
     "data": {
      "image/png": "[encoded data removed]",
      "text/plain": [
       "<Figure size 1000x500 with 1 Axes>"
      ]
     },
     "metadata": {},
     "output_type": "display_data"
    },
    {
     "data": {
      "image/png": "[encoded data removed]",
      "text/plain": [
       "<Figure size 1000x500 with 1 Axes>"
      ]
     },
     "metadata": {},
     "output_type": "display_data"
    },
    {
     "data": {
      "image/png": "[encoded data removed]",
      "text/plain": [
       "<Figure size 1000x500 with 1 Axes>"
      ]
     },
     "metadata": {},
     "output_type": "display_data"
    },
    {
     "data": {
      "image/png": "[encoded data removed]",
      "text/plain": [
       "<Figure size 640x480 with 1 Axes>"
      ]
     },
     "metadata": {},
     "output_type": "display_data"
    }
   ],
   "source": [
    "POLICY_FILE = \"policy.pth\"\n",
    "NUM_EPISODES = 40 # as more episodes the better\n",
    "\n",
    "# restore a policy with the same configuration as the one we trained.\n",
    "policy = restore_trained_offline_policy(offline_policy_config)\n",
    "# load the weights\n",
    "name_expert_data = offline_policy_config.name_expert_data\n",
    "log_name = os.path.join(name_expert_data, POLICY_NAME)\n",
    "log_path = get_trained_policy_path(log_name)\n",
    "policy.load_state_dict(torch.load(os.path.join(log_path, POLICY_FILE), map_location=\"cpu\"))\n",
    "\n",
    "# compute statistics\n",
    "state_action_count_data, state_action_count_policy = \\\n",
    "    get_state_action_data_and_policy_grid_distributions(\n",
    "    buffer_data, \n",
    "    env, \n",
    "    policy, \n",
    "    num_episodes=NUM_EPISODES,\n",
    "    logits_sampling=True,\n",
    ")\n",
    "\n",
    "# plots\n",
    "state_action_histogram(state_action_count_data, title=\"State-Action data distribution\")\n",
    "new_keys = [(env.to_xy(state_action[0]), state_action[1]) for state_action in list(state_action_count_data.keys())]\n",
    "state_action_histogram(state_action_count_policy, title=\"State-Action policy distribution\")\n",
    "compare_state_action_histograms(state_action_count_data, state_action_count_policy)\n",
    "snapshot_env(env)"
   ]
  },
  {
   "cell_type": "markdown",
   "metadata": {
    "slideshow": {
     "slide_type": "slide"
    }
   },
   "source": [
    "As expected, the learned policy has a very similar distribution to the dataset!"
   ]
  },
  {
   "cell_type": "markdown",
   "metadata": {
    "slideshow": {
     "slide_type": "slide"
    }
   },
   "source": [
    "**Visualize BC trained policy**\n",
    "\n",
    "Below the imitation_policy_sampling=False arguments will give us the $\\arg \\max_a \\pi(a|s)$. By setting it to True you will be sampling actions from the policy."
   ]
  },
  {
   "cell_type": "code",
   "execution_count": 22,
   "metadata": {
    "slideshow": {
     "slide_type": "slide"
    }
   },
   "outputs": [
    {
     "data": {
      "text/html": [
       "<table class=\"show_videos\" style=\"border-spacing:0px;\"><tr><td style=\"padding:1px;\"><div style=\"display:flex; align-items:left;\">\n",
       "      <div style=\"display:flex; flex-direction:column; align-items:center;\">\n",
       "      <div>2d-GridWorld</div><div><video controls width=\"256\" height=\"256\" style=\"object-fit:cover;\" loop autoplay muted>\n",
       "      <source src=\"data:video/mp4;base64,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\" type=\"video/mp4\"/>\n",
       "      This browser does not support the video tag.\n",
       "      </video></div></div></div></td></tr></table>"
      ],
      "text/plain": [
       "<IPython.core.display.HTML object>"
      ]
     },
     "metadata": {},
     "output_type": "display_data"
    }
   ],
   "source": [
    "offpolicy_rendering(\n",
    "    env_or_env_name=env,\n",
    "    render_mode=render_mode,\n",
    "    policy_model=policy,\n",
    "    env_2d_grid_initial_config=env_2D_grid_initial_config,\n",
    "    num_frames=100,\n",
    "    imitation_policy_sampling=False\n",
    ")"
   ]
  },
  {
   "cell_type": "markdown",
   "metadata": {
    "slideshow": {
     "slide_type": "slide"
    }
   },
   "source": [
    "#### Summary and conclusions\n",
    "\n",
    "**As our dataset includes a fair amount of expert data, by taking the $\\arg \\max_a \\pi(s|a)$, we are able to remove the noise from the data and obtain the expert policy. This is a nice property of imitation learning! But if the expert data is not enough the BC algorithm will imitate the noise and the policy will be far from optimal.**"
   ]
  },
  {
   "cell_type": "markdown",
   "metadata": {
    "slideshow": {
     "slide_type": "slide"
    }
   },
   "source": [
    "### Exercise II"
   ]
  },
  {
   "cell_type": "markdown",
   "metadata": {
    "slideshow": {
     "slide_type": "slide"
    }
   },
   "source": [
    "Try now the following:\n",
    "\n",
    "**a - Start the agent from a different position. What happens?.**\n",
    "\n",
    "**b - Remove the obstacle and examine the state-action distribution. What do you observe? Can you explain it?.\n",
    "      What do you think would happen if you start the agent from a previously forbidden position?**\n",
    "      \n",
    "**c -  Let's revisit Exercise I and see what happens if you increase the noise significantly, like to 40K-50K?**\n",
    "\n",
    "\n",
    "Hint: You can use a different ObstacleTypes.obst_free_8x8 in your configuration and change the initial state, like this:\n",
    "\n",
    "    NEW_INITIAL_STATE = (1,0)\n",
    "    env.set_new_obstacle_map(ObstacleTypes.obst_free_8x8.value)\n",
    "    env.set_starting_point(NEW_INITIAL_STATE)"
   ]
  },
  {
   "cell_type": "markdown",
   "metadata": {
    "slideshow": {
     "slide_type": "slide"
    }
   },
   "source": [
    "**SOLUTION a**"
   ]
  },
  {
   "cell_type": "code",
   "execution_count": 19,
   "metadata": {
    "slideshow": {
     "slide_type": "slide"
    }
   },
   "outputs": [
    {
     "data": {
      "application/vnd.jupyter.widget-view+json": {
       "model_id": "2adb003bcfa042f185cfe3725b374cf7",
       "version_major": 2,
       "version_minor": 0
      },
      "text/plain": [
       "Dropdown(options=(<ObstacleTypes.obst_free_8x8: ['00000000', '00000000', '00000000', '00000000', '00000000', '…"
      ]
     },
     "metadata": {},
     "output_type": "display_data"
    }
   ],
   "source": [
    "obstacle_availables = [ObstacleTypes.obst_free_8x8, ObstacleTypes.obst_big_8x8]\n",
    "selected_obstacle = widget_list(obstacle_availables)"
   ]
  },
  {
   "cell_type": "code",
   "execution_count": 20,
   "metadata": {
    "slideshow": {
     "slide_type": "slide"
    }
   },
   "outputs": [
    {
     "ename": "NameError",
     "evalue": "name 'policy' is not defined",
     "output_type": "error",
     "traceback": [
      "\u001b[0;31m---------------------------------------------------------------------------\u001b[0m",
      "\u001b[0;31mNameError\u001b[0m                                 Traceback (most recent call last)",
      "Cell \u001b[0;32mIn[20], line 8\u001b[0m\n\u001b[1;32m      2\u001b[0m env\u001b[38;5;241m.\u001b[39mset_starting_point(NEW_INITIAL_STATE)\n\u001b[1;32m      3\u001b[0m env\u001b[38;5;241m.\u001b[39mset_new_obstacle_map(selected_obstacle\u001b[38;5;241m.\u001b[39mvalue\u001b[38;5;241m.\u001b[39mvalue) \u001b[38;5;66;03m#ObstacleTypes.obst_big_8x8\u001b[39;00m\n\u001b[1;32m      5\u001b[0m offpolicy_rendering(\n\u001b[1;32m      6\u001b[0m     env_or_env_name\u001b[38;5;241m=\u001b[39menv,\n\u001b[1;32m      7\u001b[0m     render_mode\u001b[38;5;241m=\u001b[39mRenderMode\u001b[38;5;241m.\u001b[39mRGB_ARRAY_LIST,\n\u001b[0;32m----> 8\u001b[0m     policy_model\u001b[38;5;241m=\u001b[39m\u001b[43mpolicy\u001b[49m,\n\u001b[1;32m      9\u001b[0m     num_frames\u001b[38;5;241m=\u001b[39m\u001b[38;5;241m1000\u001b[39m,\n\u001b[1;32m     10\u001b[0m     imitation_policy_sampling\u001b[38;5;241m=\u001b[39m\u001b[38;5;28;01mFalse\u001b[39;00m\n\u001b[1;32m     11\u001b[0m )\n",
      "\u001b[0;31mNameError\u001b[0m: name 'policy' is not defined"
     ]
    }
   ],
   "source": [
    "NEW_INITIAL_STATE = (2,2)\n",
    "env.set_starting_point(NEW_INITIAL_STATE)\n",
    "env.set_new_obstacle_map(selected_obstacle.value.value) #ObstacleTypes.obst_big_8x8\n",
    "\n",
    "offpolicy_rendering(\n",
    "    env_or_env_name=env,\n",
    "    render_mode=RenderMode.RGB_ARRAY_LIST,\n",
    "    policy_model=policy,\n",
    "    num_frames=1000,\n",
    "    imitation_policy_sampling=False\n",
    ")"
   ]
  },
  {
   "cell_type": "markdown",
   "metadata": {
    "slideshow": {
     "slide_type": "slide"
    }
   },
   "source": [
    "**SOLUTION b**"
   ]
  },
  {
   "cell_type": "code",
   "execution_count": null,
   "metadata": {
    "scrolled": false,
    "slideshow": {
     "slide_type": "slide"
    }
   },
   "outputs": [],
   "source": [
    "NUM_EPISODES = 20\n",
    "env.set_starting_point((0,0))\n",
    "env.set_new_obstacle_map(ObstacleTypes.obst_free_8x8.value)\n",
    "\n",
    "\n",
    "state_action_count_data, state_action_count_policy = \\\n",
    "    get_state_action_data_and_policy_grid_distributions(\n",
    "    buffer_data, \n",
    "    env, \n",
    "    policy, \n",
    "    num_episodes=NUM_EPISODES,\n",
    "    logits_sampling=True,\n",
    ")\n",
    "\n",
    "state_action_histogram(state_action_count_data, title=\"State-Action data distribution\")\n",
    "new_keys = [(env.to_xy(state_action[0]), state_action[1]) for state_action in list(state_action_count_data.keys())]\n",
    "state_action_histogram(state_action_count_policy, title=\"State-Action policy distribution\")\n",
    "compare_state_action_histograms(state_action_count_data, state_action_count_policy)\n",
    "snapshot_env(env)"
   ]
  },
  {
   "cell_type": "markdown",
   "metadata": {
    "slideshow": {
     "slide_type": "slide"
    }
   },
   "source": [
    "Keep in mind that in real-life scenarios, the forbidden zone—represented by the black region in the original environment—might correspond to a playground or a garden. There could be valid reasons for avoiding this area, so it's crucial not to enter it. If an agent does venture into this forbidden zone, it should strive to return to in-distribution states. Offline reinforcement learning (RL) addresses this challenge, as we will explore."
   ]
  },
  {
   "cell_type": "markdown",
   "metadata": {
    "slideshow": {
     "slide_type": "slide"
    }
   },
   "source": [
    "**SOLUTION c**\n",
    "\n",
    "As you can see, increasing the noise level causes the trained policy to mimic the noise, resulting in a far from policy."
   ]
  },
  {
   "cell_type": "markdown",
   "metadata": {
    "slideshow": {
     "slide_type": "slide"
    }
   },
   "source": [
    "#### Conclusions\n",
    "\n",
    "**DISTRIBUTIONAL SHIFT EFFECT**: As we observed in the previous exercises, a distributional shift effect often occurs, primarily due to out-of-distribution state-action pairs as the agent explores unfamiliar areas. This undesired effect is caused by function approximation, meaning that the DNN policy cannot perfectly represent the state-action distribution in regions with limited or no data. Eliminating this effect is crucial. Near unexplored regions, the policy's behavior becomes unpredictable."
   ]
  },
  {
   "cell_type": "markdown",
   "metadata": {
    "slideshow": {
     "slide_type": "slide"
    }
   },
   "source": [
    "### BC pros and cons\n",
    "\n",
    "**Pros**:\n",
    "\n",
    "a - BC becomes interesting when one has access to noisy expert data, as it provides a means to reduce noise from the expert data.\n",
    "\n",
    "b - Another noteworthy aspect of BC is that it doesn't rely on rewards, making it a less complex solution to the problem of reward shaping in reinforcement learning.\n",
    "\n",
    "**Cons**: \n",
    "\n",
    "a - in realistic applications, obtaining expert data is often a challenge. In many cases, we have access to only a limited number of trajectories, rendering this method less useful for extracting optimal policies. \n",
    "\n",
    "b - as we've observed, encountering o.o.d. scenarios (common during inference when visiting state-actions not included in the training dataset) causes BC to behave unpredictably. This unpredictability arises due to the lack of feedback typically present in online RL settings.\n",
    "\n",
    "c - Additionally, simple imitation learning approaches often struggle to address an important property mentioned in the Minari datasets introduction (nb_91), known as the stitching property. This property refers to the ability of the learned policy to combine suboptimal trajectories into better ones, which is crucial in real-world problems.\n",
    "\n",
    "We will explore later how offline RL provides a strategic approach to address these drawbacks."
   ]
  },
  {
   "cell_type": "markdown",
   "metadata": {
    "slideshow": {
     "slide_type": "slide"
    }
   },
   "source": [
    "## DAgger (Dataset Aggregation)"
   ]
  },
  {
   "cell_type": "markdown",
   "metadata": {
    "slideshow": {
     "slide_type": "slide"
    }
   },
   "source": [
    "Improved versions of Behavioral Cloning (BC), such as DAgger (Dataset Aggregation), involve **rolling out the policy after initial BC training**. If **new states** emerge during rollout, **additional feedback is sought from human experts**. While this approach can lead to significant improvements, it can also incur substantial costs.\n",
    "\n",
    "<img src=\"_static/images/93_DAGGER.jpg\" alt=\"Snow\" style=\"width:50%;\">\n",
    "<div class=\"slide title\"> Fig.2: DAGGER idea </div>"
   ]
  },
  {
   "cell_type": "markdown",
   "metadata": {
    "slideshow": {
     "slide_type": "slide"
    }
   },
   "source": [
    "<img src=\"_static/images/93_dagger_pseudocode.png\" alt=\"Snow\" style=\"width:80%;\">\n",
    "<div class=\"slide title\"> Fig.2: DAGGER pseudocde </div>"
   ]
  },
  {
   "cell_type": "markdown",
   "metadata": {
    "slideshow": {
     "slide_type": "slide"
    }
   },
   "source": [
    "Note that the error in Dagger is: $$ \\mathbb{E} \\left[ \\sum_t c(s_t, a_t) \\right] \\sim O(\\epsilon H)$$\n",
    "\n",
    "\n",
    "In summary:\n",
    "\n",
    "**-DAGGER is powerful but impractical: it gradually expands the dataset by incorporating new states and actions with expert knowledge in each iteration.**\n",
    "\n",
    "**-DAGGER introduced a usually complex reward implicitly through the expert feedback**\n",
    "\n",
    "**-DAGGER aligns more closely with online RL methodologies as in offline RL, states not included in the dataset are inaccessible.**"
   ]
  },
  {
   "cell_type": "markdown",
   "metadata": {
    "slideshow": {
     "slide_type": "slide"
    }
   },
   "source": [
    "### Exercise III\n",
    "\n",
    "In this exercise we will train a self-driving car in the TORCS race simulator."
   ]
  },
  {
   "cell_type": "markdown",
   "metadata": {
    "slideshow": {
     "slide_type": "slide"
    }
   },
   "source": [
    "#### TORCS race simulator quick overview\n",
    "\n",
    "TORCS (The Open Racing Car Simulator) is a free 3D car racing game made in C++ (it includes aerodynamics, wheel rotation, car damage, fuel, etc.)\n",
    "\n",
    "<img src=\"_static/images/93_TORCS_simulator.png\" alt=\"Snow\" style=\"width:50%;\">\n",
    "<div class=\"slide title\"> Fig 3: TORCS simulator </div>\n",
    "\n",
    "**We have created a Gymnasium environment for the simulator** that collect info through the server for training.\n",
    "\n",
    "**Observation space**: 19-ray lidar.\n",
    "\n",
    "**Action space**: Steering.\n",
    "\n",
    "**Reward**: Maximized when the car stays aligned with the track center, decreasing otherwise until termination if the car veers off-road.\n",
    "\n",
    "For more details refer to the [manual](https://arxiv.org/pdf/1304.1672) and the Torcs environment in the provided code."
   ]
  },
  {
   "cell_type": "code",
   "execution_count": 23,
   "metadata": {
    "slideshow": {
     "slide_type": "slide"
    }
   },
   "outputs": [
    {
     "name": "stdout",
     "output_type": "stream",
     "text": [
      "\n",
      "********** Memory sharing started, attached at 46D12000 **********\n",
      " \n",
      "Visual Properties Report\n",
      "------------------------\n",
      "Compatibility mode, properties unknown.\n"
     ]
    },
    {
     "data": {
      "text/plain": [
       "0"
      ]
     },
     "execution_count": 23,
     "metadata": {},
     "output_type": "execute_result"
    }
   ],
   "source": [
    "#Please configure TORCS with the following settings (go to RACE - PRACTICE - CONFIGURE RACE):\n",
    "\n",
    "#  Track: E-Track 4\n",
    "#  Driver: scr_server_1\n",
    "\n",
    "os.system('torcs')"
   ]
  },
  {
   "cell_type": "markdown",
   "metadata": {
    "slideshow": {
     "slide_type": "slide"
    }
   },
   "source": [
    "In this exercise, we'll train a self-driving car using suboptimal data. Behavioral Cloning (BC) alone may not give an optimal policy, but DAGGER with an expert policy can refine it quickly to near-optimal levels."
   ]
  },
  {
   "cell_type": "markdown",
   "metadata": {
    "slideshow": {
     "slide_type": "slide"
    }
   },
   "source": [
    "#### STEP 1: Create TORCS Environment"
   ]
  },
  {
   "cell_type": "code",
   "execution_count": 24,
   "metadata": {
    "slideshow": {
     "slide_type": "slide"
    }
   },
   "outputs": [],
   "source": [
    "# As we are creating the default TORCS environment we won't need to create it explicitly\n",
    "ENV_NAME = EnvFactory.torcs"
   ]
  },
  {
   "cell_type": "markdown",
   "metadata": {
    "slideshow": {
     "slide_type": "slide"
    }
   },
   "source": [
    "**Visualize TORCS behavior policies**"
   ]
  },
  {
   "cell_type": "code",
   "execution_count": 25,
   "metadata": {
    "slideshow": {
     "slide_type": "slide"
    }
   },
   "outputs": [
    {
     "data": {
      "application/vnd.jupyter.widget-view+json": {
       "model_id": "796dbc250c294d8cbcb2ccc5b88bf76d",
       "version_major": 2,
       "version_minor": 0
      },
      "text/plain": [
       "Dropdown(options=(<BehaviorPolicyType.torcs_drunk_driver_policy: 'torcs_drunk_driver_policy'>, <BehaviorPolicy…"
      ]
     },
     "metadata": {},
     "output_type": "display_data"
    }
   ],
   "source": [
    "policy_selected_to_visualize = widget_list([\n",
    "    BehaviorPolicyType.torcs_drunk_driver_policy, \n",
    "    BehaviorPolicyType.torcs_expert_policy,\n",
    "    BehaviorPolicyType.torcs_expert_policy_with_noise,\n",
    "])"
   ]
  },
  {
   "cell_type": "code",
   "execution_count": 26,
   "metadata": {
    "slideshow": {
     "slide_type": "slide"
    }
   },
   "outputs": [
    {
     "name": "stderr",
     "output_type": "stream",
     "text": [
      "WARNING: grscene:initBackground Failed to open shadow2.rgb for reading\n",
      "WARNING:         no shadow mapping on cars for this track \n"
     ]
    },
    {
     "name": "stdout",
     "output_type": "stream",
     "text": [
      "Client connected on 3001..............\n",
      ". Waiting for server on 3001............\n",
      "Count Down : 5\n",
      "Client connected on 3001..............\n",
      "\n",
      "********** Memory sharing started, attached at 267C0000 **********\n",
      " \n",
      "Fuel consumption disabled!\n",
      "Car damages disabled!\n",
      "Laptime limit disabled!\n",
      "Visual Properties Report\n",
      "------------------------\n",
      "Compatibility mode, properties unknown.\n",
      "Waiting for request on port 3001\n",
      "******* RESTARTING *****\n",
      "Waiting for request on port 3001\n",
      ". "
     ]
    }
   ],
   "source": [
    "offpolicy_rendering(\n",
    "    env_or_env_name=ENV_NAME,\n",
    "    render_mode=None,\n",
    "    behavior_policy_name=policy_selected_to_visualize.value,\n",
    "    num_frames=4000,\n",
    ")"
   ]
  },
  {
   "cell_type": "markdown",
   "metadata": {
    "slideshow": {
     "slide_type": "slide"
    }
   },
   "source": [
    "\n",
    "#### STEP 2: Create Minari dataset"
   ]
  },
  {
   "cell_type": "code",
   "execution_count": 27,
   "metadata": {
    "slideshow": {
     "slide_type": "slide"
    }
   },
   "outputs": [
    {
     "name": "stdout",
     "output_type": "stream",
     "text": [
      "Dataset torcs-data-v0 deleted!\n"
     ]
    },
    {
     "name": "stderr",
     "output_type": "stream",
     "text": [
      "WARNING: grscene:initBackground Failed to open shadow2.rgb for reading\n",
      "WARNING:         no shadow mapping on cars for this track \n"
     ]
    },
    {
     "name": "stdout",
     "output_type": "stream",
     "text": [
      "Client connected on 3001..............\n",
      ". Waiting for server on 3001............\n",
      "Count Down : 5\n",
      "Client connected on 3001..............\n",
      ". \n",
      "********** Memory sharing started, attached at 3728000 **********\n",
      " \n",
      "Fuel consumption disabled!\n",
      "Car damages disabled!\n",
      "Laptime limit disabled!\n",
      "Visual Properties Report\n",
      "------------------------\n",
      "Compatibility mode, properties unknown.\n",
      "Waiting for request on port 3001\n",
      "******* RESTARTING *****\n",
      "Waiting for request on port 3001\n",
      ". "
     ]
    }
   ],
   "source": [
    "# Configure the policy\n",
    "#BEHAVIOR_POLICY = BehaviorPolicyType.torcs_drunk_driver_policy\n",
    "BEHAVIOR_POLICY = policy_selected_to_visualize.value\n",
    "DATA_SET_IDENTIFIER = \"torcs_suboptimal\"\n",
    "NUM_STEPS = 6000\n",
    "\n",
    "config_torcs_data_set = create_minari_datasets(\n",
    "    env_name=ENV_NAME,\n",
    "    dataset_identifier=DATA_SET_IDENTIFIER,\n",
    "    num_colected_points=NUM_STEPS,\n",
    "    behavior_policy_name=BEHAVIOR_POLICY,\n",
    ")\n",
    "\n",
    "_ = os.system(\"pkill torcs\")"
   ]
  },
  {
   "cell_type": "markdown",
   "metadata": {
    "slideshow": {
     "slide_type": "slide"
    }
   },
   "source": [
    "#### STEP 3: feed dataset to ReplayBuffer "
   ]
  },
  {
   "cell_type": "code",
   "execution_count": null,
   "metadata": {
    "slideshow": {
     "slide_type": "slide"
    }
   },
   "outputs": [],
   "source": [
    "DATA_SET_NAME = config_torcs_data_set.data_set_name\n",
    "buffer_data = load_buffer_minari(DATA_SET_NAME)"
   ]
  },
  {
   "cell_type": "markdown",
   "metadata": {
    "slideshow": {
     "slide_type": "slide"
    }
   },
   "source": [
    "#### STEP 4-5: DAgger initialization phase\n",
    "\n",
    "**Let's train a BC policy with the collected data** .\n",
    "\n",
    "**Suggestion: You would like to turn-on the graphics to speed up the trainig**. Open TORCS and go to:\n",
    "\n",
    "RACE/PRACTICE/CONFIGURE/RACE/ACCEPT/ACCEPT and on that screen change display from 'normal' to 'results only'."
   ]
  },
  {
   "cell_type": "code",
   "execution_count": null,
   "metadata": {
    "slideshow": {
     "slide_type": "slide"
    }
   },
   "outputs": [],
   "source": [
    "# Training config.\n",
    "NUM_EPOCHS = 5\n",
    "BATCH_SIZE = 128\n",
    "NUMBER_TEST_ENVS = 1 # number of environments to test the policy during training\n",
    "EXPLORATION_NOISE = True\n",
    "SEED = None  # 1626\n",
    "PERCENTAGE_DATA_PER_EPOCH = 1.0 # a fraction to doesn't use full buffer.\n",
    "DEVICE = \"cuda\" # change to cpu if not gpu available\n",
    "\n",
    "OFFLINE_POLICY_NAME = PolicyName.imitation_learning_torcs # offline policy selected\n",
    "TRAINED_POLICY_NAME = \"policy_bc_for_dagger.pt\" # name of trained policy\n",
    "\n",
    "buffer_data = load_buffer_minari(DATA_SET_NAME) # feed dataset in Tianshou ReplayBuffer\n",
    "\n",
    "# Create meta-data for trained policy.\n",
    "offline_policy_config = TrainedPolicyConfig(\n",
    "    name_expert_data=DATA_SET_NAME,\n",
    "    policy_name= OFFLINE_POLICY_NAME,\n",
    "    device=DEVICE\n",
    ")"
   ]
  },
  {
   "cell_type": "code",
   "execution_count": null,
   "metadata": {
    "slideshow": {
     "slide_type": "slide"
    }
   },
   "outputs": [],
   "source": [
    "# Training\n",
    "offline_training(\n",
    "    offline_policy_config=offline_policy_config,\n",
    "    num_epochs=NUM_EPOCHS,\n",
    "    number_test_envs=NUMBER_TEST_ENVS,\n",
    "    step_per_epoch=PERCENTAGE_DATA_PER_EPOCH * len(buffer_data),\n",
    "    restore_training=False,\n",
    "    batch_size=BATCH_SIZE,\n",
    "    policy_name=TRAINED_POLICY_NAME,\n",
    ")"
   ]
  },
  {
   "cell_type": "markdown",
   "metadata": {
    "slideshow": {
     "slide_type": "slide"
    }
   },
   "source": [
    "**Restored BC trained policy and visualized it**"
   ]
  },
  {
   "cell_type": "code",
   "execution_count": null,
   "metadata": {
    "scrolled": true,
    "slideshow": {
     "slide_type": "slide"
    }
   },
   "outputs": [],
   "source": [
    "trained_bc_policy = restore_trained_offline_policy(offline_policy_config)\n",
    "log_name = os.path.join(DATA_SET_NAME, OFFLINE_POLICY_NAME)\n",
    "log_path = get_trained_policy_path(log_name)\n",
    "trained_bc_policy.load_state_dict(torch.load(str(os.path.join(log_path, TRAINED_POLICY_NAME)), map_location=\"cpu\"))\n",
    "\n",
    "offpolicy_rendering(\n",
    "    env_or_env_name=ENV_NAME,\n",
    "    render_mode=None,\n",
    "    policy_model=trained_bc_policy,\n",
    "    num_frames=NUM_STEPS,\n",
    ")\n"
   ]
  },
  {
   "cell_type": "markdown",
   "metadata": {
    "slideshow": {
     "slide_type": "slide"
    }
   },
   "source": [
    "#### STEP 4-5: DAgger agregation phase\n",
    "\n",
    "**We will ask for expert advide and we aggregate that info into our dataset**"
   ]
  },
  {
   "cell_type": "code",
   "execution_count": null,
   "metadata": {
    "slideshow": {
     "slide_type": "slide"
    }
   },
   "outputs": [],
   "source": [
    "# Expert policy\n",
    "policy_expert = BehaviorPolicyRestorationConfigFactoryRegistry.torcs_expert_policy\n",
    "\n",
    "output_initial_phase = policy_rollout_torcs_env(\n",
    "    driver_policy=trained_bc_policy,\n",
    "    advisor_policy=policy_expert,\n",
    "    env_collected_quantities=\"angle\",\n",
    "    num_steps=NUM_STEPS,\n",
    ")"
   ]
  },
  {
   "cell_type": "markdown",
   "metadata": {
    "slideshow": {
     "slide_type": "slide"
    }
   },
   "source": [
    "**Let's compare the decisions made by the BC policy against the ones that would had been taken by the expert**"
   ]
  },
  {
   "cell_type": "code",
   "execution_count": null,
   "metadata": {
    "slideshow": {
     "slide_type": "slide"
    }
   },
   "outputs": [],
   "source": [
    "compare_policy_decisions_vs_expert_suggestions(\n",
    "    policy_actions=output_initial_phase[\"actions_driver\"],\n",
    "    expert_suggestions=output_initial_phase[\"actions_advisor\"]\n",
    ")"
   ]
  },
  {
   "cell_type": "code",
   "execution_count": null,
   "metadata": {
    "scrolled": false,
    "slideshow": {
     "slide_type": "slide"
    }
   },
   "outputs": [],
   "source": [
    "DAGGER_ITERS = 10\n",
    "\n",
    "corrected_actions = np.array(output_initial_phase[\"actions_advisor\"])\n",
    "collected_observations = np.array(output_initial_phase[\"observations\"])\n",
    "\n",
    "# We will make a copy of the bc policy just to get bc in case we need it later\n",
    "dagger_policy = deepcopy(trained_bc_policy)\n",
    "\n",
    "\n",
    "try:\n",
    "        \n",
    "    for dagger_iter in range(DAGGER_ITERS):\n",
    "\n",
    "        model_dagger_fit(\n",
    "            input_data=torch.Tensor(collected_observations),\n",
    "            target_data=torch.Tensor(corrected_actions),\n",
    "            model=dagger_policy,\n",
    "            epochs=1,\n",
    "        )\n",
    "\n",
    "        output_aggregation_phase = policy_rollout_torcs_env(\n",
    "            driver_policy=dagger_policy,\n",
    "            advisor_policy=policy_expert,\n",
    "            env_collected_quantities=\"angle\",\n",
    "            num_steps=NUM_STEPS,\n",
    "        )\n",
    "\n",
    "        compare_policy_decisions_vs_expert_suggestions(\n",
    "            policy_actions=output_aggregation_phase[\"actions_driver\"],\n",
    "            expert_suggestions=output_aggregation_phase[\"actions_advisor\"]\n",
    "        )\n",
    "\n",
    "        corrected_actions = np.concatenate([np.array(output_aggregation_phase[\"actions_advisor\"]), corrected_actions], axis=0)\n",
    "        collected_observations = np.concatenate([np.array(output_aggregation_phase[\"observations\"]), collected_observations], axis=0)\n",
    "\n",
    "        \n",
    "except KeyboardInterrupt:\n",
    "        pass"
   ]
  },
  {
   "cell_type": "code",
   "execution_count": null,
   "metadata": {
    "slideshow": {
     "slide_type": "slide"
    }
   },
   "outputs": [],
   "source": [
    "offpolicy_rendering(\n",
    "    env_or_env_name=ENV_NAME,\n",
    "    render_mode=None,\n",
    "    policy_model=dagger_offline_policy,\n",
    "    num_frames=5000,\n",
    ")"
   ]
  },
  {
   "cell_type": "markdown",
   "metadata": {
    "slideshow": {
     "slide_type": "slide"
    }
   },
   "source": [
    "## Imitation Learning with Decision transformers"
   ]
  },
  {
   "cell_type": "markdown",
   "metadata": {
    "slideshow": {
     "slide_type": "slide"
    }
   },
   "source": [
    "**Decision Transformer is an imitation learning approach through a conditional sequence modelling that can generate future actions that achieve the desired return**, i.e. you **condition on the rewards**. Note that this is in contrast to RL where you always try to find the policy that maximizes the reward.\n",
    "\n",
    "<div style=\"margin-top: 10px;\">\n",
    "    <div style=\"display: flex; justify-content: space-between;\">\n",
    "        <div style=\"width: 90%;\">\n",
    "            <img src=\"_static/images/93_decision_transformer.png\" alt=\"KL divergence\" width=\"100%\">\n",
    "            <div class=\"slide title\"> Fig.5: Decision Transformer </div>\n",
    "        </div>\n",
    "        <div style=\"width: 10%;\"></div> <!-- Empty div for space in the middle -->\n",
    "        <div style=\"width: 90%;\">\n",
    "            <img src=\"_static/images/93_decision_transformer_2.png\" alt=\"Your Second Image\" width=\"100%\">\n",
    "        </div>\n",
    "</div>"
   ]
  },
  {
   "cell_type": "markdown",
   "metadata": {
    "slideshow": {
     "slide_type": "slide"
    }
   },
   "source": [
    "Basically our policy will be given by: \n",
    "\n",
    "$$\\pi(a_t | s_0, R_0, a_0,  s_1, R_1, a_1,  ... , s_{t-1}, R_{t-1}, a_{t-1}, s_t, R_t)$$,\n",
    "\n",
    "where $R_t$ is the return to go or cumulative reward at time t, i.e. $R_t = \\sum_{t'=0}^{\\infty} r_{t + t' + 1}$ .\n",
    "    \n",
    "Note that a **decision transformer** is a powerful way to imitate the behavior you observe in expert data but, **it lacks the temporal compositionality** (i.e. the stitching property to connect different trajectories to get a new one with a better reward) own by dynamic programming approaches like e.g. Q-learning. As we will see later, offline RL exploits this property quite a lot to find the optimal policy."
   ]
  },
  {
   "cell_type": "markdown",
   "metadata": {
    "slideshow": {
     "slide_type": "slide"
    }
   },
   "source": [
    "However, there are other similar methods that use transformers and incorporate, to some extent, the temporal compositional property. For instance, the trajectory transformer (https://arxiv.org/pdf/2106.02039.pdf) is similar to a Decision Transformer in that they both train a transformer architecture, as seen in Fig. 7.,\n",
    "\n",
    "<img src=\"_static/images/93_levine_lecture_traj_transformer.png\" alt=\"stich_traj\" style=\"width:70%;\">\n",
    "<div class=\"slide title\"> Fig.6: Trajectory Transformers.  </div>\n",
    "\n",
    "to predict not only the next action but also the next state and reward. "
   ]
  },
  {
   "cell_type": "markdown",
   "metadata": {
    "slideshow": {
     "slide_type": "slide"
    }
   },
   "source": [
    "However, the main difference lies in the fact that, after training the transformer and considering it as a probability distribution of trajectories, it takes an additional step of planning using BEAM search:\n",
    "\n",
    "<div style=\"margin-top: 10px;\">\n",
    "    <div style=\"display: flex; justify-content: space-between;\">\n",
    "        <div style=\"width: 30%;\">\n",
    "            <img src=\"_static/images/93_beam_search.png\" alt=\"KL divergence\" width=\"100%\">\n",
    "            <div class=\"slide title\"> Fig.7: Left: BEAM search - Right: stitching property. </div>\n",
    "        </div>\n",
    "        <div style=\"width: 10%;\"></div> <!-- Empty div for space in the middle -->\n",
    "        <div style=\"width: 20%;\">\n",
    "            <img src=\"_static/images/stiching.png\" alt=\"Your Second Image\" width=\"100%\">\n",
    "        </div>\n",
    "</div>"
   ]
  },
  {
   "cell_type": "markdown",
   "metadata": {
    "slideshow": {
     "slide_type": "slide"
    }
   },
   "source": [
    "Finally, it is important to mention that you are not restricted to conditioning solely on the rewards; instead, you could condition on other quantities such as the target state (if applicable) or specific actions (such as the direction the car turns left), among others. There are differents algorithms that explode these ideas."
   ]
  },
  {
   "cell_type": "markdown",
   "metadata": {
    "slideshow": {
     "slide_type": "slide"
    }
   },
   "source": [
    "### Exercise 4"
   ]
  },
  {
   "cell_type": "code",
   "execution_count": null,
   "metadata": {
    "slideshow": {
     "slide_type": "slide"
    }
   },
   "outputs": [],
   "source": [
    "PATH_TO_DT_MODEL = \"../src/training_rl/offline_rl/data/decision_transformers/models/model_d4rl_walker2d-medium-v1_May_10_v0.pt\"\n",
    "#PATH_TO_DT_MODEL = \\\n",
    "#        \"../src/training_rl/offline_rl/data/decision_transformers/models/model_1000_ep_1000_steps_halfcheetah/model_d4rl_halfcheetah_medium_v0_April_24_v2.pt\"\n",
    "ENV_NAME =  \"Walker2d-v3\" #\"HalfCheetah-v3\" \n",
    "#DATASET_DT_PATH = \"../src/training_rl/offline_rl/data/decision_transformers/d4rl_data/halfcheetah-medium-v0.pkl\"\n",
    "DATASET_DT_PATH = \"../src/training_rl/offline_rl/data/decision_transformers/d4rl_data/walker2d-medium-v1.pkl\"\n",
    "RENDER_MODE = True"
   ]
  },
  {
   "cell_type": "markdown",
   "metadata": {
    "slideshow": {
     "slide_type": "slide"
    }
   },
   "source": [
    "**Create the environment and restore trained model**\n",
    "\n",
    "The model was already trained (see offline_rl/offline_trainings/training_decision_transformer.py)"
   ]
  },
  {
   "cell_type": "code",
   "execution_count": null,
   "metadata": {
    "slideshow": {
     "slide_type": "slide"
    }
   },
   "outputs": [],
   "source": [
    "env = gym.make(ENV_NAME, render_mode='rgb_array' if RENDER_MODE else None)\n",
    "\n",
    "decision_transformer_config = get_decision_transformer_default_config()\n",
    "decision_transformer_config[\"device\"] = \"cpu\"\n",
    "device = decision_transformer_config[\"device\"]\n",
    "context_len = decision_transformer_config[\"context_len\"]\n",
    "\n",
    "model = create_decision_transformer_policy_from_dict(\n",
    "    config=decision_transformer_config,\n",
    "    action_space=env.action_space,\n",
    "    observation_space=env.observation_space\n",
    ")\n",
    "\n",
    "model.load_state_dict(torch.load(PATH_TO_DT_MODEL, map_location=device))\n",
    "print(\"Policy loaded from: \", PATH_TO_DT_MODEL)"
   ]
  },
  {
   "cell_type": "markdown",
   "metadata": {
    "slideshow": {
     "slide_type": "slide"
    }
   },
   "source": [
    "**Let's give a look to the training data**"
   ]
  },
  {
   "cell_type": "code",
   "execution_count": null,
   "metadata": {
    "scrolled": false,
    "slideshow": {
     "slide_type": "slide"
    }
   },
   "outputs": [],
   "source": [
    "with open(DATASET_DT_PATH, 'rb') as f:\n",
    "    trajectories_dataset = pickle.load(f)\n",
    "\n",
    "cumulative_rewards_per_episode = []\n",
    "trajectory_length_per_episode = []\n",
    "for trajectory in trajectories_dataset:\n",
    "    cumulative_rewards_per_episode.append(np.sum(trajectory['rewards']))\n",
    "    trajectory_length_per_episode.append(len(trajectory['observations']))\n",
    "\n",
    "    \n",
    "def plot_hist(values, bins, x_label=\"\", y_label=\"\", title=\"\"):    \n",
    "    plt.figure(figsize=(8, 6))\n",
    "    plt.hist(values, bins=bins, edgecolor='black')\n",
    "    plt.xlabel(x_label)\n",
    "    plt.ylabel(y_label)\n",
    "    plt.title(title)\n",
    "    plt.grid(True)\n",
    "    plt.show()\n",
    "\n",
    "plot_hist(\n",
    "    values=cumulative_rewards_per_episode, \n",
    "    bins=10,\n",
    "    x_label='Rewards to go, $R_0$, per episode',\n",
    "    y_label='Frequency',\n",
    "    title='Collected data - Rewards to go',\n",
    ")\n",
    "\n",
    "plot_hist(\n",
    "    values=trajectory_length_per_episode, \n",
    "    bins=10,\n",
    "    x_label='trajectory lengths per episode',\n",
    "    y_label='Frequency',\n",
    "    title='Collected data - trajectory lengths',\n",
    ")"
   ]
  },
  {
   "cell_type": "markdown",
   "metadata": {
    "slideshow": {
     "slide_type": "slide"
    }
   },
   "source": [
    "**Comparison of rewards to go: trainig vs inference**"
   ]
  },
  {
   "cell_type": "code",
   "execution_count": null,
   "metadata": {
    "scrolled": true,
    "slideshow": {
     "slide_type": "slide"
    }
   },
   "outputs": [],
   "source": [
    "EVAL_RTG_TARGET = 500\n",
    "EVAL_RTG_SCALE = 1000\n",
    "\n",
    "    \n",
    "trajectory_cumulative_rewards_plot(\n",
    "    env=env,\n",
    "    model=model,\n",
    "    initial_R_0=EVAL_RTG_TARGET, \n",
    "    trajectories_data=trajectories_dataset,\n",
    "    eval_rtg_scale=EVAL_RTG_SCALE,\n",
    "    num_episodes = 20,\n",
    "    context_len=context_len,\n",
    ")"
   ]
  },
  {
   "cell_type": "markdown",
   "metadata": {
    "slideshow": {
     "slide_type": "slide"
    }
   },
   "source": [
    "**Visualize trained policy**"
   ]
  },
  {
   "cell_type": "code",
   "execution_count": null,
   "metadata": {
    "slideshow": {
     "slide_type": "slide"
    }
   },
   "outputs": [],
   "source": [
    "NUM_STEPS_PER_EPISODE=4000\n",
    "RENDER_RTG_TARGET = 600\n",
    "EVAL_RTG_SCALE = 1000\n",
    "\n",
    "results = evaluate_on_env(\n",
    "    model= model,\n",
    "    device=\"cpu\",\n",
    "    context_len=context_len,\n",
    "    env=env,\n",
    "    rtg_target=RENDER_RTG_TARGET,\n",
    "    rtg_scale=EVAL_RTG_SCALE,\n",
    "    num_eval_ep=1,\n",
    "    max_test_ep_len=NUM_STEPS_PER_EPISODE,\n",
    "    render=True,\n",
    "    )\n"
   ]
  },
  {
   "cell_type": "markdown",
   "metadata": {
    "slideshow": {
     "slide_type": "slide"
    }
   },
   "source": []
  }
 ],
 "metadata": {
  "celltoolbar": "Slideshow",
  "kernelspec": {
   "display_name": "training_rl",
   "language": "python",
   "name": "training_rl"
  },
  "language_info": {
   "codemirror_mode": {
    "name": "ipython",
    "version": 3
   },
   "file_extension": ".py",
   "mimetype": "text/x-python",
   "name": "python",
   "nbconvert_exporter": "python",
   "pygments_lexer": "ipython3",
   "version": "3.11.8"
  },
  "toc": {
   "base_numbering": 1,
   "nav_menu": {},
   "number_sections": true,
   "sideBar": true,
   "skip_h1_title": false,
   "title_cell": "Table of Contents",
   "title_sidebar": "Contents",
   "toc_cell": false,
   "toc_position": {
    "height": "calc(100% - 180px)",
    "left": "10px",
    "top": "150px",
    "width": "339.2px"
   },
   "toc_section_display": true,
   "toc_window_display": true
  }
 },
 "nbformat": 4,
 "nbformat_minor": 4
}
