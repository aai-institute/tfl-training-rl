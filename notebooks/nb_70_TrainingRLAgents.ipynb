{
 "cells": [
  {
   "cell_type": "code",
   "execution_count": null,
   "metadata": {
    "hide_input": true,
    "init_cell": true,
    "slideshow": {
     "slide_type": "skip"
    },
    "tags": [
     "remove-input",
     "remove-output",
     "remove-input-nbconv",
     "remove-output-nbconv"
    ]
   },
   "outputs": [],
   "source": [
    "%%capture\n",
    "\n",
    "%load_ext autoreload\n",
    "%autoreload 2\n",
    "%matplotlib inline\n",
    "%load_ext training_rl"
   ]
  },
  {
   "cell_type": "code",
   "execution_count": null,
   "metadata": {
    "hide_input": true,
    "init_cell": true,
    "slideshow": {
     "slide_type": "skip"
    },
    "tags": [
     "remove-input",
     "remove-input-nbconv"
    ]
   },
   "outputs": [
    {
     "data": {
      "text/html": [
       "<style>/*\n",
       "This file is mainly copy-pasta from rise's examples\n",
       "https://github.com/damianavila/RISE/blob/master/examples/rise.css\n",
       "that was further customized for appliedAI purposes\n",
       "*/\n",
       "@import url('https://fonts.googleapis.com/css2?family=Work+Sans:wght@400&display=swap');\n",
       "\n",
       "\n",
       "/*\n",
       "body {\n",
       "    font-family: 'Work Sans', sans-serif !important;\n",
       "    text-transform: initial !important;\n",
       "    letter-spacing: initial !important;\n",
       "    font-weight: 400 !important;\n",
       "    line-height: 1.5 !important;\n",
       "    text-size-adjust: 100% !important;\n",
       "    ‑webkit‑text‑size‑adjust: 100% !important;\n",
       "}\n",
       "\n",
       "\n",
       ".reveal, div.text_cell_render, .md-slide, .sidebar-wrapper {\n",
       "    font-size: 1.5rem !important;\n",
       "}\n",
       "*/\n",
       "\n",
       ".navbar-default .navbar-nav > li > a {\n",
       "    color: #00747b !important;\n",
       "}\n",
       "\n",
       ".filename {\n",
       "    font-size: 2.4rem !important;\n",
       "    color: #212529 !important;\n",
       "    font-weight: 600 !important;\n",
       "}\n",
       "\n",
       ".reveal, .md-slide {\n",
       "    color: white !important;\n",
       "}\n",
       "\n",
       "h1, h2 {\n",
       "    color: #00747b !important;\n",
       "}\n",
       "\n",
       "h3, h4, h5, h6 {\n",
       "    color: #808080 !important;\n",
       "}\n",
       "\n",
       ".reveal p, .reveal ol, .reveal dl, .reveal ul,\n",
       "div.text_cell_render {\n",
       "    color: #212529 !important;\n",
       "}\n",
       "\n",
       "/*copied from stackoverflow, better spacing between list items*/\n",
       "li + li {\n",
       "  margin-top: 0.2em;\n",
       "}\n",
       "\n",
       "body.rise-enabled .reveal ol, body.rise-enabled .reveal dl, body.rise-enabled .reveal ul {\n",
       "    margin-left: 0.1em;\n",
       "    margin-top: 0.2em;\n",
       "}\n",
       "\n",
       ".reveal .rendered_html h1:first-child,\n",
       ".reveal .rendered_html h2:first-child,\n",
       ".reveal .rendered_html h3:first-child,\n",
       ".reveal .rendered_html h4:first-child,\n",
       ".reveal .rendered_html h5:first-child {\n",
       "    margin-top: 0.2em;\n",
       "}\n",
       "\n",
       "/*\n",
       ".CodeMirror-lines, .output_text {\n",
       "    font-size: 1.5rem !important;\n",
       "}\n",
       "*/\n",
       "\n",
       "h1.plan, h2.plan, h3.plan {\n",
       "    text-align: center;\n",
       "    padding-bottom: 30px;\n",
       "}\n",
       "\n",
       "ul.plan>li>span.plan-bold {\n",
       "    font-size: 110%;\n",
       "    padding: 4px;\n",
       "    font-weight: bold;\n",
       "    background-color: #eee;\n",
       "}\n",
       "\n",
       "ul.plan>li>ul.subplan>li>span.plan-bold {\n",
       "    font-weight: bold;\n",
       "}\n",
       "\n",
       ".plan-strike {\n",
       "    opacity: 0.4;\n",
       "/*    text-decoration: line-through; */\n",
       "}\n",
       "\n",
       "div.plan-container {\n",
       "    display: grid;\n",
       "    grid-template-columns: 50% 50%;\n",
       "}\n",
       "\n",
       "/*\n",
       " * this is to void xarray's html output to show the fallback textual representation\n",
       " * see also\n",
       "   * xarray.md and\n",
       "   * https://github.com/damianavila/RISE/issues/594\n",
       " */\n",
       ".reveal pre.xr-text-repr-fallback {\n",
       "    display: none;\n",
       "}\n",
       "\n",
       "#toc-header, .toc-item li {\n",
       "    margin: auto !important;\n",
       "    color: #808080 !important;\n",
       "}\n",
       "\n",
       "#toc, #toc-wrapper, .toc-item-num, #toc a, .toc {\n",
       "    margin: auto !important;\n",
       "    color: #00747b !important;\n",
       "}\n",
       "\n",
       "#toc-wrapper {\n",
       "    top: auto !important;\n",
       "    bottom: auto !important;\n",
       "    margin-top: 2rem !important;\n",
       "    color: #00747b !important;\n",
       "}\n",
       "\n",
       "\n",
       "#rise-header {\n",
       "    margin: 10px;\n",
       "    left: 5%;\n",
       "}\n",
       "\n",
       "#rise-footer {\n",
       "    margin: 10px;\n",
       "    right: 5%;\n",
       "}\n",
       "\n",
       "#rise-backimage {\n",
       "    opacity: 0.70;\n",
       "}\n",
       "\n",
       ".reveal img {\n",
       "    max-width: 100%;\n",
       "}\n",
       "\n",
       "\n",
       ".md-slide.title {\n",
       "    position: relative;\n",
       "    top: -50%;\n",
       "    margin-left: 5%;\n",
       "    font-size: 4em !important;\n",
       "    line-height: 1.6;\n",
       "}\n",
       "</style>"
      ],
      "text/plain": [
       "<IPython.core.display.HTML object>"
      ]
     },
     "execution_count": null,
     "metadata": {},
     "output_type": "execute_result"
    }
   ],
   "source": [
    "%presentation_style"
   ]
  },
  {
   "cell_type": "code",
   "execution_count": null,
   "metadata": {
    "hide_input": true,
    "init_cell": true,
    "slideshow": {
     "slide_type": "skip"
    },
    "tags": [
     "remove-input",
     "remove-output",
     "remove-input-nbconv",
     "remove-output-nbconv"
    ]
   },
   "outputs": [],
   "source": [
    "%%capture\n",
    "\n",
    "%set_random_seed 12"
   ]
  },
  {
   "cell_type": "code",
   "execution_count": null,
   "metadata": {
    "hide_input": true,
    "init_cell": true,
    "slideshow": {
     "slide_type": "skip"
    },
    "tags": [
     "remove-input-nbconv",
     "remove-cell"
    ]
   },
   "outputs": [
    {
     "data": {
      "text/markdown": [
       "\n",
       "$\\newcommand{\\vect}[1]{{\\mathbf{\\boldsymbol{#1}} }}$\n",
       "$\\newcommand{\\amax}{{\\text{argmax}}}$\n",
       "$\\newcommand{\\P}{{\\mathbb{P}}}$\n",
       "$\\newcommand{\\E}{{\\mathbb{E}}}$\n",
       "$\\newcommand{\\R}{{\\mathbb{R}}}$\n",
       "$\\newcommand{\\Z}{{\\mathbb{Z}}}$\n",
       "$\\newcommand{\\N}{{\\mathbb{N}}}$\n",
       "$\\newcommand{\\C}{{\\mathbb{C}}}$\n",
       "$\\newcommand{\\abs}[1]{{ \\left| #1 \\right| }}$\n",
       "$\\newcommand{\\simpl}[1]{{\\Delta^{#1} }}$\n"
      ],
      "text/plain": [
       "<IPython.core.display.Markdown object>"
      ]
     },
     "metadata": {},
     "output_type": "display_data"
    }
   ],
   "source": [
    "%load_latex_macros"
   ]
  },
  {
   "cell_type": "markdown",
   "metadata": {
    "slideshow": {
     "slide_type": "slide"
    }
   },
   "source": [
    "<img src=\"_static/images/aai-institute-cover.svg\" alt=\"Snow\" style=\"width:100%;\">\n",
    "<div class=\"md-slide title\">Include title and greeting with divs</div>"
   ]
  },
  {
   "cell_type": "markdown",
   "metadata": {
    "slideshow": {
     "slide_type": "slide"
    }
   },
   "source": [
    "# Training RL Agents\n",
    "\n",
    "In this notebook we will dive a bit deeper into RL by training agents on the pendulum environment\n",
    "that we already encountered before and analyze the results.\n",
    "We will be concerned with questions like reward shaping, stability of results,\n",
    "generalization to non-training situations and other issues related to real-world applications of RL.\n",
    "\n",
    "Here we will only look at model-free RL since model-based RL will often require some domain specific\n",
    "algorithms and engineering. Also, the openly available tools for model-based RL are far less mature\n",
    "than for model-free."
   ]
  },
  {
   "cell_type": "code",
   "execution_count": null,
   "metadata": {},
   "outputs": [],
   "source": [
    "%load_ext tensorboard\n",
    "\n",
    "import gymnasium as gym\n",
    "from typing import Callable\n",
    "\n",
    "from gymnasium.envs.classic_control import PendulumEnv\n",
    "from gymnasium.wrappers import TimeLimit\n",
    "\n",
    "import datetime\n",
    "import os\n",
    "from collections.abc import Sequence\n",
    "from tianshou.highlevel.config import SamplingConfig\n",
    "from tianshou.highlevel.experiment import (\n",
    "    ExperimentConfig,\n",
    "    SACExperimentBuilder,\n",
    ")\n",
    "from tianshou.highlevel.params.alpha import AutoAlphaFactoryDefault\n",
    "from tianshou.highlevel.params.policy_params import SACParams\n",
    "from tianshou.highlevel.env import EnvFactory\n",
    "from tianshou.highlevel.persistence import PersistableConfigProtocol\n",
    "from tianshou.env import ShmemVectorEnv\n",
    "from tianshou.highlevel.env import ContinuousEnvironments\n",
    "from training_rl.env_utils import demo_model, collect_trajectory\n"
   ]
  },
  {
   "cell_type": "code",
   "execution_count": null,
   "metadata": {},
   "outputs": [],
   "source": [
    "%tensorboard --logdir log --host localhost"
   ]
  },
  {
   "cell_type": "markdown",
   "metadata": {},
   "source": [
    "## The vanilla pendulum\n",
    "\n",
    "Let us start by simply using gym's pendulum as is and training a soft actor critic (an off-policy algorithm) on it."
   ]
  },
  {
   "cell_type": "code",
   "execution_count": null,
   "metadata": {},
   "outputs": [],
   "source": [
    "from tianshou.highlevel.params.lr_scheduler import LRSchedulerFactoryLinear\n",
    "from typing import Literal\n",
    "import torch\n",
    "from tianshou.highlevel.params.dist_fn import DistributionFunctionFactoryIndependentGaussians\n",
    "from tianshou.highlevel.params.policy_params import PPOParams\n",
    "from tianshou.highlevel.experiment import PPOExperimentBuilder\n",
    "from examples.mujoco.mujoco_env import MujocoEnvFactory\n",
    "\n",
    "\n",
    "def train_ppo_agent(\n",
    "    env_factory: EnvFactory,\n",
    "    experiment_config: ExperimentConfig = None,\n",
    "    buffer_size: int = 4096,\n",
    "    hidden_sizes: Sequence[int] = (64, 64),\n",
    "    lr: float = 3e-4,\n",
    "    gamma: float = 0.99,\n",
    "    epoch: int = 100,\n",
    "    step_per_epoch: int = 30000,\n",
    "    step_per_collect: int = 2048,\n",
    "    repeat_per_collect: int = 10,\n",
    "    batch_size: int = 64,\n",
    "    training_num: int = 64,\n",
    "    test_num: int = 10,\n",
    "    rew_norm: bool = True,\n",
    "    vf_coef: float = 0.25,\n",
    "    ent_coef: float = 0.0,\n",
    "    gae_lambda: float = 0.95,\n",
    "    bound_action_method: Literal[\"clip\", \"tanh\"] | None = \"clip\",\n",
    "    lr_decay: bool = True,\n",
    "    max_grad_norm: float = 0.5,\n",
    "    eps_clip: float = 0.2,\n",
    "    dual_clip: float | None = None,\n",
    "    value_clip: bool = False,\n",
    "    norm_adv: bool = False,\n",
    "    recompute_adv: bool = True,\n",
    "):\n",
    "    experiment_config = experiment_config or ExperimentConfig()\n",
    "    log_name = os.path.join(\"ppo\", str(experiment_config.seed))\n",
    "\n",
    "    sampling_config = SamplingConfig(\n",
    "        num_epochs=epoch,\n",
    "        step_per_epoch=step_per_epoch,\n",
    "        batch_size=batch_size,\n",
    "        num_train_envs=training_num,\n",
    "        num_test_envs=test_num,\n",
    "        buffer_size=buffer_size,\n",
    "        step_per_collect=step_per_collect,\n",
    "        repeat_per_collect=repeat_per_collect,\n",
    "    )\n",
    "\n",
    "    experiment = (\n",
    "        PPOExperimentBuilder(env_factory, experiment_config, sampling_config)\n",
    "        .with_ppo_params(\n",
    "            PPOParams(\n",
    "                discount_factor=gamma,\n",
    "                gae_lambda=gae_lambda,\n",
    "                action_bound_method=bound_action_method,\n",
    "                reward_normalization=rew_norm,\n",
    "                ent_coef=ent_coef,\n",
    "                vf_coef=vf_coef,\n",
    "                max_grad_norm=max_grad_norm,\n",
    "                value_clip=value_clip,\n",
    "                advantage_normalization=norm_adv,\n",
    "                eps_clip=eps_clip,\n",
    "                dual_clip=dual_clip,\n",
    "                recompute_advantage=recompute_adv,\n",
    "                lr=lr,\n",
    "                lr_scheduler_factory=LRSchedulerFactoryLinear(sampling_config)\n",
    "                if lr_decay\n",
    "                else None,\n",
    "                dist_fn=DistributionFunctionFactoryIndependentGaussians(),\n",
    "            ),\n",
    "        )\n",
    "        .with_actor_factory_default(hidden_sizes, torch.nn.Tanh, continuous_unbounded=True)\n",
    "        .with_critic_factory_default(hidden_sizes, torch.nn.Tanh)\n",
    "        .build()\n",
    "    )\n",
    "    experiment_result = experiment.run(log_name)\n",
    "    return experiment_result"
   ]
  },
  {
   "cell_type": "code",
   "execution_count": null,
   "metadata": {},
   "outputs": [],
   "source": [
    "def get_pendulum_env(render_mode: Literal[\"rgb_array\"] | None = None):\n",
    "    return TimeLimit(PendulumEnv(render_mode=render_mode), max_episode_steps=200)\n",
    "\n",
    "\n",
    "class PendulumEnvFactory(EnvFactory):\n",
    "    def create_envs(\n",
    "        self, num_training_envs, num_test_envs, config: PersistableConfigProtocol | None = None\n",
    "    ) -> ContinuousEnvironments:\n",
    "        env = get_pendulum_env()\n",
    "        train_envs = ShmemVectorEnv([get_pendulum_env] * num_training_envs)\n",
    "        test_envs = ShmemVectorEnv([get_pendulum_env] * num_test_envs)\n",
    "        return ContinuousEnvironments(\n",
    "            env=env,\n",
    "            train_envs=train_envs,\n",
    "            test_envs=test_envs,\n",
    "        )"
   ]
  },
  {
   "cell_type": "code",
   "execution_count": null,
   "metadata": {},
   "outputs": [],
   "source": [
    "exp_result = train_ppo_agent(\n",
    "    PendulumEnvFactory(), epoch=1, step_per_epoch=20000, training_num=10,test_num=1\n",
    ")"
   ]
  },
  {
   "cell_type": "code",
   "execution_count": null,
   "metadata": {},
   "outputs": [],
   "source": [
    "from tianshou.data import Batch\n",
    "import numpy as np\n",
    "\n",
    "policy = exp_result.world.policy\n",
    "\n",
    "def get_action(obs: np.ndarray, info: dict | None = None):\n",
    "    batch = Batch(obs=obs[None, :], info=info)\n",
    "    forward_result = policy(batch, deterministic=True)\n",
    "    return forward_result.act[0].numpy()"
   ]
  },
  {
   "cell_type": "code",
   "execution_count": null,
   "metadata": {},
   "outputs": [],
   "source": [
    "pend_env = gym.make(\"Pendulum-v1\", render_mode=\"rgb_array\")"
   ]
  },
  {
   "cell_type": "code",
   "execution_count": null,
   "metadata": {},
   "outputs": [],
   "source": [
    "obs, info = pend_env.reset()"
   ]
  },
  {
   "cell_type": "code",
   "execution_count": null,
   "metadata": {},
   "outputs": [],
   "source": [
    "get_action(obs, info)"
   ]
  },
  {
   "cell_type": "code",
   "execution_count": null,
   "metadata": {},
   "outputs": [],
   "source": [
    "f = pend_env.render()"
   ]
  },
  {
   "cell_type": "code",
   "execution_count": null,
   "metadata": {},
   "outputs": [],
   "source": [
    "f"
   ]
  },
  {
   "cell_type": "code",
   "execution_count": null,
   "metadata": {},
   "outputs": [],
   "source": [
    "traj = collect_trajectory(pend_env)"
   ]
  },
  {
   "cell_type": "code",
   "execution_count": null,
   "metadata": {},
   "outputs": [],
   "source": [
    "traj[0].frame"
   ]
  },
  {
   "cell_type": "code",
   "execution_count": null,
   "metadata": {},
   "outputs": [],
   "source": [
    "demo_model(pend_env, \"random\", 200)"
   ]
  },
  {
   "cell_type": "markdown",
   "metadata": {
    "slideshow": {
     "slide_type": "slide"
    },
    "tags": [
     "remove-cell",
     "remove-cell-nbconv"
    ]
   },
   "source": [
    "<img src=\"_static/images/aai-institute-cover.svg\" alt=\"Snow\" style=\"width:100%;\">\n",
    "<div class=\"md-slide title\">Thank you for the attention!</div>"
   ]
  }
 ],
 "metadata": {
  "celltoolbar": "Slideshow",
  "kernelspec": {
   "display_name": "Python 3 (ipykernel)",
   "language": "python",
   "name": "python3"
  },
  "language_info": {
   "codemirror_mode": {
    "name": "ipython",
    "version": 3
   },
   "file_extension": ".py",
   "mimetype": "text/x-python",
   "name": "python",
   "nbconvert_exporter": "python",
   "pygments_lexer": "ipython3",
   "version": "3.11.5"
  },
  "rise": {
   "footer": "<img src='_static/images/aai-logo.png' alt='logo' height='50em'>",
   "header": "<img src='_static/images/transferlab-logo.svg' alt='logo' height='20em' />",
   "theme": "white"
  },
  "toc": {
   "base_numbering": 1,
   "nav_menu": {
    "height": "148px",
    "width": "256px"
   },
   "number_sections": false,
   "sideBar": true,
   "skip_h1_title": false,
   "title_cell": "Table of Contents",
   "title_sidebar": "Contents",
   "toc_cell": false,
   "toc_position": {
    "height": "563.2px",
    "left": "125px",
    "top": "116.469px",
    "width": "315.6px"
   },
   "toc_section_display": true,
   "toc_window_display": true
  },
  "varInspector": {
   "cols": {
    "lenName": 16,
    "lenType": 16,
    "lenVar": 40
   },
   "kernels_config": {
    "python": {
     "delete_cmd_postfix": "",
     "delete_cmd_prefix": "del ",
     "library": "var_list.py",
     "varRefreshCmd": "print(var_dic_list())"
    },
    "r": {
     "delete_cmd_postfix": ") ",
     "delete_cmd_prefix": "rm(",
     "library": "var_list.r",
     "varRefreshCmd": "cat(var_dic_list()) "
    }
   },
   "types_to_exclude": [
    "module",
    "function",
    "builtin_function_or_method",
    "instance",
    "_Feature"
   ],
   "window_display": false
  }
 },
 "nbformat": 4,
 "nbformat_minor": 1
}
