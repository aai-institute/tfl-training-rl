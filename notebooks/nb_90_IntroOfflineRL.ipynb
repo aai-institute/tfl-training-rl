{
 "cells": [
  {
   "cell_type": "code",
   "execution_count": 1,
   "metadata": {
    "ExecuteTime": {
     "end_time": "2023-12-16T17:57:00.726151Z",
     "start_time": "2023-12-16T17:56:59.841417Z"
    }
   },
   "outputs": [],
   "source": [
    "%%capture\n",
    "%load_ext autoreload\n",
    "%autoreload 2\n",
    "%matplotlib inline\n",
    "%load_ext training_rl\n",
    "%set_random_seed 12"
   ]
  },
  {
   "cell_type": "code",
   "execution_count": 2,
   "metadata": {
    "ExecuteTime": {
     "end_time": "2023-12-16T17:57:02.243879Z",
     "start_time": "2023-12-16T17:57:02.213509Z"
    }
   },
   "outputs": [
    {
     "data": {
      "text/html": [
       "<style>/*\n",
       "This file is mainly copy-pasta from rise's examples\n",
       "https://github.com/damianavila/RISE/blob/master/examples/rise.css\n",
       "that was further customized for appliedAI purposes\n",
       "*/\n",
       "@import url('https://fonts.googleapis.com/css2?family=Work+Sans:wght@400&display=swap');\n",
       "\n",
       "\n",
       "/*\n",
       "body {\n",
       "    font-family: 'Work Sans', sans-serif !important;\n",
       "    text-transform: initial !important;\n",
       "    letter-spacing: initial !important;\n",
       "    font-weight: 400 !important;\n",
       "    line-height: 1.5 !important;\n",
       "    text-size-adjust: 100% !important;\n",
       "    ‑webkit‑text‑size‑adjust: 100% !important;\n",
       "}\n",
       "\n",
       "\n",
       ".reveal, div.text_cell_render, .md-slide, .sidebar-wrapper {\n",
       "    font-size: 1.5rem !important;\n",
       "}\n",
       "*/\n",
       "\n",
       ".navbar-default .navbar-nav > li > a {\n",
       "    color: #00747b !important;\n",
       "}\n",
       "\n",
       ".filename {\n",
       "    font-size: 2.4rem !important;\n",
       "    color: #212529 !important;\n",
       "    font-weight: 600 !important;\n",
       "}\n",
       "\n",
       ".reveal, .md-slide {\n",
       "    color: white !important;\n",
       "}\n",
       "\n",
       "h1, h2 {\n",
       "    color: #00747b !important;\n",
       "}\n",
       "\n",
       "h3, h4, h5, h6 {\n",
       "    color: #808080 !important;\n",
       "}\n",
       "\n",
       ".reveal p, .reveal ol, .reveal dl, .reveal ul,\n",
       "div.text_cell_render {\n",
       "    color: #212529 !important;\n",
       "}\n",
       "\n",
       "/*copied from stackoverflow, better spacing between list items*/\n",
       "li + li {\n",
       "  margin-top: 0.2em;\n",
       "}\n",
       "\n",
       "body.rise-enabled .reveal ol, body.rise-enabled .reveal dl, body.rise-enabled .reveal ul {\n",
       "    margin-left: 0.1em;\n",
       "    margin-top: 0.2em;\n",
       "}\n",
       "\n",
       ".reveal .rendered_html h1:first-child,\n",
       ".reveal .rendered_html h2:first-child,\n",
       ".reveal .rendered_html h3:first-child,\n",
       ".reveal .rendered_html h4:first-child,\n",
       ".reveal .rendered_html h5:first-child {\n",
       "    margin-top: 0.2em;\n",
       "}\n",
       "\n",
       "/*\n",
       ".CodeMirror-lines, .output_text {\n",
       "    font-size: 1.5rem !important;\n",
       "}\n",
       "*/\n",
       "\n",
       "h1.plan, h2.plan, h3.plan {\n",
       "    text-align: center;\n",
       "    padding-bottom: 30px;\n",
       "}\n",
       "\n",
       "ul.plan>li>span.plan-bold {\n",
       "    font-size: 110%;\n",
       "    padding: 4px;\n",
       "    font-weight: bold;\n",
       "    background-color: #eee;\n",
       "}\n",
       "\n",
       "ul.plan>li>ul.subplan>li>span.plan-bold {\n",
       "    font-weight: bold;\n",
       "}\n",
       "\n",
       ".plan-strike {\n",
       "    opacity: 0.4;\n",
       "/*    text-decoration: line-through; */\n",
       "}\n",
       "\n",
       "div.plan-container {\n",
       "    display: grid;\n",
       "    grid-template-columns: 50% 50%;\n",
       "}\n",
       "\n",
       "/*\n",
       " * this is to void xarray's html output to show the fallback textual representation\n",
       " * see also\n",
       "   * xarray.md and\n",
       "   * https://github.com/damianavila/RISE/issues/594\n",
       " */\n",
       ".reveal pre.xr-text-repr-fallback {\n",
       "    display: none;\n",
       "}\n",
       "\n",
       "#toc-header, .toc-item li {\n",
       "    margin: auto !important;\n",
       "    color: #808080 !important;\n",
       "}\n",
       "\n",
       "#toc, #toc-wrapper, .toc-item-num, #toc a, .toc {\n",
       "    margin: auto !important;\n",
       "    color: #00747b !important;\n",
       "}\n",
       "\n",
       "#toc-wrapper {\n",
       "    top: auto !important;\n",
       "    bottom: auto !important;\n",
       "    margin-top: 2rem !important;\n",
       "    color: #00747b !important;\n",
       "}\n",
       "\n",
       "\n",
       "#rise-header {\n",
       "    margin: 10px;\n",
       "    left: 5%;\n",
       "}\n",
       "\n",
       "#rise-footer {\n",
       "    margin: 10px;\n",
       "    right: 5%;\n",
       "}\n",
       "\n",
       "#rise-backimage {\n",
       "    opacity: 0.70;\n",
       "}\n",
       "\n",
       ".reveal img {\n",
       "    max-width: 100%;\n",
       "}\n",
       "\n",
       "\n",
       ".md-slide.title {\n",
       "    position: relative;\n",
       "    top: -50%;\n",
       "    margin-left: 5%;\n",
       "    font-size: 4em !important;\n",
       "    line-height: 1.6;\n",
       "}\n",
       "</style>"
      ],
      "text/plain": [
       "<IPython.core.display.HTML object>"
      ]
     },
     "execution_count": 2,
     "metadata": {},
     "output_type": "execute_result"
    }
   ],
   "source": [
    "%presentation_style"
   ]
  },
  {
   "cell_type": "code",
   "execution_count": 3,
   "metadata": {
    "ExecuteTime": {
     "end_time": "2023-12-16T17:57:03.983204Z",
     "start_time": "2023-12-16T17:57:03.965114Z"
    }
   },
   "outputs": [
    {
     "data": {
      "text/markdown": [
       "\n",
       "$\\newcommand{\\vect}[1]{{\\mathbf{\\boldsymbol{#1}} }}$\n",
       "$\\newcommand{\\amax}{{\\text{argmax}}}$\n",
       "$\\newcommand{\\P}{{\\mathbb{P}}}$\n",
       "$\\newcommand{\\E}{{\\mathbb{E}}}$\n",
       "$\\newcommand{\\R}{{\\mathbb{R}}}$\n",
       "$\\newcommand{\\Z}{{\\mathbb{Z}}}$\n",
       "$\\newcommand{\\N}{{\\mathbb{N}}}$\n",
       "$\\newcommand{\\C}{{\\mathbb{C}}}$\n",
       "$\\newcommand{\\abs}[1]{{ \\left| #1 \\right| }}$\n",
       "$\\newcommand{\\simpl}[1]{{\\Delta^{#1} }}$\n"
      ],
      "text/plain": [
       "<IPython.core.display.Markdown object>"
      ]
     },
     "metadata": {},
     "output_type": "display_data"
    }
   ],
   "source": [
    "%load_latex_macros"
   ]
  },
  {
   "cell_type": "markdown",
   "metadata": {
    "slideshow": {
     "slide_type": "slide"
    }
   },
   "source": [
    "<img src=\"_static/images/aai-institute-cover.svg\" alt=\"Snow\" style=\"width:100%;\">\n",
    "<div class=\"md-slide title\"> Introduction to Offline Reinforcement Learning</div>"
   ]
  },
  {
   "cell_type": "markdown",
   "metadata": {
    "slideshow": {
     "slide_type": "slide"
    }
   },
   "source": [
    "# Introduction to Offline Reinforcement Learning"
   ]
  },
  {
   "cell_type": "markdown",
   "metadata": {
    "slideshow": {
     "slide_type": "slide"
    }
   },
   "source": [
    "Reinforcement learning algorithms mostly use online learning, which can be a challenge for their widespread adoption. RL involves continually learning from the environment by interacting with it based on the current policy and then using this learning to improve the policy.\n",
    "\n",
    "<img src=\"_static/images/nb_90_online_RL_cycle.png\" alt=\"Snow\" style=\"width:30%\">\n",
    "<div class=\"slide title\"> Fig.1 Online RL cycle </div>\n",
    "\n",
    "**Why RL with data could be a very good approach**:\n",
    "\n",
    "- Online interaction isn't always practical or safe due to expensive or risky data collection, especially in fields like robotics and healthcare.\n",
    "\n",
    "- Even when online interaction is possible, there's often a preference for using existing data. This is especially true in complex domains where big datasets are crucial for effective learning.\n",
    "\n",
    "- Rewards could be complicated to build (think about self-driving cars) so if that knowledge is already present in your datasets you should use it. In offline RL you will need anyway to create a reward but it would be usually easier.\n",
    "\n",
    "**Offline Reinforcement Learning: also called Batch Reinforcement Learning, is a type of RL that uses large datasets collected beforehand for real-world applications on a large scale.**\n",
    "\n",
    "**With offline RL, the agent is trained using static datasets without any online interaction or exploration, which sets it apart from online RL methods.**"
   ]
  },
  {
   "cell_type": "markdown",
   "metadata": {
    "slideshow": {
     "slide_type": "slide"
    }
   },
   "source": [
    "**Some examples where offline RL could be highly beneficial:**\n",
    "    \n",
    "**Decision's Making in Health Care**: In healthcare, we can use Markov decision processes to model the diagnosis and treatment of patients. Actions are interventions like tests and treatments, while observations are patient symptoms and test results. Offline RL is safer and more practical than active RL, as treating patients directly with partially trained policies is risky.\n",
    "\n",
    "**Learning Robotic Manipulation Skills**: In robotics, we can use active RL for skill learning, but generalizing skills across different environments is challenging. Offline RL allows us to reuse previously collected data from various skills to accelerate learning of new skills. For example, making soup with onions and carrots can build on experiences with onions and meat or carrots and cucumbers, reducing the need for new data collection.\n",
    "\n",
    "**Autonomous Driving**: Training autonomous vehicles in real-world environments can be dangerous and costly. Offline RL can use data from past driving experiences to improve vehicle control and decision-making, making it safer and more efficient.\n",
    "\n",
    "**Energy Management**: Optimizing energy consumption in buildings or industrial processes can be a critical task. Offline RL can analyze historical energy usage data to develop efficient control strategies, reducing energy costs and environmental impact.\n",
    "\n",
    "**Finance**: Portfolio management and trading strategies often require learning from historical financial data. Offline RL can help develop and refine investment policies by utilizing past market data."
   ]
  },
  {
   "cell_type": "markdown",
   "metadata": {
    "slideshow": {
     "slide_type": "slide"
    }
   },
   "source": [
    "## What is the problem to be solved and how does it differ from online RL?\n",
    "\n",
    "The offline RL problem can be defined as a data-driven approach to the previously seen online RL methods. \n",
    "\n",
    "As before, the goal is to minimize the discounted expected reward. However, as pictured in fig.2, this is also one of the main difference between on-line and offline-rl. In **online RL**:\n",
    "\n",
    "$$\n",
    "J (\\pi) = \\mathbb{E}_{\\tau \\sim \\pi(a|s)^{\\text{online}}}  \\left[ \\sum_{t = 0}^{\\infty} \\gamma^t r (s_t, a_t) \\right] \\simeq\n",
    "{1 \\over n} \\sum_{i=0}^n R(\\tau_i)\n",
    "$$\n",
    "while in **offline RL**:\n",
    "$$\n",
    "J (\\pi) = \\mathbb{E}_{ \\color{red}{\\tau \\in D} \\sim \\pi(a|s)^{\\text{offline}}}  \\left[ \\sum_{t = 0}^{\\infty} \\gamma^t r (s_t, a_t) \\right] \\simeq\n",
    "{1 \\over n} \\sum_{i=0}^n R(\\tau_i)\n",
    "$$\n",
    "with the dataset, $D = \\{ \\tau_i, i=1,..,n \\}$.\n",
    "\n",
    "<img src=\"_static/images/90_offline_vs_online.png\" alt=\"Snow\" style=\"width:50%\">\n",
    "<div class=\"slide title\"> Fig.2 Online vs. Offline RL </div>\n",
    "\n",
    "**The goal of offline RL is to derive an optimal or near-optimal policy directly from $D$ without requiring further interactions with the environment**."
   ]
  },
  {
   "cell_type": "markdown",
   "metadata": {},
   "source": [
    "**As shown in the previous slide, in offline RL, we try to find the best trajectories within the dataset, in contrast to online RL, where the goal is to find the best possible one in the entire space.**\n",
    "\n",
    "<img src=\"_static/images/nb_90_offline_vs_online_optimization.png\" alt=\"Snow\" style=\"width:100%\">"
   ]
  },
  {
   "cell_type": "markdown",
   "metadata": {
    "slideshow": {
     "slide_type": "slide"
    }
   },
   "source": [
    "<img src=\"_static/images/90_online_vs_offline.png\" alt=\"Snow\" style=\"width:80%;\">\n",
    "<div class=\"slide title\"> Fig.3 Online vs. Offline RL </div>\n",
    "\n",
    "**Note that $D$ doesn't necessarily need to be related to the specific task at hand, but it should be sufficiently representative (i.e., containing high-reward regions of the problem). If $D$ is derived from data collected from unrelated tasks, we will need to design our own reward function, just as we did in the online RL setting.**\n",
    "\n",
    "**Notation: The behavior policy, $\\pi_b$ or $\\pi_\\beta$ is usually a suboptimal policy, a random policy or provided by a human expert, or a mixture of them.**\n",
    "\n",
    "As an example of a behavior policy ($\\pi_b$), when training a robot to navigate a room, $\\pi_b$ might involve rules like \"avoid obstacles,\" \"move forward,\" or \"stop.\" It could be operated manually by a human who controls the robot based on sensor data, such as lidar for collision detection, or it could be a combination of suboptimal policies."
   ]
  },
  {
   "cell_type": "markdown",
   "metadata": {
    "slideshow": {
     "slide_type": "slide"
    }
   },
   "source": [
    "## Offline RL vs supervised learning \n",
    "\n",
    "But if the goal of offline RL is to derive an optimal policy from data, why not try a supervised learning approach to learn $\\pi(a|s)$? Is it a viable approach?"
   ]
  },
  {
   "cell_type": "markdown",
   "metadata": {
    "slideshow": {
     "slide_type": "slide"
    }
   },
   "source": [
    "Yes, it is. This approach is called **Imitation Learning (IL).**\n",
    "\n",
    "**Main differences between IL and offline RL:**\n",
    "\n",
    "**1 - In IL, the policy closely mirrors the behavior policy so the collected data is attached to the task you want to solve so it must contain expert data.**\n",
    "\n",
    "**2 - in offline RL, the aim is a superior policy, ideally close to the optimal one, and the data doesn't need to be related to the task to solve and it can be far from optimal.** \n",
    "\n",
    "**3 - In IL you don't need to create a reward function for your task**. Quite useful in situations where creating a reward function directly is not feasible, such as when training a self-driving vehicle. **However, you need a reward function on offline RL**."
   ]
  },
  {
   "cell_type": "markdown",
   "metadata": {
    "slideshow": {
     "slide_type": "slide"
    }
   },
   "source": [
    "**Behavioral Cloning (BC) is one of the simplest imitation learning algorithms**, which essentially involves applying supervised learning to expert data collected during demonstrations:\n",
    "\n",
    "\n",
    "$$ D = \\{(s_0, a_0), (s_1, a_1), \\ldots, (s_T, a_T)\\} \\quad \\tag{Dataset} $$\n",
    "\n",
    "$$\\text{with} \\quad \\pi_{\\theta^*}(s_t) \\text{ s.t. } \\theta^* = argmin_\\theta  L_{BC}(\\theta) \\tag{learned policy}$$\n",
    "\n",
    "$$\\text{and} \\quad L_{BC}(\\theta) = \\sum_{t=0}^T \\left(\\pi_\\theta(s_t) - a_t\\right)^2 \\tag{Cost function}$$\n",
    "\n",
    "\n",
    "and, $\\pi_\\theta(s_t)$, typically a DNN. BC aims to minimize the discrepancy between the actions produced by the learned policy and the actions demonstrated by the expert."
   ]
  },
  {
   "cell_type": "markdown",
   "metadata": {
    "slideshow": {
     "slide_type": "slide"
    }
   },
   "source": [
    "**IMPORTANT: In general, offline RL tends to outperform imitation learning in terms of performance, but imitation learning is faster and cheaper. If you have a fair amount of expert data, it can provide good results quickly and cost-effectively compared to offline RL.**"
   ]
  },
  {
   "cell_type": "markdown",
   "metadata": {},
   "source": [
    "**Summary so far**:\n",
    "\n",
    "- Online RL aims to find the best trajectories for a given task, whereas offline RL aims to find the best trajectories (combination of dataset trajectories) for the task within the provided dataset.\n",
    "\n",
    "- Offline RL can utilize datasets generated from different tasks, requiring the definition of rewards in such cases.\n",
    "\n",
    "- There are two primary approaches for offline learning: Imitation learning and Offline RL."
   ]
  },
  {
   "cell_type": "markdown",
   "metadata": {
    "slideshow": {
     "slide_type": "slide"
    }
   },
   "source": [
    "## Online vs offline learning comparison.\n",
    "\n",
    "We will now compare online RL with the previously introduced offline methods: Offline RL and IL.\n",
    "\n",
    "One of the key distinction between online RL and offline RL/IL lies in their exploration capabilities. In online RL, we actively explore the state-action space, while offline RL/IL operates solely within a fixed dataset (denoted as $D$). Going \"out of distribution\" beyond this dataset in offline RL/IL can lead to severe issues.\n",
    "\n",
    "<img src=\"_static/images/offline_RL.jpg\" alt=\"offline_rl\" style=\"width:60%;\">"
   ]
  },
  {
   "cell_type": "markdown",
   "metadata": {
    "slideshow": {
     "slide_type": "slide"
    }
   },
   "source": [
    "**Online RL involves interactive exploration to discover the highest-reward regions** by gathering environmental feedback. In contrast, **offline RL imposes strict limitations on exploration beyond the dataset. This constraint results in algorithms overestimating unknown areas and attempting to navigate beyond the dataset**, as illustrated in the figure below where the dataset doesn't fully represent high-reward regions.\n",
    "\n",
    "<img src=\"_static/images/offline_RL_3.jpg\" alt=\"offline_rl_1\" style=\"width:50%;\">\n",
    "\n",
    "As shown in the figure above on the right, once you are out of distribution (o.o.d) (states $s$ and $s'$ in red), as you don't have any feedback it will be hard to come back to $D$, as the o.o.d errors will propagate. As we will see this is one of the main challenges of offline RL and there are different techniques to mitigate this wrong behavior. "
   ]
  },
  {
   "cell_type": "markdown",
   "metadata": {},
   "source": [
    "**If you don't follow the explanation below, don't worry; just accept that once out of distribution (o.o.d.) occurs, it will be hard to return to in-distribution**\n",
    "\n",
    "Let's try to get some intuition:\n",
    "\n",
    "Consider a cost function given by: $ c(s,a) = 0  \\text{ if } a = \\pi^\\beta(s)$, otherwise $c(s,a)=1$, where $\\pi^\\beta(s)$ represents the behavior policy.  Additionally, assume that $ \\pi_\\theta (a \\ne \\pi^\\beta(s) | s) \\le \\epsilon \\text{ for all } s \\in D_{\\text{train}} $ . The total error can then be estimated as:\n",
    "\n",
    "\n",
    "<img src=\"_static/images/93_imitation_learning.png\" alt=\"Snow\" style=\"width:80%;\">\n",
    "<div class=\"slide title\"> Fig.1 Assume that if the agent goes out-of-distribution, it is unlikely to recover. </div>\n",
    "\n",
    "$$ \\mathbb{E} \\left[ \\sum_t c(s_t, a_t) \\right] \\le \\epsilon H + (1 - \\epsilon) (\\epsilon (H-1) +  ... ) \\sim O(\\epsilon H^2)$$\n",
    "\n",
    "with $H$ being the time horizon.\n",
    "\n",
    "Question: What is the error if the episode terminate as soon as you are out-of-distribution?\n",
    "\n",
    "Solution: The error is of $O(\\epsilon H)$."
   ]
  },
  {
   "cell_type": "markdown",
   "metadata": {
    "slideshow": {
     "slide_type": "slide"
    }
   },
   "source": [
    "<img src=\"_static/images/nb_90_missing_point.png\" alt=\"offline_rl_1\" style=\"width:100%;\">\n",
    "\n",
    "**When working with datasets, sometimes important data is missing, especially if it's hard for the behavioral policy to collect (left figure). A good offline RL algorithm should be able to generate this missing data, which is impossible for imitation learning.**\n",
    "\n",
    "**On the other hand, if the data is missing because it's outside the behavior policy's capabilities (i.e., it's truly o.o.d. data), then the algorithm should detect this and avoid generating it. There could be valid reasons why these states were excluded during data collection.**\n"
   ]
  },
  {
   "cell_type": "markdown",
   "metadata": {
    "slideshow": {
     "slide_type": "slide"
    }
   },
   "source": [
    "**This is not a major issue in general but it is important to mention**:\n",
    "\n",
    "**The o.o.d. issues are not the only distributional shift effect in offline RL**.\n",
    "After computing the optimal policy, it typically operates within a subset of the original dataset distribution, creating a distinct form of distributional shift (D' subset in green in the figure below). Evaluating a policy substantially different from the behavior policy reduces the effective sample size (from D to D'), resulting in increased variance in the estimates. In simpler terms, the limited number of data points may not accurately represent the true data distribution. \n",
    "\n",
    "<img src=\"_static/images/offline_RL_2.jpg\" alt=\"offline_rl_2\" style=\"width:60%;\">"
   ]
  },
  {
   "cell_type": "markdown",
   "metadata": {
    "slideshow": {
     "slide_type": "slide"
    }
   },
   "source": [
    "**So far, we have focused on the differences between online and offline RL, but as we will see, there are many points of contact. We will later explore how different techniques from online RL, particularly those from off-policy RL, can be applied to offline RL.**"
   ]
  },
  {
   "cell_type": "markdown",
   "metadata": {},
   "source": [
    "**Summary**:\n",
    "\n",
    "- In offline learning, it's important to avoid out-of-distribution (o.o.d.) data since there may be valid reasons why these points are excluded from the dataset. Additionally, transitioning back to in-distribution data after encountering o.o.d. data can be challenging. This is not a concern in online RL.\n",
    "\n",
    "- In offline learning, when data is missing from your dataset, it's difficult to predict whether it's due to collection issues or if it's truly an out-of-distribution (o.o.d.) case. Imitation Learning (IL) cannot address this issue, but Offline RL attempts to determine the situation. If the data belongs to the behavioral policy distribution, it should be added since it could lead the agent to a high-reward region.\n",
    "\n",
    "- If your dataset lacks representative data, there's little you can do, and the solution is to collect more high-quality data."
   ]
  },
  {
   "cell_type": "markdown",
   "metadata": {
    "slideshow": {
     "slide_type": "slide"
    }
   },
   "source": [
    "## Offline RL/IL pipeline\n",
    "\n",
    "<img src=\"_static/images/93_offline_RL_pipeline.png\" alt=\"Snow\" style=\"width:80%;\">\n",
    "\n",
    "1 - **Data**: Typically, you'll have a simulator/environment along with a behavior policy, $\\pi_b(a|s)$, or access to historical data.\n",
    "\n",
    "2 - **Dataset Manipulation**: We'll adopt a standard format widely used in the offline RL community, facilitated by the Minari library, which will be introduced later.\n",
    "\n",
    "3/4/5 -  **Dataset Feeding, Algorithm Selection, and Training**: These tasks will be carried out using the Tianshou RL library."
   ]
  },
  {
   "cell_type": "markdown",
   "metadata": {
    "slideshow": {
     "slide_type": "slide"
    }
   },
   "source": [
    "## Important Note\n",
    "\n",
    "For our exercises, **we'll primarily use a 2D grid environment for two important reasons**:\n",
    "\n",
    "\n",
    "  1. **It allows for quick training and data collection**, making trainings and \n",
    "       data-collection quite fast giving you the possibility to play around in the \n",
    "       workshop!\n",
    "       \n",
    "    \n",
    "  2. **Simplifying and customizing the environment to introduce varying levels of complexity in a controlled \n",
    "       manner, along with the option to create your own straightforward behavior policies**, can facilitate a\n",
    "       clearer exploration of the core concepts and advantages of offline Reinforcement Learning (RL), which \n",
    "       can be quite challenging or almost impossible with high-dimensional spaces.**\n",
    "\n",
    "**Please note that the code provided (/offline_rl folder) is adaptable to tackle more intricate environments and tasks**. Don't hesitate to experiment with it on your own. Be prepared for some patience, as training in RL can be time-consuming when dealing with complex problems!"
   ]
  },
  {
   "cell_type": "markdown",
   "metadata": {
    "slideshow": {
     "slide_type": "slide"
    }
   },
   "source": [
    "## Summary:\n",
    "\n",
    "To be done together.\n",
    "\n",
    "\n",
    "### Program for the rest of the day:\n",
    "\n",
    "**2nd workshop day: Morning**\n",
    "\n",
    "A - Dataset libraries: Minari overview + exercises.\n",
    "\n",
    "B - Imitation learning theory: BC/Dagger (Transformers if time allow) + exercises.\n",
    "\n",
    "**2nd workshop day: Afternoon**\n",
    "\n",
    "C - Offline RL theory (Different kind of algorithms) + exercises."
   ]
  },
  {
   "cell_type": "markdown",
   "metadata": {
    "slideshow": {
     "slide_type": "slide"
    }
   },
   "source": [
    "## References\n",
    "\n",
    "[ Levine et al. '2021 - Offline Reinforcement Learning: Tutorial, Review,\n",
    "and Perspectives on Open Problems ](https://arxiv.org/pdf/2005.01643.pdf).\n",
    "\n",
    "[Prudencio et al. ' 2023 - A Survey on Offline Reinforcement Learning: Taxonomy, Review, and Open Problems ](https://arxiv.org/pdf/2203.01387.pdf)."
   ]
  },
  {
   "cell_type": "code",
   "execution_count": null,
   "metadata": {},
   "outputs": [],
   "source": []
  }
 ],
 "metadata": {
  "celltoolbar": "Slideshow",
  "kernelspec": {
   "display_name": "Python 3 (ipykernel)",
   "language": "python",
   "name": "python3"
  },
  "language_info": {
   "codemirror_mode": {
    "name": "ipython",
    "version": 3
   },
   "file_extension": ".py",
   "mimetype": "text/x-python",
   "name": "python",
   "nbconvert_exporter": "python",
   "pygments_lexer": "ipython3",
   "version": "3.11.8"
  },
  "toc": {
   "base_numbering": 1,
   "nav_menu": {},
   "number_sections": true,
   "sideBar": true,
   "skip_h1_title": false,
   "title_cell": "Table of Contents",
   "title_sidebar": "Contents",
   "toc_cell": false,
   "toc_position": {
    "height": "calc(100% - 180px)",
    "left": "10px",
    "top": "150px",
    "width": "184.1px"
   },
   "toc_section_display": true,
   "toc_window_display": true
  }
 },
 "nbformat": 4,
 "nbformat_minor": 1
}
